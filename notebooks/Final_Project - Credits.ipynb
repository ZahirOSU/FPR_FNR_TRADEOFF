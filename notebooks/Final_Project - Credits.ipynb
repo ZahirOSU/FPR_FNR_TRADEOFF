{
 "cells": [
  {
   "cell_type": "markdown",
   "metadata": {},
   "source": [
    "# The German Credit XGBoost model"
   ]
  },
  {
   "cell_type": "markdown",
   "metadata": {},
   "source": [
    "### The Data"
   ]
  },
  {
   "cell_type": "markdown",
   "metadata": {
    "_uuid": "6f9d55e2cd5792dc66d332ef3ccafde266046ce4",
    "id": "uOcS5s3VZKFq"
   },
   "source": [
    "The German Credit data set is a publically available data set downloaded from the UCI Machine Learning Repository. The data contains data on 20 variables and the classification whether an applicant is considered a Good or a Bad credit risk for 1000 loan applicants.\n",
    "\n",
    "#### [Data Source](https://archive.ics.uci.edu/ml/datasets/statlog+(german+credit+data))\n",
    "- Professor Dr. Hans Hofmann  \n",
    "- Institut f\"ur Statistik und \"Okonometrie  \n",
    "- Universit\"at Hamburg  \n",
    "- FB Wirtschaftswissenschaften  \n",
    "- Von-Melle-Park 5    \n",
    "- 2000 Hamburg 13\n",
    "\n",
    "#### Benchmark\n",
    "![Credit Risk Classification: Faster Machine Learning with Intel Optimized Packages](https://i.imgur.com/nL1l7WI.png)\n",
    "\n",
    "according to [1] the best model is Random Forest with balanced feature selection data. it's has Accuracy 82%, Precision 84%, Recall 82% and F1-Score 81%. \n",
    "\n",
    "<br>\n",
    "\n",
    "\n",
    "The goal of this kernel is to beat The benchmark with  :\n",
    "- Convert dataset to Machine Learning friendly (Feature Engginering)\n",
    "- Develop XGBoost model to predict whether a loan is a good or bad risk.\n",
    "- Find the Best parameter for XGBoost Model (Hyperparameter Tunning)\n",
    "- Beat the Benchmark"
   ]
  },
  {
   "cell_type": "markdown",
   "metadata": {
    "_uuid": "86c6a56e4b0988d902401370b957f63f4f2754f1",
    "id": "oZH67UWnA915"
   },
   "source": [
    "### Import Library"
   ]
  },
  {
   "cell_type": "code",
   "execution_count": 1,
   "metadata": {
    "_uuid": "fa1b3ac82eb8fe1b02d69fab3a10b621f1392484",
    "id": "UQUQbCn-LIjR",
    "jupyter": {
     "outputs_hidden": true
    }
   },
   "outputs": [],
   "source": [
    "#Importing necessary packages in Python \n",
    "%matplotlib inline \n",
    "import matplotlib.pyplot as plt \n",
    "\n",
    "import numpy as np ; np.random.seed(sum(map(ord, \"aesthetics\")))\n",
    "import pandas as pd\n",
    "\n",
    "from sklearn.datasets import make_classification \n",
    "from sklearn.model_selection import learning_curve\n",
    "#from sklearn.cross_validation import train_test_split \n",
    "#from sklearn.grid_search import GridSearchCV\n",
    "#from sklearn.cross_validation import ShuffleSplit\n",
    "from sklearn.metrics import classification_report,confusion_matrix, roc_curve, roc_auc_score, auc, accuracy_score\n",
    "from sklearn.model_selection import ShuffleSplit,train_test_split, cross_val_score, GridSearchCV\n",
    "from sklearn.preprocessing import OneHotEncoder, LabelEncoder, label_binarize, StandardScaler, MinMaxScaler\n",
    "\n",
    "import seaborn \n",
    "seaborn.set_context('notebook') \n",
    "seaborn.set_style(style='darkgrid')\n",
    "\n",
    "from pprint import pprint \n",
    " \n"
   ]
  },
  {
   "cell_type": "markdown",
   "metadata": {
    "_uuid": "e53977fea8ba2969bb815820b810ae0798f79ff3",
    "id": "HvfBj0KiBC1m"
   },
   "source": [
    "### Evaluation Function\n"
   ]
  },
  {
   "cell_type": "code",
   "execution_count": 2,
   "metadata": {
    "_uuid": "ad532098b4568aab69e710aa1b73097b0aeaa56a",
    "id": "Y5FAGSW_K_il",
    "jupyter": {
     "outputs_hidden": true
    }
   },
   "outputs": [],
   "source": [
    "# Function for evaluation reports\n",
    "def get_eval1(clf, X,y):\n",
    "    # Cross Validation to test and anticipate overfitting problem\n",
    "    scores1 = cross_val_score(clf, X, y, cv=2, scoring='accuracy')\n",
    "    scores2 = cross_val_score(clf, X, y, cv=2, scoring='precision')\n",
    "    scores3 = cross_val_score(clf, X, y, cv=2, scoring='recall')\n",
    "    scores4 = cross_val_score(clf, X, y, cv=2, scoring='roc_auc')\n",
    "    \n",
    "    # The mean score and standard deviation of the score estimate\n",
    "    print(\"Cross Validation Accuracy: %0.2f (+/- %0.2f)\" % (scores1.mean(), scores1.std()))\n",
    "    print(\"Cross Validation Precision: %0.2f (+/- %0.2f)\" % (scores2.mean(), scores2.std()))\n",
    "    print(\"Cross Validation Recall: %0.2f (+/- %0.2f)\" % (scores3.mean(), scores3.std()))\n",
    "    print(\"Cross Validation roc_auc: %0.2f (+/- %0.2f)\" % (scores4.mean(), scores4.std()))\n",
    "    \n",
    "    return \n",
    "\n",
    "def get_eval2(clf, X_train, y_train,X_test, y_test):\n",
    "    # Cross Validation to test and anticipate overfitting problem\n",
    "    scores1 = cross_val_score(clf, X_test, y_test, cv=2, scoring='accuracy')\n",
    "    scores2 = cross_val_score(clf, X_test, y_test, cv=2, scoring='precision')\n",
    "    scores3 = cross_val_score(clf, X_test, y_test, cv=2, scoring='recall')\n",
    "    scores4 = cross_val_score(clf, X_test, y_test, cv=2, scoring='roc_auc')\n",
    "    \n",
    "    # The mean score and standard deviation of the score estimate\n",
    "    print(\"Cross Validation Accuracy: %0.2f (+/- %0.2f)\" % (scores1.mean(), scores1.std()))\n",
    "    print(\"Cross Validation Precision: %0.2f (+/- %0.2f)\" % (scores2.mean(), scores2.std()))\n",
    "    print(\"Cross Validation Recall: %0.2f (+/- %0.2f)\" % (scores3.mean(), scores3.std()))\n",
    "    print(\"Cross Validation roc_auc: %0.2f (+/- %0.2f)\" % (scores4.mean(), scores4.std()))\n",
    "    \n",
    "    return  \n",
    "  \n",
    "# Function to get roc curve\n",
    "def get_roc (y_test,y_pred):\n",
    "    # Compute ROC curve and ROC area for each class\n",
    "    fpr = dict()\n",
    "    tpr = dict()\n",
    "    roc_auc = dict()\n",
    "    fpr, tpr, _ = roc_curve(y_test, y_pred)\n",
    "    roc_auc = auc(fpr, tpr)\n",
    "    #Plot of a ROC curve\n",
    "    plt.figure()\n",
    "    lw = 2\n",
    "    plt.plot(fpr, tpr, color='darkorange',\n",
    "             label='ROC curve (area = %0.2f)' % roc_auc)\n",
    "    plt.plot([0, 1], [0, 1], color='navy', lw=lw, linestyle='--')\n",
    "    plt.xlim([0.0, 1.0])\n",
    "    plt.ylim([0.0, 1.0])\n",
    "    plt.xlabel('False Positive Rate')\n",
    "    plt.ylabel('True Positive Rate')\n",
    "    plt.title('Receiver operating characteristic')\n",
    "    plt.legend(loc=\"upper left\")\n",
    "    plt.show()\n",
    "    return\n"
   ]
  },
  {
   "cell_type": "markdown",
   "metadata": {
    "_uuid": "148a2b3cfebaac7674b5bb78496d1cf0266a26cf",
    "id": "ktQtae8aBGPQ"
   },
   "source": [
    "### XGBoost Model"
   ]
  },
  {
   "cell_type": "code",
   "execution_count": 3,
   "metadata": {
    "_uuid": "a7b80d642ccc18e23b9a0ece9c7f57eca3c67cfd",
    "id": "qOM2Y0A8CGN8",
    "jupyter": {
     "outputs_hidden": true
    }
   },
   "outputs": [],
   "source": [
    "import warnings\n",
    "warnings.filterwarnings(\"ignore\", category=DeprecationWarning) \n",
    "\n",
    "import xgboost as xgb\n",
    "from xgboost import XGBClassifier\n",
    "#print('XGBoost v',xgb.__version__)\n",
    "\n",
    "# fit, train and cross validate Decision Tree with training and test data \n",
    "def xgbclf(params, X_train, y_train,X_test, y_test):\n",
    "  \n",
    "    eval_set=[(X_train, y_train), (X_test, y_test)]\n",
    "    \n",
    "    model = XGBClassifier(**params).\\\n",
    "      fit(X_train, y_train, eval_set=eval_set, \\\n",
    "                  eval_metric='auc', early_stopping_rounds = 100, verbose=100)\n",
    "        \n",
    "    #print(model.best_ntree_limit)\n",
    "\n",
    "    model.set_params(**{'n_estimators': model.best_ntree_limit})\n",
    "    model.fit(X_train, y_train)\n",
    "    #print(model,'\\n')\n",
    "    \n",
    "    # Predict target variables y for test data\n",
    "    y_pred = model.predict(X_test, ntree_limit=model.best_ntree_limit) #model.best_iteration\n",
    "    #print(y_pred)\n",
    "   \n",
    "    # Get Cross Validation and Confusion matrix\n",
    "    #get_eval(model, X_train, y_train)\n",
    "    #get_eval2(model, X_train, y_train,X_test, y_test)\n",
    "    \n",
    "    # Create and print confusion matrix    \n",
    "    abclf_cm = confusion_matrix(y_test,y_pred)\n",
    "    print(abclf_cm)\n",
    "    \n",
    "    #y_pred = model.predict(X_test)\n",
    "    print (classification_report(y_test,y_pred) )\n",
    "    print ('\\n')\n",
    "    print (\"Model Final Generalization Accuracy: %.6f\" %accuracy_score(y_test,y_pred) )\n",
    "    \n",
    "    # Predict probabilities target variables y for test data\n",
    "    y_pred_proba = model.predict_proba(X_test, ntree_limit=model.best_ntree_limit)[:,1] #model.best_iteration\n",
    "    get_roc (y_test,y_pred_proba)\n",
    "    return model\n",
    "\n",
    "def plot_featureImportance(model, keys):\n",
    "  importances = model.feature_importances_\n",
    "\n",
    "  importance_frame = pd.DataFrame({'Importance': list(importances), 'Feature': list(keys)})\n",
    "  importance_frame.sort_values(by = 'Importance', inplace = True)\n",
    "  importance_frame.tail(10).plot(kind = 'barh', x = 'Feature', figsize = (8,8), color = 'orange')"
   ]
  },
  {
   "cell_type": "markdown",
   "metadata": {
    "_uuid": "2e8d5ce5e9daf39d851ca53856f640a90156745a",
    "id": "b9VmiiUDCvRV"
   },
   "source": [
    "### Preprocess\n",
    "- Importing Dataset\n",
    "- StandardScaler\n",
    "- Encoding Categorical Feature\n",
    "- Concate Transformed Dataset\n",
    "- Split Training Dataset\n",
    "- XGBoost  1a: Unbalance Dataset (Base Model: ROC_AUC:0.74)\n",
    "- XGBoost  1b: Unbalance Dataset (ROC_AUC:0.79)"
   ]
  },
  {
   "cell_type": "markdown",
   "metadata": {
    "_uuid": "366cfb21b371f12c5bbf005342de219717fde974",
    "id": "L4G0iMwfKb4J"
   },
   "source": [
    "### Import Dataset\n",
    "\n",
    "OK let's get started. We'll download the data from the UCI website."
   ]
  },
  {
   "cell_type": "code",
   "execution_count": 4,
   "metadata": {
    "_uuid": "4807a2a54ddeb7ecb9142b586088ea672103d4ff",
    "colab": {
     "base_uri": "https://localhost:8080/",
     "height": 498
    },
    "id": "YYgBTbPj1fbQ",
    "jupyter": {
     "outputs_hidden": true
    },
    "outputId": "ee90853d-6701-418a-ca9c-b67eb4a59109"
   },
   "outputs": [
    {
     "name": "stdout",
     "output_type": "stream",
     "text": [
      "(1000, 21)\n",
      "Index(['existingchecking', 'duration', 'credithistory', 'purpose',\n",
      "       'creditamount', 'savings', 'employmentsince', 'installmentrate',\n",
      "       'statussex', 'otherdebtors', 'residencesince', 'property', 'age',\n",
      "       'otherinstallmentplans', 'housing', 'existingcredits', 'job',\n",
      "       'peopleliable', 'telephone', 'foreignworker', 'classification'],\n",
      "      dtype='object')\n"
     ]
    },
    {
     "data": {
      "text/html": [
       "<div>\n",
       "<style scoped>\n",
       "    .dataframe tbody tr th:only-of-type {\n",
       "        vertical-align: middle;\n",
       "    }\n",
       "\n",
       "    .dataframe tbody tr th {\n",
       "        vertical-align: top;\n",
       "    }\n",
       "\n",
       "    .dataframe thead th {\n",
       "        text-align: right;\n",
       "    }\n",
       "</style>\n",
       "<table border=\"1\" class=\"dataframe\">\n",
       "  <thead>\n",
       "    <tr style=\"text-align: right;\">\n",
       "      <th></th>\n",
       "      <th>existingchecking</th>\n",
       "      <th>duration</th>\n",
       "      <th>credithistory</th>\n",
       "      <th>purpose</th>\n",
       "      <th>creditamount</th>\n",
       "      <th>savings</th>\n",
       "      <th>employmentsince</th>\n",
       "      <th>installmentrate</th>\n",
       "      <th>statussex</th>\n",
       "      <th>otherdebtors</th>\n",
       "      <th>...</th>\n",
       "      <th>property</th>\n",
       "      <th>age</th>\n",
       "      <th>otherinstallmentplans</th>\n",
       "      <th>housing</th>\n",
       "      <th>existingcredits</th>\n",
       "      <th>job</th>\n",
       "      <th>peopleliable</th>\n",
       "      <th>telephone</th>\n",
       "      <th>foreignworker</th>\n",
       "      <th>classification</th>\n",
       "    </tr>\n",
       "  </thead>\n",
       "  <tbody>\n",
       "    <tr>\n",
       "      <th>0</th>\n",
       "      <td>A11</td>\n",
       "      <td>6</td>\n",
       "      <td>A34</td>\n",
       "      <td>A43</td>\n",
       "      <td>1169</td>\n",
       "      <td>A65</td>\n",
       "      <td>A75</td>\n",
       "      <td>4</td>\n",
       "      <td>A93</td>\n",
       "      <td>A101</td>\n",
       "      <td>...</td>\n",
       "      <td>A121</td>\n",
       "      <td>67</td>\n",
       "      <td>A143</td>\n",
       "      <td>A152</td>\n",
       "      <td>2</td>\n",
       "      <td>A173</td>\n",
       "      <td>1</td>\n",
       "      <td>A192</td>\n",
       "      <td>A201</td>\n",
       "      <td>1</td>\n",
       "    </tr>\n",
       "    <tr>\n",
       "      <th>1</th>\n",
       "      <td>A12</td>\n",
       "      <td>48</td>\n",
       "      <td>A32</td>\n",
       "      <td>A43</td>\n",
       "      <td>5951</td>\n",
       "      <td>A61</td>\n",
       "      <td>A73</td>\n",
       "      <td>2</td>\n",
       "      <td>A92</td>\n",
       "      <td>A101</td>\n",
       "      <td>...</td>\n",
       "      <td>A121</td>\n",
       "      <td>22</td>\n",
       "      <td>A143</td>\n",
       "      <td>A152</td>\n",
       "      <td>1</td>\n",
       "      <td>A173</td>\n",
       "      <td>1</td>\n",
       "      <td>A191</td>\n",
       "      <td>A201</td>\n",
       "      <td>2</td>\n",
       "    </tr>\n",
       "    <tr>\n",
       "      <th>2</th>\n",
       "      <td>A14</td>\n",
       "      <td>12</td>\n",
       "      <td>A34</td>\n",
       "      <td>A46</td>\n",
       "      <td>2096</td>\n",
       "      <td>A61</td>\n",
       "      <td>A74</td>\n",
       "      <td>2</td>\n",
       "      <td>A93</td>\n",
       "      <td>A101</td>\n",
       "      <td>...</td>\n",
       "      <td>A121</td>\n",
       "      <td>49</td>\n",
       "      <td>A143</td>\n",
       "      <td>A152</td>\n",
       "      <td>1</td>\n",
       "      <td>A172</td>\n",
       "      <td>2</td>\n",
       "      <td>A191</td>\n",
       "      <td>A201</td>\n",
       "      <td>1</td>\n",
       "    </tr>\n",
       "    <tr>\n",
       "      <th>3</th>\n",
       "      <td>A11</td>\n",
       "      <td>42</td>\n",
       "      <td>A32</td>\n",
       "      <td>A42</td>\n",
       "      <td>7882</td>\n",
       "      <td>A61</td>\n",
       "      <td>A74</td>\n",
       "      <td>2</td>\n",
       "      <td>A93</td>\n",
       "      <td>A103</td>\n",
       "      <td>...</td>\n",
       "      <td>A122</td>\n",
       "      <td>45</td>\n",
       "      <td>A143</td>\n",
       "      <td>A153</td>\n",
       "      <td>1</td>\n",
       "      <td>A173</td>\n",
       "      <td>2</td>\n",
       "      <td>A191</td>\n",
       "      <td>A201</td>\n",
       "      <td>1</td>\n",
       "    </tr>\n",
       "    <tr>\n",
       "      <th>4</th>\n",
       "      <td>A11</td>\n",
       "      <td>24</td>\n",
       "      <td>A33</td>\n",
       "      <td>A40</td>\n",
       "      <td>4870</td>\n",
       "      <td>A61</td>\n",
       "      <td>A73</td>\n",
       "      <td>3</td>\n",
       "      <td>A93</td>\n",
       "      <td>A101</td>\n",
       "      <td>...</td>\n",
       "      <td>A124</td>\n",
       "      <td>53</td>\n",
       "      <td>A143</td>\n",
       "      <td>A153</td>\n",
       "      <td>2</td>\n",
       "      <td>A173</td>\n",
       "      <td>2</td>\n",
       "      <td>A191</td>\n",
       "      <td>A201</td>\n",
       "      <td>2</td>\n",
       "    </tr>\n",
       "    <tr>\n",
       "      <th>5</th>\n",
       "      <td>A14</td>\n",
       "      <td>36</td>\n",
       "      <td>A32</td>\n",
       "      <td>A46</td>\n",
       "      <td>9055</td>\n",
       "      <td>A65</td>\n",
       "      <td>A73</td>\n",
       "      <td>2</td>\n",
       "      <td>A93</td>\n",
       "      <td>A101</td>\n",
       "      <td>...</td>\n",
       "      <td>A124</td>\n",
       "      <td>35</td>\n",
       "      <td>A143</td>\n",
       "      <td>A153</td>\n",
       "      <td>1</td>\n",
       "      <td>A172</td>\n",
       "      <td>2</td>\n",
       "      <td>A192</td>\n",
       "      <td>A201</td>\n",
       "      <td>1</td>\n",
       "    </tr>\n",
       "    <tr>\n",
       "      <th>6</th>\n",
       "      <td>A14</td>\n",
       "      <td>24</td>\n",
       "      <td>A32</td>\n",
       "      <td>A42</td>\n",
       "      <td>2835</td>\n",
       "      <td>A63</td>\n",
       "      <td>A75</td>\n",
       "      <td>3</td>\n",
       "      <td>A93</td>\n",
       "      <td>A101</td>\n",
       "      <td>...</td>\n",
       "      <td>A122</td>\n",
       "      <td>53</td>\n",
       "      <td>A143</td>\n",
       "      <td>A152</td>\n",
       "      <td>1</td>\n",
       "      <td>A173</td>\n",
       "      <td>1</td>\n",
       "      <td>A191</td>\n",
       "      <td>A201</td>\n",
       "      <td>1</td>\n",
       "    </tr>\n",
       "    <tr>\n",
       "      <th>7</th>\n",
       "      <td>A12</td>\n",
       "      <td>36</td>\n",
       "      <td>A32</td>\n",
       "      <td>A41</td>\n",
       "      <td>6948</td>\n",
       "      <td>A61</td>\n",
       "      <td>A73</td>\n",
       "      <td>2</td>\n",
       "      <td>A93</td>\n",
       "      <td>A101</td>\n",
       "      <td>...</td>\n",
       "      <td>A123</td>\n",
       "      <td>35</td>\n",
       "      <td>A143</td>\n",
       "      <td>A151</td>\n",
       "      <td>1</td>\n",
       "      <td>A174</td>\n",
       "      <td>1</td>\n",
       "      <td>A192</td>\n",
       "      <td>A201</td>\n",
       "      <td>1</td>\n",
       "    </tr>\n",
       "    <tr>\n",
       "      <th>8</th>\n",
       "      <td>A14</td>\n",
       "      <td>12</td>\n",
       "      <td>A32</td>\n",
       "      <td>A43</td>\n",
       "      <td>3059</td>\n",
       "      <td>A64</td>\n",
       "      <td>A74</td>\n",
       "      <td>2</td>\n",
       "      <td>A91</td>\n",
       "      <td>A101</td>\n",
       "      <td>...</td>\n",
       "      <td>A121</td>\n",
       "      <td>61</td>\n",
       "      <td>A143</td>\n",
       "      <td>A152</td>\n",
       "      <td>1</td>\n",
       "      <td>A172</td>\n",
       "      <td>1</td>\n",
       "      <td>A191</td>\n",
       "      <td>A201</td>\n",
       "      <td>1</td>\n",
       "    </tr>\n",
       "    <tr>\n",
       "      <th>9</th>\n",
       "      <td>A12</td>\n",
       "      <td>30</td>\n",
       "      <td>A34</td>\n",
       "      <td>A40</td>\n",
       "      <td>5234</td>\n",
       "      <td>A61</td>\n",
       "      <td>A71</td>\n",
       "      <td>4</td>\n",
       "      <td>A94</td>\n",
       "      <td>A101</td>\n",
       "      <td>...</td>\n",
       "      <td>A123</td>\n",
       "      <td>28</td>\n",
       "      <td>A143</td>\n",
       "      <td>A152</td>\n",
       "      <td>2</td>\n",
       "      <td>A174</td>\n",
       "      <td>1</td>\n",
       "      <td>A191</td>\n",
       "      <td>A201</td>\n",
       "      <td>2</td>\n",
       "    </tr>\n",
       "  </tbody>\n",
       "</table>\n",
       "<p>10 rows × 21 columns</p>\n",
       "</div>"
      ],
      "text/plain": [
       "  existingchecking  duration credithistory purpose  creditamount savings  \\\n",
       "0              A11         6           A34     A43          1169     A65   \n",
       "1              A12        48           A32     A43          5951     A61   \n",
       "2              A14        12           A34     A46          2096     A61   \n",
       "3              A11        42           A32     A42          7882     A61   \n",
       "4              A11        24           A33     A40          4870     A61   \n",
       "5              A14        36           A32     A46          9055     A65   \n",
       "6              A14        24           A32     A42          2835     A63   \n",
       "7              A12        36           A32     A41          6948     A61   \n",
       "8              A14        12           A32     A43          3059     A64   \n",
       "9              A12        30           A34     A40          5234     A61   \n",
       "\n",
       "  employmentsince  installmentrate statussex otherdebtors  ...  property age  \\\n",
       "0             A75                4       A93         A101  ...      A121  67   \n",
       "1             A73                2       A92         A101  ...      A121  22   \n",
       "2             A74                2       A93         A101  ...      A121  49   \n",
       "3             A74                2       A93         A103  ...      A122  45   \n",
       "4             A73                3       A93         A101  ...      A124  53   \n",
       "5             A73                2       A93         A101  ...      A124  35   \n",
       "6             A75                3       A93         A101  ...      A122  53   \n",
       "7             A73                2       A93         A101  ...      A123  35   \n",
       "8             A74                2       A91         A101  ...      A121  61   \n",
       "9             A71                4       A94         A101  ...      A123  28   \n",
       "\n",
       "   otherinstallmentplans housing existingcredits   job peopleliable  \\\n",
       "0                   A143    A152               2  A173            1   \n",
       "1                   A143    A152               1  A173            1   \n",
       "2                   A143    A152               1  A172            2   \n",
       "3                   A143    A153               1  A173            2   \n",
       "4                   A143    A153               2  A173            2   \n",
       "5                   A143    A153               1  A172            2   \n",
       "6                   A143    A152               1  A173            1   \n",
       "7                   A143    A151               1  A174            1   \n",
       "8                   A143    A152               1  A172            1   \n",
       "9                   A143    A152               2  A174            1   \n",
       "\n",
       "   telephone foreignworker classification  \n",
       "0       A192          A201              1  \n",
       "1       A191          A201              2  \n",
       "2       A191          A201              1  \n",
       "3       A191          A201              1  \n",
       "4       A191          A201              2  \n",
       "5       A192          A201              1  \n",
       "6       A191          A201              1  \n",
       "7       A192          A201              1  \n",
       "8       A191          A201              1  \n",
       "9       A191          A201              2  \n",
       "\n",
       "[10 rows x 21 columns]"
      ]
     },
     "execution_count": 4,
     "metadata": {},
     "output_type": "execute_result"
    }
   ],
   "source": [
    "url = \"http://archive.ics.uci.edu/ml/machine-learning-databases/statlog/german/german.data\"\n",
    "\n",
    "names = ['existingchecking', 'duration', 'credithistory', 'purpose', 'creditamount', \n",
    "         'savings', 'employmentsince', 'installmentrate', 'statussex', 'otherdebtors', \n",
    "         'residencesince', 'property', 'age', 'otherinstallmentplans', 'housing', \n",
    "         'existingcredits', 'job', 'peopleliable', 'telephone', 'foreignworker', 'classification']\n",
    "\n",
    "data = pd.read_csv(url, names = names, delimiter=' ')\n",
    "print(data.shape)\n",
    "print (data.columns)\n",
    "data.head(10)"
   ]
  },
  {
   "cell_type": "code",
   "execution_count": 5,
   "metadata": {
    "_uuid": "224c2c3967abdccd1e4527c18024e08288ba1ca9",
    "colab": {
     "base_uri": "https://localhost:8080/"
    },
    "id": "B3FPJfz33xkK",
    "jupyter": {
     "outputs_hidden": true
    },
    "outputId": "abc0fc15-193c-4c1f-9fe3-c19fb34081e4"
   },
   "outputs": [
    {
     "data": {
      "text/plain": [
       "1    700\n",
       "0    300\n",
       "Name: classification, dtype: int64"
      ]
     },
     "execution_count": 5,
     "metadata": {},
     "output_type": "execute_result"
    }
   ],
   "source": [
    "# Binarize the y output for easier use of e.g. ROC curves -> 0 = 'bad' credit; 1 = 'good' credit\n",
    "data.classification.replace([1,2], [1,0], inplace=True)\n",
    "# Print number of 'good' credits (should be 700) and 'bad credits (should be 300)\n",
    "data.classification.value_counts()"
   ]
  },
  {
   "cell_type": "markdown",
   "metadata": {
    "_uuid": "2d2774790c3f63cfc0eaa81517ce8f0eb4680478",
    "id": "Tr1A8ZIHzuFw"
   },
   "source": [
    "### StandardScaler"
   ]
  },
  {
   "cell_type": "code",
   "execution_count": 6,
   "metadata": {
    "_uuid": "f03a76714ee08fe41f9b59aab287d68d481892b5",
    "id": "dKKUEqTo380x",
    "jupyter": {
     "outputs_hidden": true
    }
   },
   "outputs": [],
   "source": [
    "#numerical variables labels\n",
    "numvars = ['creditamount', 'duration', 'installmentrate', 'residencesince', 'age', \n",
    "           'existingcredits', 'peopleliable', 'classification']\n",
    "\n",
    "# Standardization\n",
    "numdata_std = pd.DataFrame(StandardScaler().fit_transform(data[numvars].drop(['classification'], axis=1)))"
   ]
  },
  {
   "cell_type": "markdown",
   "metadata": {
    "_uuid": "19dce81fc16194265c5d8942fa81c64934d60855",
    "id": "X4ZzfmRy4M9I"
   },
   "source": [
    "### Encoding Categorical Feature\n",
    "\n",
    "Labelencoding to transform categorical to numerical, Enables better Visualization than one hot encoding"
   ]
  },
  {
   "cell_type": "code",
   "execution_count": 7,
   "metadata": {
    "_uuid": "dab67695a0984af965a7dbea250276c4369b5875",
    "colab": {
     "base_uri": "https://localhost:8080/"
    },
    "id": "xSnUU8E_4IgX",
    "jupyter": {
     "outputs_hidden": true
    },
    "outputId": "b97741fc-a400-429b-e612-eaa6534ff221"
   },
   "outputs": [
    {
     "name": "stdout",
     "output_type": "stream",
     "text": [
      "existingchecking :  ['A11' 'A12' 'A14' 'A13']\n",
      "existingchecking :  [0 1 3 2]\n",
      "credithistory :  ['A34' 'A32' 'A33' 'A30' 'A31']\n",
      "credithistory :  [4 2 3 0 1]\n",
      "purpose :  ['A43' 'A46' 'A42' 'A40' 'A41' 'A49' 'A44' 'A45' 'A410' 'A48']\n",
      "purpose :  [4 7 3 0 1 9 5 6 2 8]\n",
      "savings :  ['A65' 'A61' 'A63' 'A64' 'A62']\n",
      "savings :  [4 0 2 3 1]\n",
      "employmentsince :  ['A75' 'A73' 'A74' 'A71' 'A72']\n",
      "employmentsince :  [4 2 3 0 1]\n",
      "statussex :  ['A93' 'A92' 'A91' 'A94']\n",
      "statussex :  [2 1 0 3]\n",
      "otherdebtors :  ['A101' 'A103' 'A102']\n",
      "otherdebtors :  [0 2 1]\n",
      "property :  ['A121' 'A122' 'A124' 'A123']\n",
      "property :  [0 1 3 2]\n",
      "otherinstallmentplans :  ['A143' 'A141' 'A142']\n",
      "otherinstallmentplans :  [2 0 1]\n",
      "housing :  ['A152' 'A153' 'A151']\n",
      "housing :  [1 2 0]\n",
      "job :  ['A173' 'A172' 'A174' 'A171']\n",
      "job :  [2 1 3 0]\n",
      "telephone :  ['A192' 'A191']\n",
      "telephone :  [1 0]\n",
      "foreignworker :  ['A201' 'A202']\n",
      "foreignworker :  [0 1]\n"
     ]
    }
   ],
   "source": [
    "from collections import defaultdict\n",
    "\n",
    "#categorical variables labels\n",
    "catvars = ['existingchecking', 'credithistory', 'purpose', 'savings', 'employmentsince',\n",
    "           'statussex', 'otherdebtors', 'property', 'otherinstallmentplans', 'housing', 'job', \n",
    "           'telephone', 'foreignworker']\n",
    "\n",
    "d = defaultdict(LabelEncoder)\n",
    "\n",
    "# Encoding the variable\n",
    "lecatdata = data[catvars].apply(lambda x: d[x.name].fit_transform(x))\n",
    "\n",
    "# print transformations\n",
    "for x in range(len(catvars)):\n",
    "    print(catvars[x],\": \", data[catvars[x]].unique())\n",
    "    print(catvars[x],\": \", lecatdata[catvars[x]].unique())\n",
    "\n",
    "#One hot encoding, create dummy variables for every category of every categorical variable\n",
    "dummyvars = pd.get_dummies(data[catvars])"
   ]
  },
  {
   "cell_type": "markdown",
   "metadata": {
    "_uuid": "6a15498bdd45a6b2d0c88edbe3059744294396c6",
    "id": "R3OBrifU4Zpb"
   },
   "source": [
    "### Concate Transformed Dataset\n",
    "append the dummy variable of the initial numerical variables numvars# append "
   ]
  },
  {
   "cell_type": "code",
   "execution_count": 8,
   "metadata": {
    "_uuid": "50738e0e4b89a8facc7c73581661f3110427d8e9",
    "colab": {
     "base_uri": "https://localhost:8080/"
    },
    "id": "jkncbC1M4ZzD",
    "jupyter": {
     "outputs_hidden": true
    },
    "outputId": "8c2ec46b-2b46-48e6-cf06-e5b40a5270c2"
   },
   "outputs": [
    {
     "name": "stdout",
     "output_type": "stream",
     "text": [
      "(1000, 62)\n"
     ]
    }
   ],
   "source": [
    "data_clean = pd.concat([data[numvars], dummyvars], axis = 1)\n",
    "\n",
    "print(data_clean.shape)"
   ]
  },
  {
   "cell_type": "code",
   "execution_count": 47,
   "metadata": {},
   "outputs": [
    {
     "data": {
      "text/plain": [
       "0      1\n",
       "1      0\n",
       "2      1\n",
       "3      1\n",
       "4      0\n",
       "      ..\n",
       "995    1\n",
       "996    1\n",
       "997    1\n",
       "998    0\n",
       "999    1\n",
       "Name: classification, Length: 1000, dtype: int64"
      ]
     },
     "execution_count": 47,
     "metadata": {},
     "output_type": "execute_result"
    }
   ],
   "source": [
    "y_clean"
   ]
  },
  {
   "cell_type": "markdown",
   "metadata": {
    "_uuid": "53f8db9397eeb56dae3d735e712b4ba251a36a7b",
    "id": "OI89YwDN4kXI"
   },
   "source": [
    "### Split Training Dataset"
   ]
  },
  {
   "cell_type": "code",
   "execution_count": 19,
   "metadata": {},
   "outputs": [],
   "source": [
    "# Unscaled, unnormalized data\n",
    "X_clean = data_clean.drop('classification', axis=1)\n",
    "y_clean = data_clean['classification']\n",
    "# X,y = datasets.make_circles(n_samples= 10**4, noise = 0.4, factor =10**-1)\n",
    "\n",
    "X_train, X_conf_train, y_train, y_conf_train  = train_test_split(X_clean, y_clean, \n",
    "                                                                 test_size=0.6, random_state=10)\n",
    "\n",
    "X_conf_train, X_cal, y_conf_train, y_cal = train_test_split(X_conf_train, y_conf_train,\n",
    "                                                            test_size=0.5, random_state=0)\n",
    "\n",
    "X_cal, X_test, y_cal,  y_test, = train_test_split(X_cal, y_cal, \n",
    "                                                  test_size=0.5, random_state=0)"
   ]
  },
  {
   "cell_type": "code",
   "execution_count": 20,
   "metadata": {},
   "outputs": [
    {
     "name": "stdout",
     "output_type": "stream",
     "text": [
      "X_train, y_train: (400, 61) (400,)\n",
      "X_test, y_test: (150, 61) (150,)\n",
      "X_conf_train, y_conf_train: (300, 61) (300,)\n",
      "X_cal, y_cal: (150, 61) (150,)\n"
     ]
    }
   ],
   "source": [
    "print('X_train, y_train:', np.shape(X_train), np.shape(y_train))\n",
    "print('X_test, y_test:', np.shape(X_test), np.shape(y_test))\n",
    "\n",
    "print('X_conf_train, y_conf_train:', np.shape(X_conf_train), np.shape(y_conf_train))\n",
    "print('X_cal, y_cal:', np.shape(X_cal), np.shape(y_cal))"
   ]
  },
  {
   "cell_type": "markdown",
   "metadata": {
    "_uuid": "10ebb57456ac4233b77b1ad284c15984aee73a1c",
    "id": "ylrlLjs8bX_k"
   },
   "source": [
    "### XGBoost  Training (ROC_AUC:0.79)"
   ]
  },
  {
   "cell_type": "code",
   "execution_count": 21,
   "metadata": {
    "_uuid": "9b27e5641d57347d244ebc33a634c35a3a8e0947",
    "colab": {
     "base_uri": "https://localhost:8080/",
     "height": 845
    },
    "id": "BSTCnez0bX_k",
    "jupyter": {
     "outputs_hidden": true
    },
    "outputId": "102e17d2-d0ca-49eb-945c-f9143b861b5b"
   },
   "outputs": [
    {
     "name": "stdout",
     "output_type": "stream",
     "text": [
      "[0]\tvalidation_0-auc:0.75624\tvalidation_1-auc:0.68004\n",
      "[100]\tvalidation_0-auc:0.89492\tvalidation_1-auc:0.79087\n",
      "[200]\tvalidation_0-auc:0.90503\tvalidation_1-auc:0.79248\n",
      "[275]\tvalidation_0-auc:0.91452\tvalidation_1-auc:0.79228\n",
      "[14:54:37] WARNING: /Users/runner/work/xgboost/xgboost/src/learner.cc:1115: Starting in XGBoost 1.3.0, the default evaluation metric used with the objective 'binary:logistic' was changed from 'error' to 'logloss'. Explicitly set eval_metric if you'd like to restore the old behavior.\n",
      "[[20 29]\n",
      " [ 7 94]]\n",
      "              precision    recall  f1-score   support\n",
      "\n",
      "           0       0.74      0.41      0.53        49\n",
      "           1       0.76      0.93      0.84       101\n",
      "\n",
      "    accuracy                           0.76       150\n",
      "   macro avg       0.75      0.67      0.68       150\n",
      "weighted avg       0.76      0.76      0.74       150\n",
      "\n",
      "\n",
      "\n",
      "Model Final Generalization Accuracy: 0.760000\n"
     ]
    },
    {
     "name": "stderr",
     "output_type": "stream",
     "text": [
      "/Users/avivisrael/.virtualenvs/FPR_FNR_TRADEOFF/lib/python3.7/site-packages/xgboost/core.py:108: UserWarning: ntree_limit is deprecated, use `iteration_range` or model slicing instead.\n",
      "  UserWarning\n"
     ]
    },
    {
     "data": {
      "image/png": "[encoded data removed]",
      "text/plain": [
       "<Figure size 432x288 with 1 Axes>"
      ]
     },
     "metadata": {},
     "output_type": "display_data"
    }
   ],
   "source": [
    "params2={\n",
    "    'n_estimators':3000,\n",
    "    'objective': 'binary:logistic',\n",
    "    'learning_rate': 0.005,\n",
    "    #'gamma':0.01,\n",
    "    'subsample':0.555,\n",
    "    'colsample_bytree':0.7,\n",
    "    'min_child_weight':3,\n",
    "    'max_depth':8,\n",
    "    #'seed':1024,\n",
    "    'n_jobs' : -1\n",
    "}\n",
    "\n",
    "# xgbclf(params2, X_pp_train, y_pp_train, X_test, y_test)\n",
    "# xgbclf(params2, X_train_clean, y_train_clean, X_test_clean, y_test_clean)\n",
    "model = xgbclf(params2, X_train, y_train, X_test, y_test)"
   ]
  },
  {
   "cell_type": "code",
   "execution_count": 22,
   "metadata": {},
   "outputs": [
    {
     "name": "stdout",
     "output_type": "stream",
     "text": [
      "[14:54:38] WARNING: /Users/runner/work/xgboost/xgboost/src/learner.cc:1115: Starting in XGBoost 1.3.0, the default evaluation metric used with the objective 'binary:logistic' was changed from 'error' to 'logloss'. Explicitly set eval_metric if you'd like to restore the old behavior.\n"
     ]
    },
    {
     "data": {
      "text/plain": [
       "XGBClassifier(base_score=0.5, booster='gbtree', colsample_bylevel=1,\n",
       "              colsample_bynode=1, colsample_bytree=0.7,\n",
       "              enable_categorical=False, gamma=0, gpu_id=-1,\n",
       "              importance_type=None, interaction_constraints='',\n",
       "              learning_rate=0.005, max_delta_step=0, max_depth=8,\n",
       "              min_child_weight=3, missing=nan, monotone_constraints='()',\n",
       "              n_estimators=176, n_jobs=-1, num_parallel_tree=1,\n",
       "              objective='binary:logistic', predictor='auto', random_state=0,\n",
       "              reg_alpha=0, reg_lambda=1, scale_pos_weight=1, subsample=0.555,\n",
       "              tree_method='exact', use_label_encoder=True,\n",
       "              validate_parameters=1, verbosity=None)"
      ]
     },
     "execution_count": 22,
     "metadata": {},
     "output_type": "execute_result"
    }
   ],
   "source": [
    "model.fit(X_train, y_train,)"
   ]
  },
  {
   "cell_type": "markdown",
   "metadata": {},
   "source": [
    "### XGBoost Predictions"
   ]
  },
  {
   "cell_type": "code",
   "execution_count": 23,
   "metadata": {
    "scrolled": true
   },
   "outputs": [
    {
     "data": {
      "text/plain": [
       "0.76"
      ]
     },
     "execution_count": 23,
     "metadata": {},
     "output_type": "execute_result"
    }
   ],
   "source": [
    "model.score(X_test, y_test)"
   ]
  },
  {
   "cell_type": "code",
   "execution_count": 24,
   "metadata": {},
   "outputs": [
    {
     "name": "stdout",
     "output_type": "stream",
     "text": [
      "0.7266666666666667\n",
      "0.7666666666666667\n"
     ]
    }
   ],
   "source": [
    "print(model.score(X_conf_train, y_conf_train))\n",
    "print(model.score(X_cal, y_cal))"
   ]
  },
  {
   "cell_type": "markdown",
   "metadata": {},
   "source": [
    "# MACest Confidence Model For The German Credit XGBoost model"
   ]
  },
  {
   "cell_type": "markdown",
   "metadata": {},
   "source": [
    "Training MACEst model"
   ]
  },
  {
   "cell_type": "code",
   "execution_count": 25,
   "metadata": {},
   "outputs": [
    {
     "name": "stderr",
     "output_type": "stream",
     "text": [
      "Your CPU supports instructions that this binary was not compiled to use: AVX2\n",
      "For maximum performance, you can install NMSLIB from sources \n",
      "pip install --no-binary :all: nmslib\n"
     ]
    }
   ],
   "source": [
    "from macest.classification import models as clmod\n",
    "from macest.classification import plots as clplot\n",
    "\n",
    "param_bounds = clmod.SearchBounds(alpha_bounds = (0, 500), k_bounds = (5,15))\n",
    "neighbour_search_params = clmod.HnswGraphArgs(query_args = dict(ef = 1100))\n",
    "\n",
    "macest_model = clmod.ModelWithConfidence(model,\n",
    "                                       X_conf_train,\n",
    "                                       y_conf_train)\n",
    "\n",
    "macest_model.fit(X_cal, np.array(y_cal))"
   ]
  },
  {
   "cell_type": "markdown",
   "metadata": {},
   "source": [
    " We can change the MACEst defaults if we want as shown below by editing the NamedTuple for each parameter"
   ]
  },
  {
   "cell_type": "code",
   "execution_count": 41,
   "metadata": {},
   "outputs": [
    {
     "data": {
      "text/plain": [
       "SearchBounds(alpha_bounds=(0.1, 100.0), beta_bounds=(0.1, 100.0), k_bounds=(5, 40), temperature_bounds=(0, 40))"
      ]
     },
     "execution_count": 41,
     "metadata": {},
     "output_type": "execute_result"
    }
   ],
   "source": [
    "clmod.SearchBounds()"
   ]
  },
  {
   "cell_type": "code",
   "execution_count": 42,
   "metadata": {},
   "outputs": [
    {
     "data": {
      "text/plain": [
       "HnswGraphArgs(init_args={'method': 'hnsw', 'space': 'l2'}, construction_args={'post': 2, 'efConstruction': 1000, 'M': 100}, query_args={'ef': 1000})"
      ]
     },
     "execution_count": 42,
     "metadata": {},
     "output_type": "execute_result"
    }
   ],
   "source": [
    "clmod.HnswGraphArgs()"
   ]
  },
  {
   "cell_type": "markdown",
   "metadata": {},
   "source": [
    "Optimiser args are the arguments passed to scipy differential evolution and must be passed as a dictionary"
   ]
  },
  {
   "cell_type": "code",
   "execution_count": 26,
   "metadata": {},
   "outputs": [],
   "source": [
    "optimiser_args = dict(popsize = 15)"
   ]
  },
  {
   "cell_type": "code",
   "execution_count": null,
   "metadata": {},
   "outputs": [],
   "source": [
    "# param_bounds = clmod.SearchBounds(k_bounds = (3,50))\n",
    "# neighbour_search_params = clmod.HnswGraphArgs(query_args = dict(ef = 1100), \n",
    "#                                               init_args = dict(method = 'hnsw', space = 'cosinesimil'))"
   ]
  },
  {
   "cell_type": "code",
   "execution_count": 27,
   "metadata": {},
   "outputs": [],
   "source": [
    "param_bounds = clmod.SearchBounds(k_bounds = (5,50))\n",
    "neighbour_search_params = clmod.HnswGraphArgs(query_args = dict(ef = 1000))\n",
    "optimiser_args = dict(popsize = 25, disp = False)"
   ]
  },
  {
   "cell_type": "code",
   "execution_count": 45,
   "metadata": {},
   "outputs": [
    {
     "data": {
      "text/plain": [
       "452    1\n",
       "166    0\n",
       "133    1\n",
       "735    1\n",
       "621    0\n",
       "      ..\n",
       "284    1\n",
       "414    0\n",
       "947    1\n",
       "11     0\n",
       "223    1\n",
       "Name: classification, Length: 150, dtype: int64"
      ]
     },
     "execution_count": 45,
     "metadata": {},
     "output_type": "execute_result"
    }
   ],
   "source": [
    "y_cal"
   ]
  },
  {
   "cell_type": "code",
   "execution_count": 28,
   "metadata": {},
   "outputs": [],
   "source": [
    "macest_model = clmod.ModelWithConfidence(model,\n",
    "                                      X_conf_train,\n",
    "                                      y_conf_train, \n",
    "                                      search_method_args =neighbour_search_params)\n",
    "\n",
    "macest_model.fit(X_cal,\n",
    "               np.array(y_cal),\n",
    "               param_range = param_bounds,\n",
    "               optimiser_args = optimiser_args)"
   ]
  },
  {
   "cell_type": "code",
   "execution_count": 29,
   "metadata": {},
   "outputs": [
    {
     "data": {
      "text/plain": [
       "MacestConfModelParams(alpha=12.10501354435928, beta=84.71246588588437, num_neighbours=42, temp=1.5655226658443624)"
      ]
     },
     "execution_count": 29,
     "metadata": {},
     "output_type": "execute_result"
    }
   ],
   "source": [
    "macest_model.macest_model_params"
   ]
  },
  {
   "cell_type": "code",
   "execution_count": 30,
   "metadata": {},
   "outputs": [
    {
     "data": {
      "text/plain": [
       "['point_pred_model',\n",
       " 'x_train',\n",
       " 'y_train',\n",
       " 'macest_model_params',\n",
       " '_num_neighbours',\n",
       " '_alpha',\n",
       " '_beta',\n",
       " '_temp',\n",
       " 'graph',\n",
       " 'search_method_args',\n",
       " 'training_preds_by_class',\n",
       " 'precomputed_neighbour_info',\n",
       " 'distance_to_neighbours',\n",
       " 'index_of_neighbours',\n",
       " 'error_on_neighbours',\n",
       " '_nclasses',\n",
       " 'point_preds',\n",
       " 'verbose_training',\n",
       " 'empirical_conflict_constant',\n",
       " '__module__',\n",
       " '__doc__',\n",
       " '__init__',\n",
       " 'predict',\n",
       " 'build_class_graphs',\n",
       " 'calc_dist_to_neighbours',\n",
       " 'calc_linear_distance_error_func',\n",
       " 'predict_proba',\n",
       " 'predict_confidence_of_point_prediction',\n",
       " '_calc_relative_distance_softmax_normalisation',\n",
       " '_renormalise_conf_with_empirical_constant',\n",
       " 'find_conflicting_predictions',\n",
       " 'fit',\n",
       " '_check_consistent_search_method_args',\n",
       " '_check_data_consistent_with_search_args',\n",
       " '__dict__',\n",
       " '__weakref__',\n",
       " '__repr__',\n",
       " '__hash__',\n",
       " '__str__',\n",
       " '__getattribute__',\n",
       " '__setattr__',\n",
       " '__delattr__',\n",
       " '__lt__',\n",
       " '__le__',\n",
       " '__eq__',\n",
       " '__ne__',\n",
       " '__gt__',\n",
       " '__ge__',\n",
       " '__new__',\n",
       " '__reduce_ex__',\n",
       " '__reduce__',\n",
       " '__subclasshook__',\n",
       " '__init_subclass__',\n",
       " '__format__',\n",
       " '__sizeof__',\n",
       " '__dir__',\n",
       " '__class__']"
      ]
     },
     "execution_count": 30,
     "metadata": {},
     "output_type": "execute_result"
    }
   ],
   "source": [
    "macest_model.__dir__()"
   ]
  },
  {
   "cell_type": "code",
   "execution_count": 31,
   "metadata": {},
   "outputs": [],
   "source": [
    "xgboost_preds = model.predict(X_test)\n",
    "macest_conf_preds = macest_model.predict_proba(X_test)\n",
    "xgboost_conf_preds = model.predict_proba(X_test)"
   ]
  },
  {
   "cell_type": "code",
   "execution_count": 32,
   "metadata": {},
   "outputs": [
    {
     "data": {
      "text/plain": [
       "array([0, 1, 1, 1, 0, 1, 1, 1, 1, 1, 1, 1, 0, 1, 1, 1, 1, 0, 1, 1, 1, 1,\n",
       "       1, 1, 0, 1, 1, 1, 1, 0, 1, 1, 1, 0, 1, 1, 1, 1, 1, 1, 0, 0, 1, 0,\n",
       "       1, 0, 1, 1, 1, 1, 1, 0, 1, 1, 0, 1, 1, 1, 1, 1, 1, 1, 0, 1, 0, 1,\n",
       "       1, 0, 1, 1, 1, 1, 1, 1, 1, 1, 1, 1, 1, 1, 1, 0, 1, 1, 1, 1, 0, 1,\n",
       "       1, 1, 1, 1, 1, 1, 1, 1, 1, 1, 1, 1, 1, 1, 1, 1, 1, 1, 1, 1, 1, 1,\n",
       "       1, 0, 0, 1, 0, 1, 1, 1, 1, 1, 1, 1, 1, 0, 1, 1, 1, 1, 1, 1, 1, 1,\n",
       "       0, 1, 1, 1, 1, 1, 1, 1, 0, 1, 1, 1, 1, 0, 1, 0, 1, 0])"
      ]
     },
     "execution_count": 32,
     "metadata": {},
     "output_type": "execute_result"
    }
   ],
   "source": [
    "xgboost_preds"
   ]
  },
  {
   "cell_type": "code",
   "execution_count": 33,
   "metadata": {},
   "outputs": [
    {
     "data": {
      "text/plain": [
       "array([[0.56989896, 0.43010104],\n",
       "       [0.40961963, 0.5903804 ],\n",
       "       [0.44365156, 0.55634844],\n",
       "       [0.31954384, 0.68045616],\n",
       "       [0.5061359 , 0.49386412],\n",
       "       [0.4238159 , 0.5761841 ],\n",
       "       [0.48618054, 0.51381946],\n",
       "       [0.24832535, 0.75167465],\n",
       "       [0.41492748, 0.5850725 ],\n",
       "       [0.320194  , 0.679806  ],\n",
       "       [0.31247377, 0.6875262 ],\n",
       "       [0.490511  , 0.509489  ],\n",
       "       [0.5420867 , 0.45791325],\n",
       "       [0.44660342, 0.5533966 ],\n",
       "       [0.4876541 , 0.5123459 ],\n",
       "       [0.38847995, 0.61152005],\n",
       "       [0.35785896, 0.64214104],\n",
       "       [0.51554185, 0.48445815],\n",
       "       [0.26361507, 0.7363849 ],\n",
       "       [0.41804063, 0.58195937],\n",
       "       [0.29554284, 0.70445716],\n",
       "       [0.25870532, 0.7412947 ],\n",
       "       [0.39615732, 0.6038427 ],\n",
       "       [0.27441537, 0.7255846 ],\n",
       "       [0.55175424, 0.44824573],\n",
       "       [0.3440054 , 0.6559946 ],\n",
       "       [0.25795728, 0.7420427 ],\n",
       "       [0.25747842, 0.7425216 ],\n",
       "       [0.40757596, 0.59242404],\n",
       "       [0.5182693 , 0.4817307 ],\n",
       "       [0.39790732, 0.6020927 ],\n",
       "       [0.49397075, 0.50602925],\n",
       "       [0.4982555 , 0.5017445 ],\n",
       "       [0.56920624, 0.4307938 ],\n",
       "       [0.40679997, 0.5932    ],\n",
       "       [0.43899536, 0.56100464],\n",
       "       [0.2984721 , 0.7015279 ],\n",
       "       [0.4939323 , 0.5060677 ],\n",
       "       [0.3341413 , 0.6658587 ],\n",
       "       [0.4347059 , 0.5652941 ],\n",
       "       [0.5679723 , 0.43202773],\n",
       "       [0.5543786 , 0.4456214 ],\n",
       "       [0.3369267 , 0.6630733 ],\n",
       "       [0.51453984, 0.48546016],\n",
       "       [0.30710524, 0.69289476],\n",
       "       [0.54045236, 0.45954767],\n",
       "       [0.24616921, 0.7538308 ],\n",
       "       [0.29658264, 0.70341736],\n",
       "       [0.28976393, 0.7102361 ],\n",
       "       [0.25999933, 0.74000067],\n",
       "       [0.4306317 , 0.5693683 ],\n",
       "       [0.5845077 , 0.41549227],\n",
       "       [0.41467464, 0.58532536],\n",
       "       [0.28089124, 0.71910876],\n",
       "       [0.59853214, 0.40146786],\n",
       "       [0.34700173, 0.65299827],\n",
       "       [0.45276648, 0.5472335 ],\n",
       "       [0.3673764 , 0.6326236 ],\n",
       "       [0.3040821 , 0.6959179 ],\n",
       "       [0.46725613, 0.5327439 ],\n",
       "       [0.45064133, 0.54935867],\n",
       "       [0.4618343 , 0.5381657 ],\n",
       "       [0.5447667 , 0.45523328],\n",
       "       [0.34454566, 0.65545434],\n",
       "       [0.5154872 , 0.48451278],\n",
       "       [0.30614078, 0.6938592 ],\n",
       "       [0.2883801 , 0.7116199 ],\n",
       "       [0.53564256, 0.46435744],\n",
       "       [0.34383786, 0.65616214],\n",
       "       [0.25818938, 0.7418106 ],\n",
       "       [0.33291602, 0.667084  ],\n",
       "       [0.24994397, 0.750056  ],\n",
       "       [0.4170828 , 0.5829172 ],\n",
       "       [0.33692825, 0.66307175],\n",
       "       [0.43245518, 0.5675448 ],\n",
       "       [0.4133708 , 0.5866292 ],\n",
       "       [0.31841838, 0.6815816 ],\n",
       "       [0.4380089 , 0.5619911 ],\n",
       "       [0.28809398, 0.711906  ],\n",
       "       [0.31068307, 0.6893169 ],\n",
       "       [0.4420936 , 0.5579064 ],\n",
       "       [0.50298417, 0.4970158 ],\n",
       "       [0.46995544, 0.53004456],\n",
       "       [0.41753626, 0.58246374],\n",
       "       [0.29947448, 0.7005255 ],\n",
       "       [0.31468433, 0.68531567],\n",
       "       [0.5178038 , 0.48219624],\n",
       "       [0.4781059 , 0.5218941 ],\n",
       "       [0.3945223 , 0.6054777 ],\n",
       "       [0.41055894, 0.58944106],\n",
       "       [0.46975142, 0.5302486 ],\n",
       "       [0.42234057, 0.5776594 ],\n",
       "       [0.40183395, 0.59816605],\n",
       "       [0.47290862, 0.5270914 ],\n",
       "       [0.434722  , 0.565278  ],\n",
       "       [0.43428153, 0.5657185 ],\n",
       "       [0.30276555, 0.69723445],\n",
       "       [0.26471198, 0.735288  ],\n",
       "       [0.36454844, 0.63545156],\n",
       "       [0.3233962 , 0.6766038 ],\n",
       "       [0.38474357, 0.6152564 ],\n",
       "       [0.4294259 , 0.5705741 ],\n",
       "       [0.3961106 , 0.6038894 ],\n",
       "       [0.3723417 , 0.6276583 ],\n",
       "       [0.38892186, 0.61107814],\n",
       "       [0.24806124, 0.75193876],\n",
       "       [0.48922235, 0.51077765],\n",
       "       [0.41876596, 0.58123404],\n",
       "       [0.280253  , 0.719747  ],\n",
       "       [0.3927467 , 0.6072533 ],\n",
       "       [0.26258832, 0.7374117 ],\n",
       "       [0.5677654 , 0.4322346 ],\n",
       "       [0.5205951 , 0.47940493],\n",
       "       [0.29812557, 0.70187443],\n",
       "       [0.5005983 , 0.4994017 ],\n",
       "       [0.2580685 , 0.7419315 ],\n",
       "       [0.4540078 , 0.5459922 ],\n",
       "       [0.4299386 , 0.5700614 ],\n",
       "       [0.28827477, 0.71172523],\n",
       "       [0.43460387, 0.56539613],\n",
       "       [0.476254  , 0.523746  ],\n",
       "       [0.49639452, 0.5036055 ],\n",
       "       [0.49853534, 0.50146466],\n",
       "       [0.53112555, 0.46887442],\n",
       "       [0.4534613 , 0.5465387 ],\n",
       "       [0.33689123, 0.66310877],\n",
       "       [0.49528307, 0.50471693],\n",
       "       [0.42788553, 0.57211447],\n",
       "       [0.32321328, 0.6767867 ],\n",
       "       [0.25962538, 0.7403746 ],\n",
       "       [0.44031745, 0.55968255],\n",
       "       [0.49937892, 0.5006211 ],\n",
       "       [0.55723417, 0.44276583],\n",
       "       [0.40259975, 0.59740025],\n",
       "       [0.34085172, 0.6591483 ],\n",
       "       [0.39232737, 0.60767263],\n",
       "       [0.40662163, 0.59337837],\n",
       "       [0.35667282, 0.6433272 ],\n",
       "       [0.35595733, 0.6440427 ],\n",
       "       [0.3247645 , 0.6752355 ],\n",
       "       [0.5046336 , 0.4953664 ],\n",
       "       [0.4979115 , 0.5020885 ],\n",
       "       [0.47230887, 0.5276911 ],\n",
       "       [0.3005175 , 0.6994825 ],\n",
       "       [0.33901876, 0.66098124],\n",
       "       [0.539894  , 0.46010602],\n",
       "       [0.33639687, 0.6636031 ],\n",
       "       [0.5700587 , 0.42994127],\n",
       "       [0.29036295, 0.70963705],\n",
       "       [0.62815446, 0.37184554]], dtype=float32)"
      ]
     },
     "execution_count": 33,
     "metadata": {},
     "output_type": "execute_result"
    }
   ],
   "source": [
    "xgboost_conf_preds"
   ]
  },
  {
   "cell_type": "code",
   "execution_count": 34,
   "metadata": {},
   "outputs": [
    {
     "data": {
      "text/plain": [
       "array([[0.47622607, 0.52377393],\n",
       "       [0.21085378, 0.78914622],\n",
       "       [0.16664919, 0.83335081],\n",
       "       [0.22274167, 0.77725833],\n",
       "       [0.16979728, 0.83020272],\n",
       "       [0.22425875, 0.77574125],\n",
       "       [0.30184046, 0.69815954],\n",
       "       [0.17697732, 0.82302268],\n",
       "       [0.17351324, 0.82648676],\n",
       "       [0.16545029, 0.83454971],\n",
       "       [0.23094994, 0.76905006],\n",
       "       [0.51458937, 0.48541063],\n",
       "       [0.1826426 , 0.8173574 ],\n",
       "       [0.4331199 , 0.5668801 ],\n",
       "       [0.30146309, 0.69853691],\n",
       "       [0.26258969, 0.73741031],\n",
       "       [0.18023051, 0.81976949],\n",
       "       [0.23282916, 0.76717084],\n",
       "       [0.17770922, 0.82229078],\n",
       "       [0.2045731 , 0.7954269 ],\n",
       "       [0.26830192, 0.73169808],\n",
       "       [0.14999738, 0.85000262],\n",
       "       [0.26150185, 0.73849815],\n",
       "       [0.17442383, 0.82557617],\n",
       "       [0.25242801, 0.74757199],\n",
       "       [0.27141831, 0.72858169],\n",
       "       [0.179961  , 0.820039  ],\n",
       "       [0.16111078, 0.83888922],\n",
       "       [0.22405559, 0.77594441],\n",
       "       [0.25803528, 0.74196472],\n",
       "       [0.21557763, 0.78442237],\n",
       "       [0.24940947, 0.75059053],\n",
       "       [0.21302218, 0.78697782],\n",
       "       [0.24147985, 0.75852015],\n",
       "       [0.18038838, 0.81961162],\n",
       "       [0.18472862, 0.81527138],\n",
       "       [0.17482916, 0.82517084],\n",
       "       [0.29147954, 0.70852046],\n",
       "       [0.17526381, 0.82473619],\n",
       "       [0.29818482, 0.70181518],\n",
       "       [0.5152268 , 0.4847732 ],\n",
       "       [0.1454482 , 0.8545518 ],\n",
       "       [0.17036299, 0.82963701],\n",
       "       [0.15835448, 0.84164552],\n",
       "       [0.16627749, 0.83372251],\n",
       "       [0.23010082, 0.76989918],\n",
       "       [0.16635562, 0.83364438],\n",
       "       [0.19555974, 0.80444026],\n",
       "       [0.1842817 , 0.8157183 ],\n",
       "       [0.19085813, 0.80914187],\n",
       "       [0.19092569, 0.80907431],\n",
       "       [0.35217588, 0.64782412],\n",
       "       [0.26336188, 0.73663812],\n",
       "       [0.19668854, 0.80331146],\n",
       "       [0.21389675, 0.78610325],\n",
       "       [0.16945413, 0.83054587],\n",
       "       [0.19835891, 0.80164109],\n",
       "       [0.26925811, 0.73074189],\n",
       "       [0.14989048, 0.85010952],\n",
       "       [0.38348938, 0.61651062],\n",
       "       [0.1939281 , 0.8060719 ],\n",
       "       [0.22429931, 0.77570069],\n",
       "       [0.19460499, 0.80539501],\n",
       "       [0.27236852, 0.72763148],\n",
       "       [0.26703667, 0.73296333],\n",
       "       [0.20842937, 0.79157063],\n",
       "       [0.22598971, 0.77401029],\n",
       "       [0.27683989, 0.72316011],\n",
       "       [0.24872065, 0.75127935],\n",
       "       [0.20516107, 0.79483893],\n",
       "       [0.26004998, 0.73995002],\n",
       "       [0.19552059, 0.80447941],\n",
       "       [0.17434398, 0.82565602],\n",
       "       [0.18978556, 0.81021444],\n",
       "       [0.29844276, 0.70155724],\n",
       "       [0.15794246, 0.84205754],\n",
       "       [0.22660458, 0.77339542],\n",
       "       [0.3100503 , 0.6899497 ],\n",
       "       [0.15028644, 0.84971356],\n",
       "       [0.23331375, 0.76668625],\n",
       "       [0.15352919, 0.84647081],\n",
       "       [0.21210109, 0.78789891],\n",
       "       [0.20587308, 0.79412692],\n",
       "       [0.25805621, 0.74194379],\n",
       "       [0.18256558, 0.81743442],\n",
       "       [0.18865174, 0.81134826],\n",
       "       [0.18326012, 0.81673988],\n",
       "       [0.15290845, 0.84709155],\n",
       "       [0.40713366, 0.59286634],\n",
       "       [0.23767908, 0.76232092],\n",
       "       [0.16905603, 0.83094397],\n",
       "       [0.16480686, 0.83519314],\n",
       "       [0.18028684, 0.81971316],\n",
       "       [0.22031059, 0.77968941],\n",
       "       [0.22275183, 0.77724817],\n",
       "       [0.26622474, 0.73377526],\n",
       "       [0.16566424, 0.83433576],\n",
       "       [0.2280764 , 0.7719236 ],\n",
       "       [0.20043546, 0.79956454],\n",
       "       [0.14879789, 0.85120211],\n",
       "       [0.16696769, 0.83303231],\n",
       "       [0.17760182, 0.82239818],\n",
       "       [0.21033627, 0.78966373],\n",
       "       [0.17096315, 0.82903685],\n",
       "       [0.24096591, 0.75903409],\n",
       "       [0.23376351, 0.76623649],\n",
       "       [0.26057692, 0.73942308],\n",
       "       [0.2233133 , 0.7766867 ],\n",
       "       [0.21327774, 0.78672226],\n",
       "       [0.26294552, 0.73705448],\n",
       "       [0.18477575, 0.81522425],\n",
       "       [0.2656064 , 0.7343936 ],\n",
       "       [0.18225855, 0.81774145],\n",
       "       [0.196838  , 0.803162  ],\n",
       "       [0.2171312 , 0.7828688 ],\n",
       "       [0.19014719, 0.80985281],\n",
       "       [0.25712398, 0.74287602],\n",
       "       [0.1826138 , 0.8173862 ],\n",
       "       [0.18366227, 0.81633773],\n",
       "       [0.19470719, 0.80529281],\n",
       "       [0.28400938, 0.71599062],\n",
       "       [0.17887672, 0.82112328],\n",
       "       [0.26309716, 0.73690284],\n",
       "       [0.17518409, 0.82481591],\n",
       "       [0.21197495, 0.78802505],\n",
       "       [0.1830641 , 0.8169359 ],\n",
       "       [0.23394382, 0.76605618],\n",
       "       [0.2849453 , 0.7150547 ],\n",
       "       [0.20644435, 0.79355565],\n",
       "       [0.18009365, 0.81990635],\n",
       "       [0.16342469, 0.83657531],\n",
       "       [0.22314364, 0.77685636],\n",
       "       [0.23970135, 0.76029865],\n",
       "       [0.149513  , 0.850487  ],\n",
       "       [0.16449425, 0.83550575],\n",
       "       [0.17119275, 0.82880725],\n",
       "       [0.24585698, 0.75414302],\n",
       "       [0.26366681, 0.73633319],\n",
       "       [0.27195248, 0.72804752],\n",
       "       [0.17216237, 0.82783763],\n",
       "       [0.26247979, 0.73752021],\n",
       "       [0.20863381, 0.79136619],\n",
       "       [0.48627029, 0.51372971],\n",
       "       [0.24134055, 0.75865945],\n",
       "       [0.19455297, 0.80544703],\n",
       "       [0.18107895, 0.81892105],\n",
       "       [0.20547426, 0.79452574],\n",
       "       [0.37031716, 0.62968284],\n",
       "       [0.21780832, 0.78219168],\n",
       "       [0.26913167, 0.73086833]])"
      ]
     },
     "execution_count": 34,
     "metadata": {},
     "output_type": "execute_result"
    }
   ],
   "source": [
    "macest_conf_preds"
   ]
  },
  {
   "cell_type": "code",
   "execution_count": 35,
   "metadata": {},
   "outputs": [],
   "source": [
    "macest_point_prediction_conf = macest_model.predict_confidence_of_point_prediction(X_test) \n",
    "                              \n",
    "xgboost_point_prediction_conf = np.amax(xgboost_conf_preds, axis=1)"
   ]
  },
  {
   "cell_type": "code",
   "execution_count": 36,
   "metadata": {},
   "outputs": [
    {
     "data": {
      "text/plain": [
       "array([0.47622607, 0.78914622, 0.83335081, 0.77725833, 0.16979728,\n",
       "       0.77574125, 0.69815954, 0.82302268, 0.82648676, 0.83454971,\n",
       "       0.76905006, 0.48541063, 0.1826426 , 0.5668801 , 0.69853691,\n",
       "       0.73741031, 0.81976949, 0.23282916, 0.82229078, 0.7954269 ,\n",
       "       0.73169808, 0.85000262, 0.73849815, 0.82557617, 0.25242801,\n",
       "       0.72858169, 0.820039  , 0.83888922, 0.77594441, 0.25803528,\n",
       "       0.78442237, 0.75059053, 0.78697782, 0.24147985, 0.81961162,\n",
       "       0.81527138, 0.82517084, 0.70852046, 0.82473619, 0.70181518,\n",
       "       0.5152268 , 0.1454482 , 0.82963701, 0.15835448, 0.83372251,\n",
       "       0.23010082, 0.83364438, 0.80444026, 0.8157183 , 0.80914187,\n",
       "       0.80907431, 0.35217588, 0.73663812, 0.80331146, 0.21389675,\n",
       "       0.83054587, 0.80164109, 0.73074189, 0.85010952, 0.61651062,\n",
       "       0.8060719 , 0.77570069, 0.19460499, 0.72763148, 0.26703667,\n",
       "       0.79157063, 0.77401029, 0.27683989, 0.75127935, 0.79483893,\n",
       "       0.73995002, 0.80447941, 0.82565602, 0.81021444, 0.70155724,\n",
       "       0.84205754, 0.77339542, 0.6899497 , 0.84971356, 0.76668625,\n",
       "       0.84647081, 0.21210109, 0.79412692, 0.74194379, 0.81743442,\n",
       "       0.81134826, 0.18326012, 0.84709155, 0.59286634, 0.76232092,\n",
       "       0.83094397, 0.83519314, 0.81971316, 0.77968941, 0.77724817,\n",
       "       0.73377526, 0.83433576, 0.7719236 , 0.79956454, 0.85120211,\n",
       "       0.83303231, 0.82239818, 0.78966373, 0.82903685, 0.75903409,\n",
       "       0.76623649, 0.73942308, 0.7766867 , 0.78672226, 0.73705448,\n",
       "       0.81522425, 0.2656064 , 0.18225855, 0.803162  , 0.2171312 ,\n",
       "       0.80985281, 0.74287602, 0.8173862 , 0.81633773, 0.80529281,\n",
       "       0.71599062, 0.82112328, 0.73690284, 0.17518409, 0.78802505,\n",
       "       0.8169359 , 0.76605618, 0.7150547 , 0.79355565, 0.81990635,\n",
       "       0.83657531, 0.77685636, 0.23970135, 0.850487  , 0.83550575,\n",
       "       0.82880725, 0.75414302, 0.73633319, 0.72804752, 0.82783763,\n",
       "       0.26247979, 0.79136619, 0.51372971, 0.75865945, 0.80544703,\n",
       "       0.18107895, 0.79452574, 0.37031716, 0.78219168, 0.26913167])"
      ]
     },
     "execution_count": 36,
     "metadata": {},
     "output_type": "execute_result"
    }
   ],
   "source": [
    "macest_point_prediction_conf"
   ]
  },
  {
   "cell_type": "code",
   "execution_count": 37,
   "metadata": {},
   "outputs": [
    {
     "data": {
      "text/plain": [
       "array([0.56989896, 0.5903804 , 0.55634844, 0.68045616, 0.5061359 ,\n",
       "       0.5761841 , 0.51381946, 0.75167465, 0.5850725 , 0.679806  ,\n",
       "       0.6875262 , 0.509489  , 0.5420867 , 0.5533966 , 0.5123459 ,\n",
       "       0.61152005, 0.64214104, 0.51554185, 0.7363849 , 0.58195937,\n",
       "       0.70445716, 0.7412947 , 0.6038427 , 0.7255846 , 0.55175424,\n",
       "       0.6559946 , 0.7420427 , 0.7425216 , 0.59242404, 0.5182693 ,\n",
       "       0.6020927 , 0.50602925, 0.5017445 , 0.56920624, 0.5932    ,\n",
       "       0.56100464, 0.7015279 , 0.5060677 , 0.6658587 , 0.5652941 ,\n",
       "       0.5679723 , 0.5543786 , 0.6630733 , 0.51453984, 0.69289476,\n",
       "       0.54045236, 0.7538308 , 0.70341736, 0.7102361 , 0.74000067,\n",
       "       0.5693683 , 0.5845077 , 0.58532536, 0.71910876, 0.59853214,\n",
       "       0.65299827, 0.5472335 , 0.6326236 , 0.6959179 , 0.5327439 ,\n",
       "       0.54935867, 0.5381657 , 0.5447667 , 0.65545434, 0.5154872 ,\n",
       "       0.6938592 , 0.7116199 , 0.53564256, 0.65616214, 0.7418106 ,\n",
       "       0.667084  , 0.750056  , 0.5829172 , 0.66307175, 0.5675448 ,\n",
       "       0.5866292 , 0.6815816 , 0.5619911 , 0.711906  , 0.6893169 ,\n",
       "       0.5579064 , 0.50298417, 0.53004456, 0.58246374, 0.7005255 ,\n",
       "       0.68531567, 0.5178038 , 0.5218941 , 0.6054777 , 0.58944106,\n",
       "       0.5302486 , 0.5776594 , 0.59816605, 0.5270914 , 0.565278  ,\n",
       "       0.5657185 , 0.69723445, 0.735288  , 0.63545156, 0.6766038 ,\n",
       "       0.6152564 , 0.5705741 , 0.6038894 , 0.6276583 , 0.61107814,\n",
       "       0.75193876, 0.51077765, 0.58123404, 0.719747  , 0.6072533 ,\n",
       "       0.7374117 , 0.5677654 , 0.5205951 , 0.70187443, 0.5005983 ,\n",
       "       0.7419315 , 0.5459922 , 0.5700614 , 0.71172523, 0.56539613,\n",
       "       0.523746  , 0.5036055 , 0.50146466, 0.53112555, 0.5465387 ,\n",
       "       0.66310877, 0.50471693, 0.57211447, 0.6767867 , 0.7403746 ,\n",
       "       0.55968255, 0.5006211 , 0.55723417, 0.59740025, 0.6591483 ,\n",
       "       0.60767263, 0.59337837, 0.6433272 , 0.6440427 , 0.6752355 ,\n",
       "       0.5046336 , 0.5020885 , 0.5276911 , 0.6994825 , 0.66098124,\n",
       "       0.539894  , 0.6636031 , 0.5700587 , 0.70963705, 0.62815446],\n",
       "      dtype=float32)"
      ]
     },
     "execution_count": 37,
     "metadata": {},
     "output_type": "execute_result"
    }
   ],
   "source": [
    "xgboost_point_prediction_conf"
   ]
  },
  {
   "cell_type": "code",
   "execution_count": 38,
   "metadata": {},
   "outputs": [
    {
     "data": {
      "image/png": "[encoded data removed]",
      "text/plain": [
       "<Figure size 1152x576 with 3 Axes>"
      ]
     },
     "metadata": {},
     "output_type": "display_data"
    }
   ],
   "source": [
    "clplot.plot_calibration_curve([xgboost_point_prediction_conf,\n",
    "                               macest_point_prediction_conf], \n",
    "                              ['XGBoost', 'MACE'],\n",
    "                              xgboost_preds,\n",
    "                              y_test)"
   ]
  },
  {
   "cell_type": "markdown",
   "metadata": {
    "pycharm": {
     "name": "#%% md\n"
    }
   },
   "source": [
    "### Let's compare calibration and forecast metrics"
   ]
  },
  {
   "cell_type": "code",
   "execution_count": 39,
   "metadata": {},
   "outputs": [
    {
     "data": {
      "image/png": "[encoded data removed]",
      "text/plain": [
       "<Figure size 1152x288 with 3 Axes>"
      ]
     },
     "metadata": {},
     "output_type": "display_data"
    }
   ],
   "source": [
    "clplot.plot_calibration_metrics([xgboost_point_prediction_conf, \n",
    "                                macest_point_prediction_conf], \n",
    "                              ['XGBoost','MACE'], xgboost_preds, y_test)"
   ]
  },
  {
   "cell_type": "code",
   "execution_count": 40,
   "metadata": {},
   "outputs": [
    {
     "data": {
      "image/png": "[encoded data removed]",
      "text/plain": [
       "<Figure size 1152x288 with 2 Axes>"
      ]
     },
     "metadata": {},
     "output_type": "display_data"
    }
   ],
   "source": [
    "clplot.plot_forecast_metrics([xgboost_point_prediction_conf, \n",
    "                                macest_point_prediction_conf], \n",
    "                              ['XGBoost','MACE'], xgboost_preds, y_test)"
   ]
  },
  {
   "cell_type": "markdown",
   "metadata": {},
   "source": [
    "### FPR_FNR"
   ]
  },
  {
   "cell_type": "code",
   "execution_count": null,
   "metadata": {},
   "outputs": [],
   "source": []
  },
  {
   "cell_type": "code",
   "execution_count": null,
   "metadata": {},
   "outputs": [],
   "source": []
  },
  {
   "cell_type": "code",
   "execution_count": null,
   "metadata": {},
   "outputs": [],
   "source": []
  }
 ],
 "metadata": {
  "colab": {
   "collapsed_sections": [],
   "name": "German Credit XGBoost model.ipynb",
   "provenance": []
  },
  "kernelspec": {
   "display_name": "Python 3 (ipykernel)",
   "language": "python",
   "name": "python3"
  },
  "language_info": {
   "codemirror_mode": {
    "name": "ipython",
    "version": 3
   },
   "file_extension": ".py",
   "mimetype": "text/x-python",
   "name": "python",
   "nbconvert_exporter": "python",
   "pygments_lexer": "ipython3",
   "version": "3.7.9"
  }
 },
 "nbformat": 4,
 "nbformat_minor": 1
}
