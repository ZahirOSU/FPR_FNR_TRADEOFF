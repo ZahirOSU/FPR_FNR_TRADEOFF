{
 "cells": [
  {
   "cell_type": "markdown",
   "metadata": {
    "_kg_hide-output": false,
    "id": "8O92HM6QiZP4"
   },
   "source": [
    "# Predictive analysis of Bank Marketing\n",
    "\n",
    "#### Problem Statement\n",
    "The data is related with direct marketing campaigns of a Portuguese banking institution. The marketing campaigns were based on phone calls. Often, more than one contact to the same client was required, in order to access if the product (bank term deposit) would be ('yes') or not ('no') subscribed. \n",
    "\n",
    "#### What to achieve?\n",
    "The classification goal is to predict if the client will subscribe a term deposit (variable y).\n",
    "\n",
    "#### Data Contains information in following format:\n",
    "\n",
    "### Categorical Variable :\n",
    "\n",
    "* Marital - (Married , Single , Divorced)\",\n",
    "* Job - (Management,BlueCollar,Technician,entrepreneur,retired,admin.,services,selfemployed,housemaid,student,unemployed,unknown)\n",
    "* Contact - (Telephone,Cellular,Unknown)\n",
    "* Education - (Primary,Secondary,Tertiary,Unknown)\n",
    "* Month - (Jan,Feb,Mar,Apr,May,Jun,Jul,Aug,Sep,Oct,Nov,Dec)\n",
    "* Poutcome - (Success,Failure,Other,Unknown)\n",
    "* Housing - (Yes/No)\n",
    "* Loan - (Yes/No)\n",
    "* Default - (Yes/No)\n",
    "\n",
    "### Numerical Variable:\n",
    "\n",
    "* Age\n",
    "* Balance\n",
    "* Day\n",
    "* Duration\n",
    "* Campaign\n",
    "* Pdays\n",
    "* Previous\n",
    "\n",
    "#### Class\n",
    "* deposit - (Yes/No)"
   ]
  },
  {
   "cell_type": "code",
   "execution_count": 1,
   "metadata": {
    "_cell_guid": "e07b0e5d-63ee-4636-be79-3767d8b7d5d8",
    "_uuid": "7748fe49780a9fc1e17197e410fc624e9c465a1f",
    "colab": {
     "base_uri": "https://localhost:8080/"
    },
    "id": "gvSBCobNiZP9",
    "jupyter": {
     "outputs_hidden": true
    },
    "outputId": "b1565c99-30ff-4dac-9a8a-c0991faed426"
   },
   "outputs": [
    {
     "ename": "ModuleNotFoundError",
     "evalue": "No module named 'statsmodels'",
     "output_type": "error",
     "traceback": [
      "\u001b[0;31m---------------------------------------------------------------------------\u001b[0m",
      "\u001b[0;31mModuleNotFoundError\u001b[0m                       Traceback (most recent call last)",
      "\u001b[0;32m/var/folders/8k/kjcv8fg107n9xl077vfg2_8m0000gn/T/ipykernel_11169/4020751286.py\u001b[0m in \u001b[0;36m<module>\u001b[0;34m\u001b[0m\n\u001b[1;32m      6\u001b[0m \u001b[0;31m# from sklearn.cross_validation import train_test_split\u001b[0m\u001b[0;34m\u001b[0m\u001b[0;34m\u001b[0m\u001b[0;34m\u001b[0m\u001b[0m\n\u001b[1;32m      7\u001b[0m \u001b[0;32mfrom\u001b[0m \u001b[0msklearn\u001b[0m \u001b[0;32mimport\u001b[0m \u001b[0mmetrics\u001b[0m\u001b[0;34m\u001b[0m\u001b[0;34m\u001b[0m\u001b[0m\n\u001b[0;32m----> 8\u001b[0;31m \u001b[0;32mimport\u001b[0m \u001b[0mstatsmodels\u001b[0m\u001b[0;34m.\u001b[0m\u001b[0mformula\u001b[0m\u001b[0;34m.\u001b[0m\u001b[0mapi\u001b[0m \u001b[0;32mas\u001b[0m \u001b[0msmf\u001b[0m\u001b[0;34m\u001b[0m\u001b[0;34m\u001b[0m\u001b[0m\n\u001b[0m\u001b[1;32m      9\u001b[0m \u001b[0;32mfrom\u001b[0m \u001b[0msklearn\u001b[0m \u001b[0;32mimport\u001b[0m \u001b[0mpreprocessing\u001b[0m\u001b[0;34m\u001b[0m\u001b[0;34m\u001b[0m\u001b[0m\n\u001b[1;32m     10\u001b[0m \u001b[0;32mfrom\u001b[0m \u001b[0msklearn\u001b[0m\u001b[0;34m.\u001b[0m\u001b[0mpreprocessing\u001b[0m \u001b[0;32mimport\u001b[0m \u001b[0mLabelEncoder\u001b[0m\u001b[0;34m\u001b[0m\u001b[0;34m\u001b[0m\u001b[0m\n",
      "\u001b[0;31mModuleNotFoundError\u001b[0m: No module named 'statsmodels'"
     ]
    }
   ],
   "source": [
    "#Importing required libraries\n",
    "import pandas as pd\n",
    "import numpy as np\n",
    "\n",
    "from sklearn.model_selection import train_test_split\n",
    "# from sklearn.cross_validation import train_test_split\n",
    "from sklearn import metrics\n",
    "import statsmodels.formula.api as smf\n",
    "from sklearn import preprocessing\n",
    "from sklearn.preprocessing import LabelEncoder\n",
    "\n",
    "# visualization\n",
    "import seaborn as sns\n",
    "import matplotlib.pyplot as plt\n",
    "%matplotlib inline"
   ]
  },
  {
   "cell_type": "code",
   "execution_count": null,
   "metadata": {
    "_cell_guid": "0eced814-95e3-4354-99c4-507f2ef52e33",
    "_uuid": "8f5bea0b6e74bcb66846a5db827324e97e42f768",
    "colab": {
     "base_uri": "https://localhost:8080/",
     "height": 204
    },
    "id": "yv-JGofEiZP-",
    "jupyter": {
     "outputs_hidden": true
    },
    "outputId": "b2f7fc38-097d-4003-f183-c1590b132963"
   },
   "outputs": [],
   "source": [
    "#Importing and displaying data\n",
    "data = pd.read_csv(\"bank.csv\", delimiter=\";\",header='infer')\n",
    "data.head()"
   ]
  },
  {
   "cell_type": "code",
   "execution_count": null,
   "metadata": {
    "_cell_guid": "f5e5d486-131d-48fa-9892-6ec2f7c0de57",
    "_uuid": "1b4b93ee4ed64ae30c7f9ba5b3c830860ade7e28",
    "colab": {
     "base_uri": "https://localhost:8080/"
    },
    "id": "jgVHBookiZP_",
    "jupyter": {
     "outputs_hidden": true
    },
    "outputId": "9c29210e-27d6-463d-fb71-a63953d9b2bf"
   },
   "outputs": [],
   "source": [
    "#4521 rows and 17 features\n",
    "data.shape"
   ]
  },
  {
   "cell_type": "code",
   "execution_count": null,
   "metadata": {
    "_cell_guid": "7b278803-36f3-4d24-aa5c-1d23909d60bb",
    "_uuid": "4abd9624232834f8922d505a55205f4eb163ae55",
    "colab": {
     "base_uri": "https://localhost:8080/"
    },
    "id": "4uwtJ644iZP_",
    "jupyter": {
     "outputs_hidden": true
    },
    "outputId": "199f9f9b-6567-4c09-ee71-f919f76fdece"
   },
   "outputs": [],
   "source": [
    "#datatypes of the columns\n",
    "data.dtypes"
   ]
  },
  {
   "cell_type": "markdown",
   "metadata": {
    "_cell_guid": "9a9917e0-8ff4-45d7-a5b7-426964c9ccc8",
    "_uuid": "902709dfbfc1a27bf26d46f6f96dc6f75d36ef51",
    "id": "mq6M50k0iZQA"
   },
   "source": [
    "Since the dtype contains types other than int, floot; we need to convert those column values into proper format in order to fit the data in model."
   ]
  },
  {
   "cell_type": "code",
   "execution_count": null,
   "metadata": {
    "_cell_guid": "227355cc-b93c-4a8c-8e27-2c43d9ae88f2",
    "_uuid": "899975d140ce2dc06842ae0b5067e79e1120e533",
    "id": "B4JkvqociZQA",
    "jupyter": {
     "outputs_hidden": true
    }
   },
   "outputs": [],
   "source": [
    "#Converting object type data into numeric type using One-Hot encoding method which is\n",
    "#majorly used for XGBoost (for better accuracy) [Applicable only for non numeric categorical features]\n",
    "data_new = pd.get_dummies(data, columns=['job','marital',\n",
    "                                         'education','default',\n",
    "                                         'housing','loan',\n",
    "                                         'contact','month',\n",
    "                                         'poutcome'])\n",
    "#pd is instance of pandas. Using get_dummies method we can directly convert any type of data into One-Hot encoded format."
   ]
  },
  {
   "cell_type": "code",
   "execution_count": null,
   "metadata": {
    "_cell_guid": "d1db9d1e-0f02-45df-8ccf-1777088a498e",
    "_uuid": "dcec32461edf58b91ebe5fa3eb868b2e398f9512",
    "id": "rCje_4myiZQB",
    "jupyter": {
     "outputs_hidden": true
    }
   },
   "outputs": [],
   "source": [
    "#Since y is a class variable we will have to convert it into binary format. (Since 2 unique class values)\n",
    "data_new.y.replace(('yes', 'no'), (1, 0), inplace=True)"
   ]
  },
  {
   "cell_type": "code",
   "execution_count": null,
   "metadata": {
    "_cell_guid": "ed9363d8-1cb5-422a-9dc2-01f1422b3e52",
    "_uuid": "9cb4350ffa3689dc9e47c6bd1dcdb82afd666e31",
    "colab": {
     "base_uri": "https://localhost:8080/"
    },
    "id": "l5qTyF33iZQC",
    "jupyter": {
     "outputs_hidden": true
    },
    "outputId": "66a91019-7c3a-45b8-f16e-fe11a2e8902a"
   },
   "outputs": [],
   "source": [
    "#Checking types of all the columns converted\n",
    "data_new.dtypes"
   ]
  },
  {
   "cell_type": "code",
   "execution_count": null,
   "metadata": {
    "_cell_guid": "5770e9a7-2bda-4992-9659-89af4796c384",
    "_uuid": "15f82e3d8f24aadf8dc977999ff12b84d44a8ce2",
    "colab": {
     "base_uri": "https://localhost:8080/",
     "height": 241
    },
    "id": "FXAAYoJziZQD",
    "jupyter": {
     "outputs_hidden": true
    },
    "outputId": "36bc1e50-f2e0-42bb-f51d-75826870863c"
   },
   "outputs": [],
   "source": [
    "#Our New dataframe ready for XGBoost\n",
    "data_new.head()"
   ]
  },
  {
   "cell_type": "code",
   "execution_count": null,
   "metadata": {
    "_cell_guid": "66e6900b-da6c-4d55-ae82-07bbd1dfc6a2",
    "_uuid": "b93c7aeb139100cd042321bb5b19f8dc22e2e3eb",
    "colab": {
     "base_uri": "https://localhost:8080/"
    },
    "id": "k3LfjMdWiZQD",
    "jupyter": {
     "outputs_hidden": true
    },
    "outputId": "2f70f6af-d091-40f3-fc75-c5435cdb9ee6"
   },
   "outputs": [],
   "source": [
    "#Spliting data as X -> features and y -> class variable\n",
    "data_y = pd.DataFrame(data_new['y'])\n",
    "data_X = data_new.drop(['y'], axis=1)\n",
    "print(data_X.columns)\n",
    "print(data_y.columns)"
   ]
  },
  {
   "cell_type": "code",
   "execution_count": null,
   "metadata": {
    "_cell_guid": "9357bf56-b060-4bc5-b6c4-9621c5e67aa9",
    "_uuid": "8b89744428ffe07a3476a65245bbadf8b8ca1dc4",
    "colab": {
     "base_uri": "https://localhost:8080/"
    },
    "id": "Q6V0KTwyiZQD",
    "jupyter": {
     "outputs_hidden": true
    },
    "outputId": "ff7107df-c6d4-4e5e-a10c-8298acb419d8"
   },
   "outputs": [],
   "source": [
    "#Dividing records in training and testing sets along with its shape (rows, cols)\n",
    "X_train, X_test, y_train, y_test = train_test_split(data_X, data_y, test_size=0.3, random_state=2, stratify=data_y)\n",
    "print (X_train.shape)\n",
    "print (X_test.shape)\n",
    "print (y_train.shape)\n",
    "print (y_test.shape)"
   ]
  },
  {
   "cell_type": "code",
   "execution_count": null,
   "metadata": {
    "_cell_guid": "ffe03d50-e066-4b9b-ac42-5c13ec864c05",
    "_uuid": "662f0acfaf2119b82cfbfcfae6ca9938a6b36bd5",
    "colab": {
     "base_uri": "https://localhost:8080/"
    },
    "id": "cSuw8DJpiZQE",
    "jupyter": {
     "outputs_hidden": true
    },
    "outputId": "92302044-110e-44ff-f29a-dbb37c2b25e0"
   },
   "outputs": [],
   "source": [
    "#Create an XGB classifier and train it on 70% of the data set.\n",
    "from sklearn import svm\n",
    "from xgboost import XGBClassifier\n",
    "clf = XGBClassifier()\n",
    "clf"
   ]
  },
  {
   "cell_type": "code",
   "execution_count": null,
   "metadata": {
    "_cell_guid": "7439792a-141f-44e9-b7d1-25b6b965d0ce",
    "_kg_hide-output": true,
    "_uuid": "929529f5b109739fb3445e2321c65ecab972f63d",
    "colab": {
     "base_uri": "https://localhost:8080/"
    },
    "id": "Ru5YRVa6iZQE",
    "jupyter": {
     "outputs_hidden": true
    },
    "outputId": "96013a52-f6a9-4b24-bb9a-3f18b55ce4a5"
   },
   "outputs": [],
   "source": [
    "clf.fit(X_train, y_train)"
   ]
  },
  {
   "cell_type": "code",
   "execution_count": null,
   "metadata": {
    "_cell_guid": "379f1d28-d06a-4d10-aa97-3515439c37a6",
    "_uuid": "abdafa50b5432322e54deef81296b7297f2d7b4d",
    "id": "g0XWazcgiZQE",
    "jupyter": {
     "outputs_hidden": true
    }
   },
   "outputs": [],
   "source": [
    "y_pred = clf.predict(X_test)"
   ]
  },
  {
   "cell_type": "code",
   "execution_count": null,
   "metadata": {
    "_cell_guid": "c9ba165b-84b3-4874-8c74-710bf87f9d56",
    "_uuid": "f2a45a8dfc5b797cc07a27d2b436b4d75dc78028",
    "colab": {
     "base_uri": "https://localhost:8080/"
    },
    "id": "FohwMbcPiZQF",
    "jupyter": {
     "outputs_hidden": true
    },
    "outputId": "e7e51f98-d5eb-4bd6-8412-22ad2ba873e4"
   },
   "outputs": [],
   "source": [
    "#classification accuracy\n",
    "from sklearn import metrics\n",
    "print(metrics.accuracy_score(y_test, y_pred))"
   ]
  },
  {
   "cell_type": "markdown",
   "metadata": {
    "_cell_guid": "5c81ed75-ca66-4bd8-ba28-60dc201de8f4",
    "_uuid": "550192047e1958f2806776f2b912101919e551ec",
    "id": "moUg4ddKiZQF"
   },
   "source": [
    "**Using xgb Library**"
   ]
  },
  {
   "cell_type": "code",
   "execution_count": null,
   "metadata": {
    "_cell_guid": "c817cc96-33e1-433a-94ee-cbdc919868d2",
    "_uuid": "e5f4774380291c9c00f016e953b48be80d4d6031",
    "id": "LM0U4G9OiZQF",
    "jupyter": {
     "outputs_hidden": true
    }
   },
   "outputs": [],
   "source": [
    "import xgboost as xgb\n",
    "# X_train, X_test, y_train, y_test = train_test_split(data_X, data_y, test_size=0.3, random_state=2, stratify=data_y)\n"
   ]
  },
  {
   "cell_type": "code",
   "execution_count": null,
   "metadata": {
    "id": "qCS_3i45-UVw"
   },
   "outputs": [],
   "source": [
    "X_pp_train, X_conf_train, y_pp_train, y_conf_train  = train_test_split(data_X, data_y, test_size=0.66, random_state=10)\n",
    "X_conf_train, X_cal, y_conf_train, y_cal =  train_test_split(X_conf_train, y_conf_train, test_size=0.5, random_state=0)\n",
    "X_cal, X_test, y_cal,  y_test, =                      train_test_split(X_cal, y_cal, test_size=0.5, random_state=0)\n",
    "\n",
    "# model = RandomForestClassifier(random_state =0,\n",
    "#                                n_estimators =800,\n",
    "#                                n_jobs =-1)\n",
    "\n",
    "# model.fit(X_pp_train, y_pp_train)\n",
    "\n"
   ]
  },
  {
   "cell_type": "code",
   "execution_count": null,
   "metadata": {
    "id": "dZbleCxe_Nu0"
   },
   "outputs": [],
   "source": [
    "dtrain = xgb.DMatrix(X_pp_train, label=y_pp_train)\n",
    "dtest = xgb.DMatrix(X_test)"
   ]
  },
  {
   "cell_type": "code",
   "execution_count": null,
   "metadata": {
    "_cell_guid": "c78c5600-5a38-4ce2-9cf2-e621d5d15e2c",
    "_kg_hide-output": true,
    "_uuid": "64b3c3cc31748850b29828224cae61cb91dfe315",
    "colab": {
     "base_uri": "https://localhost:8080/"
    },
    "id": "A4UlFAG3iZQF",
    "jupyter": {
     "outputs_hidden": true
    },
    "outputId": "2dd3dfa9-8484-4330-9baa-0efdc32ae0a2"
   },
   "outputs": [],
   "source": [
    "watchlist = [(dtrain, 'train'),(dtest, 'val')]\n",
    "print(watchlist)"
   ]
  },
  {
   "cell_type": "code",
   "execution_count": null,
   "metadata": {
    "_cell_guid": "ef442c5f-7883-4f27-ad89-0a7c7b52fc44",
    "_uuid": "7c915a4faef7135694a8058edeb3705f12619825",
    "id": "Gm1FDviHiZQG",
    "jupyter": {
     "outputs_hidden": true
    }
   },
   "outputs": [],
   "source": [
    "#Train the model\n",
    "params = {\n",
    "    'objective':'multi:softprob',\n",
    "    'max_dept':4,\n",
    "    'silent':1,\n",
    "    'eta':0.3,\n",
    "    'gamma': 0,\n",
    "    'num_class': 2\n",
    "}\n",
    "num_rounds=20"
   ]
  },
  {
   "cell_type": "code",
   "execution_count": null,
   "metadata": {
    "_cell_guid": "23e6bcdb-d45b-47e0-8479-e39b88f672a7",
    "_uuid": "08f9bf94b7f4873e2f7aa3831c2aa7772804cc7b",
    "id": "5T_T75SsiZQG",
    "jupyter": {
     "outputs_hidden": true
    }
   },
   "outputs": [],
   "source": [
    "XGB_Model = xgb.train(params,dtrain,num_rounds)"
   ]
  },
  {
   "cell_type": "code",
   "execution_count": null,
   "metadata": {
    "_cell_guid": "b21e243a-b3b8-48e0-b33d-d62d931123df",
    "_uuid": "91ac4f37875cd2c91dbfef6a39eb703dd3744798",
    "id": "pYAPG1pgiZQG",
    "jupyter": {
     "outputs_hidden": true
    }
   },
   "outputs": [],
   "source": [
    "XGB_Model.dump_model('dump.rawBank.txt')"
   ]
  },
  {
   "cell_type": "code",
   "execution_count": null,
   "metadata": {
    "_cell_guid": "f5ff8e0e-1d50-45d3-afe6-bf47a8bbfb98",
    "_uuid": "8acab998e69778821489a4679652a0436da5566c",
    "colab": {
     "base_uri": "https://localhost:8080/"
    },
    "id": "VQ8RZBY7iZQG",
    "jupyter": {
     "outputs_hidden": true
    },
    "outputId": "3a47cba4-2143-4e18-cd45-21b05f6aafb9"
   },
   "outputs": [],
   "source": [
    "y_predict = XGB_Model.predict(dtest)\n",
    "print(y_predict)"
   ]
  },
  {
   "cell_type": "code",
   "execution_count": null,
   "metadata": {
    "_cell_guid": "5e12b7bb-d953-4582-89b6-64653a1bb350",
    "_uuid": "1e95ab24e7fb43442963eaaaf0acb03f4b8e02a9",
    "colab": {
     "base_uri": "https://localhost:8080/",
     "height": 295
    },
    "id": "U2IXSNV2iZQG",
    "jupyter": {
     "outputs_hidden": true
    },
    "outputId": "ce0c76a0-619d-47ce-ad8e-5663e4551bac"
   },
   "outputs": [],
   "source": [
    "from xgboost import plot_importance\n",
    "from matplotlib import pyplot\n",
    "plot_importance(XGB_Model)\n",
    "pyplot.show()"
   ]
  },
  {
   "cell_type": "code",
   "execution_count": null,
   "metadata": {
    "_cell_guid": "84244a68-b6fd-4085-9ff5-130c93d47e30",
    "_uuid": "9e5ed7350fbbf816dd5139d328cd80ad0e7caa71",
    "colab": {
     "base_uri": "https://localhost:8080/",
     "height": 1000
    },
    "id": "Nbc7dstDiZQH",
    "jupyter": {
     "outputs_hidden": true
    },
    "outputId": "e04715d2-c8b1-4891-ac14-348c734ed0a0"
   },
   "outputs": [],
   "source": [
    "#Tree visualisation (Double tap to zoo)\n",
    "xgb.plot_tree(XGB_Model, num_trees=2)\n",
    "fig = plt.gcf()\n",
    "fig.set_size_inches(150, 300)\n",
    "fig.savefig('tree.png')"
   ]
  },
  {
   "cell_type": "markdown",
   "metadata": {
    "id": "EzyhMRZvz_gU",
    "pycharm": {
     "name": "#%% md\n"
    }
   },
   "source": [
    "### Let's have a look at the performance of the model on unseen data, we will compare to the random forest confidence predictions"
   ]
  },
  {
   "cell_type": "code",
   "execution_count": null,
   "metadata": {
    "colab": {
     "base_uri": "https://localhost:8080/",
     "height": 317
    },
    "id": "HW60f-2d2e3r",
    "outputId": "49e88aed-ec69-45fe-ca7b-c8240a812be5"
   },
   "outputs": [],
   "source": [
    "# pip install plot_utils\n",
    "from plotting_utils import plot_prediction_conf_surface, plot_macest_sklearn_comparison_surface"
   ]
  },
  {
   "cell_type": "code",
   "execution_count": null,
   "metadata": {
    "colab": {
     "base_uri": "https://localhost:8080/",
     "height": 1000
    },
    "id": "zkG104TAz_gU",
    "outputId": "8dc9438e-1111-4c78-f568-c85a8e53b68a"
   },
   "outputs": [],
   "source": [
    "from sklearn.calibration import CalibratedClassifierCV\n",
    "\n",
    "from macest.classification import models as clmod\n",
    "from macest.classification import plots as clplot\n",
    "\n",
    "macest_model = clmod.ModelWithConfidence(XGB_Model, X_conf_train, y_conf_train)\n",
    "\n",
    "macest_model.fit(X_cal, y_cal)\n",
    "\n",
    "preds = XGB_Model.predict(dtest)\n",
    "conf_preds = macest_model.predict_proba(dtest)\n",
    "rf_conf_preds = model.predict_proba(dtest)"
   ]
  },
  {
   "cell_type": "code",
   "execution_count": null,
   "metadata": {
    "id": "QeNj2CKpz_gU",
    "pycharm": {
     "name": "#%%\n"
    }
   },
   "outputs": [],
   "source": [
    "macest_point_prediction_conf = macest_model.predict_confidence_of_point_prediction(X_test) \n",
    "                              \n",
    "rf_point_prediction_conf = np.amax(rf_conf_preds, axis=1)"
   ]
  },
  {
   "cell_type": "code",
   "execution_count": null,
   "metadata": {
    "id": "8PzfX61xz_gU",
    "pycharm": {
     "name": "#%%\n"
    }
   },
   "outputs": [],
   "source": [
    "clplot.plot_calibration_curve([rf_point_prediction_conf,\n",
    "                               macest_point_prediction_conf], \n",
    "                              ['Random Forest', 'MACE'],\n",
    "                              preds,\n",
    "                              y_test)"
   ]
  },
  {
   "cell_type": "markdown",
   "metadata": {
    "id": "PsDqr40lz_gV",
    "pycharm": {
     "name": "#%% md\n"
    }
   },
   "source": [
    "### Let's compare calibration and forecast metrics"
   ]
  },
  {
   "cell_type": "code",
   "execution_count": null,
   "metadata": {
    "id": "l3xtXJUuz_gV"
   },
   "outputs": [],
   "source": [
    "clplot.plot_calibration_metrics([rf_point_prediction_conf, \n",
    "                                macest_point_prediction_conf], \n",
    "                              [ 'RF','MACE'], preds, y_test)"
   ]
  },
  {
   "cell_type": "code",
   "execution_count": null,
   "metadata": {
    "id": "OgARQbP0z_gV",
    "pycharm": {
     "name": "#%%\n"
    }
   },
   "outputs": [],
   "source": [
    "clplot.plot_forecast_metrics([rf_point_prediction_conf, \n",
    "                                macest_point_prediction_conf], \n",
    "                              [ 'RF','MACE'], preds, y_test)"
   ]
  },
  {
   "cell_type": "markdown",
   "metadata": {
    "id": "RVQ5qRcWz_gV",
    "pycharm": {
     "name": "#%% md\n"
    }
   },
   "source": [
    "## What does the surface learnt by the random forest  look like ?"
   ]
  },
  {
   "cell_type": "markdown",
   "metadata": {
    "id": "UOxH7boPz_gW",
    "pycharm": {
     "name": "#%% md\n"
    }
   },
   "source": [
    "#### As expected it is able to partition the space around the circles, it then extrapolates this surface and predicts anything outside of the inner circle as blue no matter how far we are from the data, this is probably what we want to happen.\n",
    "\n",
    "#### If we now look at the confidence plot we see that apart from the boundary, between the two circles the random forest is >90% confident. This high confident  is also extrapolated very far from the data, this is probably bad as we have no relevant data 20 standard deviations away from the data"
   ]
  },
  {
   "cell_type": "code",
   "execution_count": null,
   "metadata": {
    "id": "nrS_BIPwz_gW",
    "pycharm": {
     "name": "#%%\n"
    }
   },
   "outputs": [],
   "source": [
    "plot_prediction_conf_surface(3, 25, model, X_pp_train=X_pp_train, plot_training_data=False)"
   ]
  },
  {
   "cell_type": "code",
   "execution_count": null,
   "metadata": {
    "id": "OczOy_HO0vEk"
   },
   "outputs": [],
   "source": []
  },
  {
   "cell_type": "markdown",
   "metadata": {
    "id": "wuSwWSDfz_gW",
    "pycharm": {
     "name": "#%% md\n"
    }
   },
   "source": [
    "## Let's now compare those confidence estimates with MACEst"
   ]
  },
  {
   "cell_type": "markdown",
   "metadata": {
    "id": "JK5JdvGwz_gW"
   },
   "source": [
    "#### MACEst also learns to be very confident close to the data, however as we move further away from the data we see that the confidence drops off. At a certain point MACEst will return close an approximately uniform distribution, this suggests that we do not have the relevant data to be confident about the prediction"
   ]
  },
  {
   "cell_type": "code",
   "execution_count": null,
   "metadata": {
    "id": "YN3_4uUfz_gW",
    "pycharm": {
     "name": "#%%\n"
    }
   },
   "outputs": [],
   "source": [
    "plot_macest_sklearn_comparison_surface(3, 25, macest_model, model, X_pp_train=X_pp_train, plot_training_data=True)"
   ]
  },
  {
   "cell_type": "code",
   "execution_count": null,
   "metadata": {
    "id": "GfDTq_fdz_gW",
    "pycharm": {
     "name": "#%%\n"
    }
   },
   "outputs": [],
   "source": [
    "plot_macest_sklearn_comparison_surface(3, 25, macest_model, model, X_pp_train=X_pp_train, plot_training_data=True)"
   ]
  }
 ],
 "metadata": {
  "colab": {
   "name": "Bank Marketing XGBoost model.ipynb",
   "provenance": []
  },
  "kernelspec": {
   "display_name": "Python 3 (ipykernel)",
   "language": "python",
   "name": "python3"
  },
  "language_info": {
   "codemirror_mode": {
    "name": "ipython",
    "version": 3
   },
   "file_extension": ".py",
   "mimetype": "text/x-python",
   "name": "python",
   "nbconvert_exporter": "python",
   "pygments_lexer": "ipython3",
   "version": "3.7.9"
  }
 },
 "nbformat": 4,
 "nbformat_minor": 1
}
