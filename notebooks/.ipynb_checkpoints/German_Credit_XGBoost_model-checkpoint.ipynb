{
  "nbformat": 4,
  "nbformat_minor": 0,
  "metadata": {
    "colab": {
      "name": "German Credit XGBoost model.ipynb",
      "provenance": [],
      "collapsed_sections": []
    },
    "kernelspec": {
      "display_name": "Python 3",
      "language": "python",
      "name": "python3"
    },
    "language_info": {
      "name": "python",
      "version": "3.6.6",
      "mimetype": "text/x-python",
      "codemirror_mode": {
        "name": "ipython",
        "version": 3
      },
      "pygments_lexer": "ipython3",
      "nbconvert_exporter": "python",
      "file_extension": ".py"
    }
  },
  "cells": [
    {
      "cell_type": "markdown",
      "metadata": {
        "id": "uOcS5s3VZKFq",
        "_uuid": "6f9d55e2cd5792dc66d332ef3ccafde266046ce4"
      },
      "source": [
        "The German Credit data set is a publically available data set downloaded from the UCI Machine Learning Repository. The data contains data on 20 variables and the classification whether an applicant is considered a Good or a Bad credit risk for 1000 loan applicants.\n",
        "\n",
        "### [Data Source](https://archive.ics.uci.edu/ml/datasets/statlog+(german+credit+data))\n",
        "- Professor Dr. Hans Hofmann  \n",
        "- Institut f\"ur Statistik und \"Okonometrie  \n",
        "- Universit\"at Hamburg  \n",
        "- FB Wirtschaftswissenschaften  \n",
        "- Von-Melle-Park 5    \n",
        "- 2000 Hamburg 13\n",
        "\n",
        "### Benchmark\n",
        "![Credit Risk Classification: Faster Machine Learning with Intel Optimized Packages](https://i.imgur.com/nL1l7WI.png)\n",
        "\n",
        "according to [1] the best model is Random Forest with balanced feature selection data. it's has Accuracy 82%, Precision 84%, Recall 82% and F1-Score 81%. \n",
        "\n",
        "<br>\n",
        "\n",
        "\n",
        "The goal of this kernel is to beat The benchmark with  :\n",
        "- Convert dataset to Machine Learning friendly (Feature Engginering)\n",
        "- Develop XGBoost model to predict whether a loan is a good or bad risk.\n",
        "- Find the Best parameter for XGBoost Model (Hyperparameter Tunning)\n",
        "- Beat the Benchmark"
      ]
    },
    {
      "cell_type": "markdown",
      "metadata": {
        "id": "BFIDjGe8BNiZ",
        "_uuid": "12bfcccb8223f3c0039be46a701bff6b3311eb74"
      },
      "source": [
        ""
      ]
    },
    {
      "cell_type": "markdown",
      "metadata": {
        "id": "kqRSZpTCfG10",
        "_uuid": "63a5648103f48c821752a5b1f403dfb477159180"
      },
      "source": [
        "# Table of Content\n",
        "\n",
        "**1. [Introduction](#Introduction)** <br>\n",
        "    - Import Library\n",
        "    - Evaluation Function\n",
        "    - XGBoost Model\n",
        "**2. [Preprocess](#Preprocess)** <br>\n",
        "    - Importing Dataset\n",
        "    - StandardScaler\n",
        "    - Encoding Categorical Feature\n",
        "    - Concate Transformed Dataset\n",
        "    - Split Training Dataset\n",
        "    - XGBoost  1a: Unbalance Dataset (Base Model: ROC_AUC:0.74)\n",
        "    - XGBoost  1b: Unbalance Dataset (ROC_AUC:0.79)\n",
        "**3. [Balanced Dataset](#Balanced Dataset)** <br>    \n",
        "    - XGBoost 2a: Balanced (Base Model: ROC_AUC:0.77)\n",
        "    - **XGBoost 2b: Balanced (ROC_AUC:0.80)**\n",
        "**4. [Others](#Others)** <br>  \n",
        "    - Lighgbm (ROC_AUC:0.73)\n",
        "    - LogisticRegression (ROC_AUC:0.77)\n",
        "    - RandomForestClassifier (ROC_AUC:0.69)\n",
        "    - ExtraTreesClassifier (ROC_AUC:0.74)\n",
        "    - DecisionTreeClassifier (ROC_AUC:0.64)\n",
        "    - GradientBoostingClassifier (ROC_AUC:0.76)\n",
        "    - AdaBoostClassifier (ROC_AUC:0.72)"
      ]
    },
    {
      "cell_type": "markdown",
      "metadata": {
        "id": "BwWgAWVLC2Ln",
        "_uuid": "afe3100b12ba5779b15f698a1975eaab170742c4"
      },
      "source": [
        "<a id=\"Introduction\"></a> <br>\n",
        "# **1. Introduction:** \n",
        "- Import Library\n",
        "- Evaluation Function\n",
        "- XGBoost Model"
      ]
    },
    {
      "cell_type": "markdown",
      "metadata": {
        "id": "oZH67UWnA915",
        "_uuid": "86c6a56e4b0988d902401370b957f63f4f2754f1"
      },
      "source": [
        "### Import Library"
      ]
    },
    {
      "cell_type": "code",
      "metadata": {
        "colab": {
          "base_uri": "https://localhost:8080/",
          "height": 684
        },
        "id": "lwHsy-D_dIvc",
        "outputId": "5e58671c-6eb8-42bf-9551-cf42eccad47b"
      },
      "source": [
        "!pip install -r requirements.txt"
      ],
      "execution_count": 29,
      "outputs": [
        {
          "output_type": "stream",
          "name": "stdout",
          "text": [
            "Collecting matplotlib==3.1.1\n",
            "  Using cached matplotlib-3.1.1-cp37-cp37m-manylinux1_x86_64.whl (13.1 MB)\n",
            "Collecting numpy==1.19.0\n",
            "  Using cached numpy-1.19.0-cp37-cp37m-manylinux2010_x86_64.whl (14.6 MB)\n",
            "Collecting pandas==1.0.3\n",
            "  Using cached pandas-1.0.3-cp37-cp37m-manylinux1_x86_64.whl (10.0 MB)\n",
            "Collecting scikit-learn==0.22.1\n",
            "  Using cached scikit_learn-0.22.1-cp37-cp37m-manylinux1_x86_64.whl (7.0 MB)\n",
            "Collecting scipy==1.4.1\n",
            "  Downloading scipy-1.4.1-cp37-cp37m-manylinux1_x86_64.whl (26.1 MB)\n",
            "\u001b[K     |████████████████████████████████| 26.1 MB 69 kB/s \n",
            "\u001b[?25hCollecting seaborn==0.11.0\n",
            "  Using cached seaborn-0.11.0-py3-none-any.whl (283 kB)\n",
            "Collecting nmslib==2.0.6\n",
            "  Using cached nmslib-2.0.6-cp37-cp37m-manylinux2010_x86_64.whl (13.0 MB)\n",
            "Collecting typing_extensions==3.7.4.3\n",
            "  Using cached typing_extensions-3.7.4.3-py3-none-any.whl (22 kB)\n",
            "Requirement already satisfied: kiwisolver>=1.0.1 in /usr/local/lib/python3.7/dist-packages (from matplotlib==3.1.1->-r requirements.txt (line 1)) (1.3.2)\n",
            "Requirement already satisfied: cycler>=0.10 in /usr/local/lib/python3.7/dist-packages (from matplotlib==3.1.1->-r requirements.txt (line 1)) (0.11.0)\n",
            "Requirement already satisfied: pyparsing!=2.0.4,!=2.1.2,!=2.1.6,>=2.0.1 in /usr/local/lib/python3.7/dist-packages (from matplotlib==3.1.1->-r requirements.txt (line 1)) (2.4.7)\n",
            "Requirement already satisfied: python-dateutil>=2.1 in /usr/local/lib/python3.7/dist-packages (from matplotlib==3.1.1->-r requirements.txt (line 1)) (2.8.2)\n",
            "Requirement already satisfied: pytz>=2017.2 in /usr/local/lib/python3.7/dist-packages (from pandas==1.0.3->-r requirements.txt (line 3)) (2018.9)\n",
            "Requirement already satisfied: joblib>=0.11 in /usr/local/lib/python3.7/dist-packages (from scikit-learn==0.22.1->-r requirements.txt (line 4)) (1.1.0)\n",
            "Requirement already satisfied: psutil in /usr/local/lib/python3.7/dist-packages (from nmslib==2.0.6->-r requirements.txt (line 7)) (5.4.8)\n",
            "Requirement already satisfied: pybind11>=2.2.3 in /usr/local/lib/python3.7/dist-packages (from nmslib==2.0.6->-r requirements.txt (line 7)) (2.8.1)\n",
            "Requirement already satisfied: six>=1.5 in /usr/local/lib/python3.7/dist-packages (from python-dateutil>=2.1->matplotlib==3.1.1->-r requirements.txt (line 1)) (1.15.0)\n",
            "Installing collected packages: numpy, scipy, pandas, matplotlib, typing-extensions, seaborn, scikit-learn, nmslib\n",
            "\u001b[31mERROR: pip's dependency resolver does not currently take into account all the packages that are installed. This behaviour is the source of the following dependency conflicts.\n",
            "google-colab 1.0.0 requires pandas~=1.1.0; python_version >= \"3.0\", but you have pandas 1.0.3 which is incompatible.\n",
            "fbprophet 0.7.1 requires pandas>=1.0.4, but you have pandas 1.0.3 which is incompatible.\n",
            "datascience 0.10.6 requires folium==0.2.1, but you have folium 0.8.3 which is incompatible.\n",
            "albumentations 0.1.12 requires imgaug<0.2.7,>=0.2.5, but you have imgaug 0.2.9 which is incompatible.\u001b[0m\n",
            "Successfully installed matplotlib-3.1.1 nmslib-2.0.6 numpy-1.19.0 pandas-1.0.3 scikit-learn-0.22.1 scipy-1.4.1 seaborn-0.11.0 typing-extensions-3.7.4.3\n"
          ]
        },
        {
          "output_type": "display_data",
          "data": {
            "application/vnd.colab-display-data+json": {
              "pip_warning": {
                "packages": [
                  "matplotlib",
                  "mpl_toolkits",
                  "nmslib",
                  "numpy",
                  "pandas",
                  "scipy",
                  "seaborn",
                  "sklearn",
                  "typing_extensions"
                ]
              }
            }
          },
          "metadata": {}
        }
      ]
    },
    {
      "cell_type": "code",
      "metadata": {
        "id": "UQUQbCn-LIjR",
        "_uuid": "fa1b3ac82eb8fe1b02d69fab3a10b621f1392484",
        "collapsed": true,
        "jupyter": {
          "outputs_hidden": true
        },
        "trusted": true
      },
      "source": [
        "#Importing necessary packages in Python \n",
        "%matplotlib inline \n",
        "import matplotlib.pyplot as plt \n",
        "\n",
        "import numpy as np ; np.random.seed(sum(map(ord, \"aesthetics\")))\n",
        "import pandas as pd\n",
        "\n",
        "from sklearn.datasets import make_classification \n",
        "from sklearn.model_selection import learning_curve\n",
        "#from sklearn.cross_validation import train_test_split \n",
        "#from sklearn.grid_search import GridSearchCV\n",
        "#from sklearn.cross_validation import ShuffleSplit\n",
        "from sklearn.metrics import classification_report,confusion_matrix, roc_curve, roc_auc_score, auc, accuracy_score\n",
        "from sklearn.model_selection import ShuffleSplit,train_test_split, cross_val_score, GridSearchCV\n",
        "from sklearn.preprocessing import OneHotEncoder, LabelEncoder, label_binarize, StandardScaler, MinMaxScaler\n",
        "\n",
        "import seaborn \n",
        "seaborn.set_context('notebook') \n",
        "seaborn.set_style(style='darkgrid')\n",
        "\n",
        "from pprint import pprint \n",
        " \n"
      ],
      "execution_count": 2,
      "outputs": []
    },
    {
      "cell_type": "markdown",
      "metadata": {
        "id": "HvfBj0KiBC1m",
        "_uuid": "e53977fea8ba2969bb815820b810ae0798f79ff3"
      },
      "source": [
        "### Evaluation Function\n"
      ]
    },
    {
      "cell_type": "code",
      "metadata": {
        "id": "Y5FAGSW_K_il",
        "collapsed": true,
        "_uuid": "ad532098b4568aab69e710aa1b73097b0aeaa56a",
        "jupyter": {
          "outputs_hidden": true
        },
        "trusted": true
      },
      "source": [
        "# Function for evaluation reports\n",
        "def get_eval1(clf, X,y):\n",
        "    # Cross Validation to test and anticipate overfitting problem\n",
        "    scores1 = cross_val_score(clf, X, y, cv=2, scoring='accuracy')\n",
        "    scores2 = cross_val_score(clf, X, y, cv=2, scoring='precision')\n",
        "    scores3 = cross_val_score(clf, X, y, cv=2, scoring='recall')\n",
        "    scores4 = cross_val_score(clf, X, y, cv=2, scoring='roc_auc')\n",
        "    \n",
        "    # The mean score and standard deviation of the score estimate\n",
        "    print(\"Cross Validation Accuracy: %0.2f (+/- %0.2f)\" % (scores1.mean(), scores1.std()))\n",
        "    print(\"Cross Validation Precision: %0.2f (+/- %0.2f)\" % (scores2.mean(), scores2.std()))\n",
        "    print(\"Cross Validation Recall: %0.2f (+/- %0.2f)\" % (scores3.mean(), scores3.std()))\n",
        "    print(\"Cross Validation roc_auc: %0.2f (+/- %0.2f)\" % (scores4.mean(), scores4.std()))\n",
        "    \n",
        "    return \n",
        "\n",
        "def get_eval2(clf, X_train, y_train,X_test, y_test):\n",
        "    # Cross Validation to test and anticipate overfitting problem\n",
        "    scores1 = cross_val_score(clf, X_test, y_test, cv=2, scoring='accuracy')\n",
        "    scores2 = cross_val_score(clf, X_test, y_test, cv=2, scoring='precision')\n",
        "    scores3 = cross_val_score(clf, X_test, y_test, cv=2, scoring='recall')\n",
        "    scores4 = cross_val_score(clf, X_test, y_test, cv=2, scoring='roc_auc')\n",
        "    \n",
        "    # The mean score and standard deviation of the score estimate\n",
        "    print(\"Cross Validation Accuracy: %0.2f (+/- %0.2f)\" % (scores1.mean(), scores1.std()))\n",
        "    print(\"Cross Validation Precision: %0.2f (+/- %0.2f)\" % (scores2.mean(), scores2.std()))\n",
        "    print(\"Cross Validation Recall: %0.2f (+/- %0.2f)\" % (scores3.mean(), scores3.std()))\n",
        "    print(\"Cross Validation roc_auc: %0.2f (+/- %0.2f)\" % (scores4.mean(), scores4.std()))\n",
        "    \n",
        "    return  \n",
        "  \n",
        "# Function to get roc curve\n",
        "def get_roc (y_test,y_pred):\n",
        "    # Compute ROC curve and ROC area for each class\n",
        "    fpr = dict()\n",
        "    tpr = dict()\n",
        "    roc_auc = dict()\n",
        "    fpr, tpr, _ = roc_curve(y_test, y_pred)\n",
        "    roc_auc = auc(fpr, tpr)\n",
        "    #Plot of a ROC curve\n",
        "    plt.figure()\n",
        "    lw = 2\n",
        "    plt.plot(fpr, tpr, color='darkorange',\n",
        "             label='ROC curve (area = %0.2f)' % roc_auc)\n",
        "    plt.plot([0, 1], [0, 1], color='navy', lw=lw, linestyle='--')\n",
        "    plt.xlim([0.0, 1.0])\n",
        "    plt.ylim([0.0, 1.0])\n",
        "    plt.xlabel('False Positive Rate')\n",
        "    plt.ylabel('True Positive Rate')\n",
        "    plt.title('Receiver operating characteristic')\n",
        "    plt.legend(loc=\"upper left\")\n",
        "    plt.show()\n",
        "    return\n"
      ],
      "execution_count": 3,
      "outputs": []
    },
    {
      "cell_type": "markdown",
      "metadata": {
        "id": "ktQtae8aBGPQ",
        "_uuid": "148a2b3cfebaac7674b5bb78496d1cf0266a26cf"
      },
      "source": [
        "#### XGBoost Model"
      ]
    },
    {
      "cell_type": "code",
      "metadata": {
        "id": "qOM2Y0A8CGN8",
        "collapsed": true,
        "_uuid": "a7b80d642ccc18e23b9a0ece9c7f57eca3c67cfd",
        "jupyter": {
          "outputs_hidden": true
        },
        "trusted": true
      },
      "source": [
        "import warnings\n",
        "warnings.filterwarnings(\"ignore\", category=DeprecationWarning) \n",
        "\n",
        "import xgboost as xgb\n",
        "from xgboost import XGBClassifier\n",
        "#print('XGBoost v',xgb.__version__)\n",
        "\n",
        "# fit, train and cross validate Decision Tree with training and test data \n",
        "def xgbclf(params, X_train, y_train,X_test, y_test):\n",
        "  \n",
        "    eval_set=[(X_train, y_train), (X_test, y_test)]\n",
        "    \n",
        "    model = XGBClassifier(**params).\\\n",
        "      fit(X_train, y_train, eval_set=eval_set, \\\n",
        "                  eval_metric='auc', early_stopping_rounds = 100, verbose=100)\n",
        "        \n",
        "    #print(model.best_ntree_limit)\n",
        "\n",
        "    model.set_params(**{'n_estimators': model.best_ntree_limit})\n",
        "    model.fit(X_train, y_train)\n",
        "    #print(model,'\\n')\n",
        "    \n",
        "    # Predict target variables y for test data\n",
        "    y_pred = model.predict(X_test, ntree_limit=model.best_ntree_limit) #model.best_iteration\n",
        "    #print(y_pred)\n",
        "   \n",
        "    # Get Cross Validation and Confusion matrix\n",
        "    #get_eval(model, X_train, y_train)\n",
        "    #get_eval2(model, X_train, y_train,X_test, y_test)\n",
        "    \n",
        "    # Create and print confusion matrix    \n",
        "    abclf_cm = confusion_matrix(y_test,y_pred)\n",
        "    print(abclf_cm)\n",
        "    \n",
        "    #y_pred = model.predict(X_test)\n",
        "    print (classification_report(y_test,y_pred) )\n",
        "    print ('\\n')\n",
        "    print (\"Model Final Generalization Accuracy: %.6f\" %accuracy_score(y_test,y_pred) )\n",
        "    \n",
        "    # Predict probabilities target variables y for test data\n",
        "    y_pred_proba = model.predict_proba(X_test, ntree_limit=model.best_ntree_limit)[:,1] #model.best_iteration\n",
        "    get_roc (y_test,y_pred_proba)\n",
        "    return model\n",
        "\n",
        "def plot_featureImportance(model, keys):\n",
        "  importances = model.feature_importances_\n",
        "\n",
        "  importance_frame = pd.DataFrame({'Importance': list(importances), 'Feature': list(keys)})\n",
        "  importance_frame.sort_values(by = 'Importance', inplace = True)\n",
        "  importance_frame.tail(10).plot(kind = 'barh', x = 'Feature', figsize = (8,8), color = 'orange')"
      ],
      "execution_count": 4,
      "outputs": []
    },
    {
      "cell_type": "markdown",
      "metadata": {
        "id": "b9VmiiUDCvRV",
        "_uuid": "2e8d5ce5e9daf39d851ca53856f640a90156745a"
      },
      "source": [
        "<a id=\"Preprocess\"></a> <br>\n",
        "# **2. Preprocess** \n",
        "- Importing Dataset\n",
        "- StandardScaler\n",
        "- Encoding Categorical Feature\n",
        "- Concate Transformed Dataset\n",
        "- Split Training Dataset\n",
        "- XGBoost  1a: Unbalance Dataset (Base Model: ROC_AUC:0.74)\n",
        "- XGBoost  1b: Unbalance Dataset (ROC_AUC:0.79)"
      ]
    },
    {
      "cell_type": "markdown",
      "metadata": {
        "id": "L4G0iMwfKb4J",
        "_uuid": "366cfb21b371f12c5bbf005342de219717fde974"
      },
      "source": [
        "### Import Dataset\n",
        "\n",
        "OK let's get started. We'll download the data from the UCI website."
      ]
    },
    {
      "cell_type": "code",
      "metadata": {
        "id": "YYgBTbPj1fbQ",
        "colab": {
          "base_uri": "https://localhost:8080/",
          "height": 498
        },
        "_uuid": "4807a2a54ddeb7ecb9142b586088ea672103d4ff",
        "collapsed": true,
        "jupyter": {
          "outputs_hidden": true
        },
        "trusted": true,
        "outputId": "ee90853d-6701-418a-ca9c-b67eb4a59109"
      },
      "source": [
        "url = \"http://archive.ics.uci.edu/ml/machine-learning-databases/statlog/german/german.data\"\n",
        "\n",
        "names = ['existingchecking', 'duration', 'credithistory', 'purpose', 'creditamount', \n",
        "         'savings', 'employmentsince', 'installmentrate', 'statussex', 'otherdebtors', \n",
        "         'residencesince', 'property', 'age', 'otherinstallmentplans', 'housing', \n",
        "         'existingcredits', 'job', 'peopleliable', 'telephone', 'foreignworker', 'classification']\n",
        "\n",
        "data = pd.read_csv(url, names = names, delimiter=' ')\n",
        "print(data.shape)\n",
        "print (data.columns)\n",
        "data.head(10)"
      ],
      "execution_count": 5,
      "outputs": [
        {
          "output_type": "stream",
          "name": "stdout",
          "text": [
            "(1000, 21)\n",
            "Index(['existingchecking', 'duration', 'credithistory', 'purpose',\n",
            "       'creditamount', 'savings', 'employmentsince', 'installmentrate',\n",
            "       'statussex', 'otherdebtors', 'residencesince', 'property', 'age',\n",
            "       'otherinstallmentplans', 'housing', 'existingcredits', 'job',\n",
            "       'peopleliable', 'telephone', 'foreignworker', 'classification'],\n",
            "      dtype='object')\n"
          ]
        },
        {
          "output_type": "execute_result",
          "data": {
            "text/html": [
              "<div>\n",
              "<style scoped>\n",
              "    .dataframe tbody tr th:only-of-type {\n",
              "        vertical-align: middle;\n",
              "    }\n",
              "\n",
              "    .dataframe tbody tr th {\n",
              "        vertical-align: top;\n",
              "    }\n",
              "\n",
              "    .dataframe thead th {\n",
              "        text-align: right;\n",
              "    }\n",
              "</style>\n",
              "<table border=\"1\" class=\"dataframe\">\n",
              "  <thead>\n",
              "    <tr style=\"text-align: right;\">\n",
              "      <th></th>\n",
              "      <th>existingchecking</th>\n",
              "      <th>duration</th>\n",
              "      <th>credithistory</th>\n",
              "      <th>purpose</th>\n",
              "      <th>creditamount</th>\n",
              "      <th>savings</th>\n",
              "      <th>employmentsince</th>\n",
              "      <th>installmentrate</th>\n",
              "      <th>statussex</th>\n",
              "      <th>otherdebtors</th>\n",
              "      <th>residencesince</th>\n",
              "      <th>property</th>\n",
              "      <th>age</th>\n",
              "      <th>otherinstallmentplans</th>\n",
              "      <th>housing</th>\n",
              "      <th>existingcredits</th>\n",
              "      <th>job</th>\n",
              "      <th>peopleliable</th>\n",
              "      <th>telephone</th>\n",
              "      <th>foreignworker</th>\n",
              "      <th>classification</th>\n",
              "    </tr>\n",
              "  </thead>\n",
              "  <tbody>\n",
              "    <tr>\n",
              "      <th>0</th>\n",
              "      <td>A11</td>\n",
              "      <td>6</td>\n",
              "      <td>A34</td>\n",
              "      <td>A43</td>\n",
              "      <td>1169</td>\n",
              "      <td>A65</td>\n",
              "      <td>A75</td>\n",
              "      <td>4</td>\n",
              "      <td>A93</td>\n",
              "      <td>A101</td>\n",
              "      <td>4</td>\n",
              "      <td>A121</td>\n",
              "      <td>67</td>\n",
              "      <td>A143</td>\n",
              "      <td>A152</td>\n",
              "      <td>2</td>\n",
              "      <td>A173</td>\n",
              "      <td>1</td>\n",
              "      <td>A192</td>\n",
              "      <td>A201</td>\n",
              "      <td>1</td>\n",
              "    </tr>\n",
              "    <tr>\n",
              "      <th>1</th>\n",
              "      <td>A12</td>\n",
              "      <td>48</td>\n",
              "      <td>A32</td>\n",
              "      <td>A43</td>\n",
              "      <td>5951</td>\n",
              "      <td>A61</td>\n",
              "      <td>A73</td>\n",
              "      <td>2</td>\n",
              "      <td>A92</td>\n",
              "      <td>A101</td>\n",
              "      <td>2</td>\n",
              "      <td>A121</td>\n",
              "      <td>22</td>\n",
              "      <td>A143</td>\n",
              "      <td>A152</td>\n",
              "      <td>1</td>\n",
              "      <td>A173</td>\n",
              "      <td>1</td>\n",
              "      <td>A191</td>\n",
              "      <td>A201</td>\n",
              "      <td>2</td>\n",
              "    </tr>\n",
              "    <tr>\n",
              "      <th>2</th>\n",
              "      <td>A14</td>\n",
              "      <td>12</td>\n",
              "      <td>A34</td>\n",
              "      <td>A46</td>\n",
              "      <td>2096</td>\n",
              "      <td>A61</td>\n",
              "      <td>A74</td>\n",
              "      <td>2</td>\n",
              "      <td>A93</td>\n",
              "      <td>A101</td>\n",
              "      <td>3</td>\n",
              "      <td>A121</td>\n",
              "      <td>49</td>\n",
              "      <td>A143</td>\n",
              "      <td>A152</td>\n",
              "      <td>1</td>\n",
              "      <td>A172</td>\n",
              "      <td>2</td>\n",
              "      <td>A191</td>\n",
              "      <td>A201</td>\n",
              "      <td>1</td>\n",
              "    </tr>\n",
              "    <tr>\n",
              "      <th>3</th>\n",
              "      <td>A11</td>\n",
              "      <td>42</td>\n",
              "      <td>A32</td>\n",
              "      <td>A42</td>\n",
              "      <td>7882</td>\n",
              "      <td>A61</td>\n",
              "      <td>A74</td>\n",
              "      <td>2</td>\n",
              "      <td>A93</td>\n",
              "      <td>A103</td>\n",
              "      <td>4</td>\n",
              "      <td>A122</td>\n",
              "      <td>45</td>\n",
              "      <td>A143</td>\n",
              "      <td>A153</td>\n",
              "      <td>1</td>\n",
              "      <td>A173</td>\n",
              "      <td>2</td>\n",
              "      <td>A191</td>\n",
              "      <td>A201</td>\n",
              "      <td>1</td>\n",
              "    </tr>\n",
              "    <tr>\n",
              "      <th>4</th>\n",
              "      <td>A11</td>\n",
              "      <td>24</td>\n",
              "      <td>A33</td>\n",
              "      <td>A40</td>\n",
              "      <td>4870</td>\n",
              "      <td>A61</td>\n",
              "      <td>A73</td>\n",
              "      <td>3</td>\n",
              "      <td>A93</td>\n",
              "      <td>A101</td>\n",
              "      <td>4</td>\n",
              "      <td>A124</td>\n",
              "      <td>53</td>\n",
              "      <td>A143</td>\n",
              "      <td>A153</td>\n",
              "      <td>2</td>\n",
              "      <td>A173</td>\n",
              "      <td>2</td>\n",
              "      <td>A191</td>\n",
              "      <td>A201</td>\n",
              "      <td>2</td>\n",
              "    </tr>\n",
              "    <tr>\n",
              "      <th>5</th>\n",
              "      <td>A14</td>\n",
              "      <td>36</td>\n",
              "      <td>A32</td>\n",
              "      <td>A46</td>\n",
              "      <td>9055</td>\n",
              "      <td>A65</td>\n",
              "      <td>A73</td>\n",
              "      <td>2</td>\n",
              "      <td>A93</td>\n",
              "      <td>A101</td>\n",
              "      <td>4</td>\n",
              "      <td>A124</td>\n",
              "      <td>35</td>\n",
              "      <td>A143</td>\n",
              "      <td>A153</td>\n",
              "      <td>1</td>\n",
              "      <td>A172</td>\n",
              "      <td>2</td>\n",
              "      <td>A192</td>\n",
              "      <td>A201</td>\n",
              "      <td>1</td>\n",
              "    </tr>\n",
              "    <tr>\n",
              "      <th>6</th>\n",
              "      <td>A14</td>\n",
              "      <td>24</td>\n",
              "      <td>A32</td>\n",
              "      <td>A42</td>\n",
              "      <td>2835</td>\n",
              "      <td>A63</td>\n",
              "      <td>A75</td>\n",
              "      <td>3</td>\n",
              "      <td>A93</td>\n",
              "      <td>A101</td>\n",
              "      <td>4</td>\n",
              "      <td>A122</td>\n",
              "      <td>53</td>\n",
              "      <td>A143</td>\n",
              "      <td>A152</td>\n",
              "      <td>1</td>\n",
              "      <td>A173</td>\n",
              "      <td>1</td>\n",
              "      <td>A191</td>\n",
              "      <td>A201</td>\n",
              "      <td>1</td>\n",
              "    </tr>\n",
              "    <tr>\n",
              "      <th>7</th>\n",
              "      <td>A12</td>\n",
              "      <td>36</td>\n",
              "      <td>A32</td>\n",
              "      <td>A41</td>\n",
              "      <td>6948</td>\n",
              "      <td>A61</td>\n",
              "      <td>A73</td>\n",
              "      <td>2</td>\n",
              "      <td>A93</td>\n",
              "      <td>A101</td>\n",
              "      <td>2</td>\n",
              "      <td>A123</td>\n",
              "      <td>35</td>\n",
              "      <td>A143</td>\n",
              "      <td>A151</td>\n",
              "      <td>1</td>\n",
              "      <td>A174</td>\n",
              "      <td>1</td>\n",
              "      <td>A192</td>\n",
              "      <td>A201</td>\n",
              "      <td>1</td>\n",
              "    </tr>\n",
              "    <tr>\n",
              "      <th>8</th>\n",
              "      <td>A14</td>\n",
              "      <td>12</td>\n",
              "      <td>A32</td>\n",
              "      <td>A43</td>\n",
              "      <td>3059</td>\n",
              "      <td>A64</td>\n",
              "      <td>A74</td>\n",
              "      <td>2</td>\n",
              "      <td>A91</td>\n",
              "      <td>A101</td>\n",
              "      <td>4</td>\n",
              "      <td>A121</td>\n",
              "      <td>61</td>\n",
              "      <td>A143</td>\n",
              "      <td>A152</td>\n",
              "      <td>1</td>\n",
              "      <td>A172</td>\n",
              "      <td>1</td>\n",
              "      <td>A191</td>\n",
              "      <td>A201</td>\n",
              "      <td>1</td>\n",
              "    </tr>\n",
              "    <tr>\n",
              "      <th>9</th>\n",
              "      <td>A12</td>\n",
              "      <td>30</td>\n",
              "      <td>A34</td>\n",
              "      <td>A40</td>\n",
              "      <td>5234</td>\n",
              "      <td>A61</td>\n",
              "      <td>A71</td>\n",
              "      <td>4</td>\n",
              "      <td>A94</td>\n",
              "      <td>A101</td>\n",
              "      <td>2</td>\n",
              "      <td>A123</td>\n",
              "      <td>28</td>\n",
              "      <td>A143</td>\n",
              "      <td>A152</td>\n",
              "      <td>2</td>\n",
              "      <td>A174</td>\n",
              "      <td>1</td>\n",
              "      <td>A191</td>\n",
              "      <td>A201</td>\n",
              "      <td>2</td>\n",
              "    </tr>\n",
              "  </tbody>\n",
              "</table>\n",
              "</div>"
            ],
            "text/plain": [
              "  existingchecking  duration  ... foreignworker classification\n",
              "0              A11         6  ...          A201              1\n",
              "1              A12        48  ...          A201              2\n",
              "2              A14        12  ...          A201              1\n",
              "3              A11        42  ...          A201              1\n",
              "4              A11        24  ...          A201              2\n",
              "5              A14        36  ...          A201              1\n",
              "6              A14        24  ...          A201              1\n",
              "7              A12        36  ...          A201              1\n",
              "8              A14        12  ...          A201              1\n",
              "9              A12        30  ...          A201              2\n",
              "\n",
              "[10 rows x 21 columns]"
            ]
          },
          "metadata": {},
          "execution_count": 5
        }
      ]
    },
    {
      "cell_type": "code",
      "metadata": {
        "id": "B3FPJfz33xkK",
        "colab": {
          "base_uri": "https://localhost:8080/"
        },
        "_uuid": "224c2c3967abdccd1e4527c18024e08288ba1ca9",
        "collapsed": true,
        "jupyter": {
          "outputs_hidden": true
        },
        "trusted": true,
        "outputId": "abc0fc15-193c-4c1f-9fe3-c19fb34081e4"
      },
      "source": [
        "# Binarize the y output for easier use of e.g. ROC curves -> 0 = 'bad' credit; 1 = 'good' credit\n",
        "data.classification.replace([1,2], [1,0], inplace=True)\n",
        "# Print number of 'good' credits (should be 700) and 'bad credits (should be 300)\n",
        "data.classification.value_counts()"
      ],
      "execution_count": 6,
      "outputs": [
        {
          "output_type": "execute_result",
          "data": {
            "text/plain": [
              "1    700\n",
              "0    300\n",
              "Name: classification, dtype: int64"
            ]
          },
          "metadata": {},
          "execution_count": 6
        }
      ]
    },
    {
      "cell_type": "markdown",
      "metadata": {
        "id": "Tr1A8ZIHzuFw",
        "_uuid": "2d2774790c3f63cfc0eaa81517ce8f0eb4680478"
      },
      "source": [
        "### StandardScaler"
      ]
    },
    {
      "cell_type": "code",
      "metadata": {
        "id": "dKKUEqTo380x",
        "_uuid": "f03a76714ee08fe41f9b59aab287d68d481892b5",
        "collapsed": true,
        "jupyter": {
          "outputs_hidden": true
        },
        "trusted": true
      },
      "source": [
        "#numerical variables labels\n",
        "numvars = ['creditamount', 'duration', 'installmentrate', 'residencesince', 'age', \n",
        "           'existingcredits', 'peopleliable', 'classification']\n",
        "\n",
        "# Standardization\n",
        "numdata_std = pd.DataFrame(StandardScaler().fit_transform(data[numvars].drop(['classification'], axis=1)))"
      ],
      "execution_count": 7,
      "outputs": []
    },
    {
      "cell_type": "markdown",
      "metadata": {
        "id": "X4ZzfmRy4M9I",
        "_uuid": "19dce81fc16194265c5d8942fa81c64934d60855"
      },
      "source": [
        "### Encoding Categorical Feature\n",
        "\n",
        "Labelencoding to transform categorical to numerical, Enables better Visualization than one hot encoding"
      ]
    },
    {
      "cell_type": "code",
      "metadata": {
        "id": "xSnUU8E_4IgX",
        "colab": {
          "base_uri": "https://localhost:8080/"
        },
        "_uuid": "dab67695a0984af965a7dbea250276c4369b5875",
        "collapsed": true,
        "jupyter": {
          "outputs_hidden": true
        },
        "trusted": true,
        "outputId": "b97741fc-a400-429b-e612-eaa6534ff221"
      },
      "source": [
        "from collections import defaultdict\n",
        "\n",
        "#categorical variables labels\n",
        "catvars = ['existingchecking', 'credithistory', 'purpose', 'savings', 'employmentsince',\n",
        "           'statussex', 'otherdebtors', 'property', 'otherinstallmentplans', 'housing', 'job', \n",
        "           'telephone', 'foreignworker']\n",
        "\n",
        "d = defaultdict(LabelEncoder)\n",
        "\n",
        "# Encoding the variable\n",
        "lecatdata = data[catvars].apply(lambda x: d[x.name].fit_transform(x))\n",
        "\n",
        "# print transformations\n",
        "for x in range(len(catvars)):\n",
        "    print(catvars[x],\": \", data[catvars[x]].unique())\n",
        "    print(catvars[x],\": \", lecatdata[catvars[x]].unique())\n",
        "\n",
        "#One hot encoding, create dummy variables for every category of every categorical variable\n",
        "dummyvars = pd.get_dummies(data[catvars])"
      ],
      "execution_count": 8,
      "outputs": [
        {
          "output_type": "stream",
          "name": "stdout",
          "text": [
            "existingchecking :  ['A11' 'A12' 'A14' 'A13']\n",
            "existingchecking :  [0 1 3 2]\n",
            "credithistory :  ['A34' 'A32' 'A33' 'A30' 'A31']\n",
            "credithistory :  [4 2 3 0 1]\n",
            "purpose :  ['A43' 'A46' 'A42' 'A40' 'A41' 'A49' 'A44' 'A45' 'A410' 'A48']\n",
            "purpose :  [4 7 3 0 1 9 5 6 2 8]\n",
            "savings :  ['A65' 'A61' 'A63' 'A64' 'A62']\n",
            "savings :  [4 0 2 3 1]\n",
            "employmentsince :  ['A75' 'A73' 'A74' 'A71' 'A72']\n",
            "employmentsince :  [4 2 3 0 1]\n",
            "statussex :  ['A93' 'A92' 'A91' 'A94']\n",
            "statussex :  [2 1 0 3]\n",
            "otherdebtors :  ['A101' 'A103' 'A102']\n",
            "otherdebtors :  [0 2 1]\n",
            "property :  ['A121' 'A122' 'A124' 'A123']\n",
            "property :  [0 1 3 2]\n",
            "otherinstallmentplans :  ['A143' 'A141' 'A142']\n",
            "otherinstallmentplans :  [2 0 1]\n",
            "housing :  ['A152' 'A153' 'A151']\n",
            "housing :  [1 2 0]\n",
            "job :  ['A173' 'A172' 'A174' 'A171']\n",
            "job :  [2 1 3 0]\n",
            "telephone :  ['A192' 'A191']\n",
            "telephone :  [1 0]\n",
            "foreignworker :  ['A201' 'A202']\n",
            "foreignworker :  [0 1]\n"
          ]
        }
      ]
    },
    {
      "cell_type": "markdown",
      "metadata": {
        "id": "R3OBrifU4Zpb",
        "_uuid": "6a15498bdd45a6b2d0c88edbe3059744294396c6"
      },
      "source": [
        "### Concate Transformed Dataset\n",
        "append the dummy variable of the initial numerical variables numvars# append "
      ]
    },
    {
      "cell_type": "code",
      "metadata": {
        "id": "jkncbC1M4ZzD",
        "colab": {
          "base_uri": "https://localhost:8080/"
        },
        "_uuid": "50738e0e4b89a8facc7c73581661f3110427d8e9",
        "collapsed": true,
        "jupyter": {
          "outputs_hidden": true
        },
        "trusted": true,
        "outputId": "8c2ec46b-2b46-48e6-cf06-e5b40a5270c2"
      },
      "source": [
        "data_clean = pd.concat([data[numvars], dummyvars], axis = 1)\n",
        "\n",
        "print(data_clean.shape)"
      ],
      "execution_count": 9,
      "outputs": [
        {
          "output_type": "stream",
          "name": "stdout",
          "text": [
            "(1000, 62)\n"
          ]
        }
      ]
    },
    {
      "cell_type": "markdown",
      "metadata": {
        "id": "OI89YwDN4kXI",
        "_uuid": "53f8db9397eeb56dae3d735e712b4ba251a36a7b"
      },
      "source": [
        "### Split Training Dataset"
      ]
    },
    {
      "cell_type": "code",
      "metadata": {
        "id": "cP6puz7s4hQr",
        "collapsed": true,
        "_uuid": "5f1724b5dc93f592481eb1c608553d1c5fad2108",
        "jupyter": {
          "outputs_hidden": true
        },
        "trusted": true
      },
      "source": [
        "# Unscaled, unnormalized data\n",
        "X_clean = data_clean.drop('classification', axis=1)\n",
        "y_clean = data_clean['classification']\n",
        "# X_train_clean, X_test_clean, y_train_clean, y_test_clean = train_test_split(X_clean,y_clean,test_size=0.2, random_state=1)"
      ],
      "execution_count": 12,
      "outputs": []
    },
    {
      "cell_type": "code",
      "metadata": {
        "id": "RsF5C6A0EPzF"
      },
      "source": [
        "X_pp_train, X_conf_train, y_pp_train, y_conf_train  = train_test_split(X_clean, y_clean, test_size=0.66, random_state=10)\n",
        "X_conf_train, X_cal, y_conf_train, y_cal =  train_test_split(X_conf_train, y_conf_train, test_size=0.5, random_state=0)\n",
        "X_cal, X_test, y_cal,  y_test, =                      train_test_split(X_cal, y_cal, test_size=0.5, random_state=0)\n",
        "\n",
        "# model = RandomForestClassifier(random_state =0,\n",
        "#                                n_estimators =800,\n",
        "#                                n_jobs =-1)\n",
        "\n",
        "# model.fit(X_pp_train, y_pp_train)\n"
      ],
      "execution_count": 13,
      "outputs": []
    },
    {
      "cell_type": "code",
      "metadata": {
        "id": "MkEfVz7rgssR",
        "colab": {
          "base_uri": "https://localhost:8080/"
        },
        "_uuid": "900557195bd519524bb3d46fb6b3d8d7344692dc",
        "collapsed": true,
        "jupyter": {
          "outputs_hidden": true
        },
        "trusted": true,
        "outputId": "931cc4f5-f246-4614-bfc9-6484b80d6203"
      },
      "source": [
        "X_pp_train.keys()"
      ],
      "execution_count": 14,
      "outputs": [
        {
          "output_type": "execute_result",
          "data": {
            "text/plain": [
              "Index(['creditamount', 'duration', 'installmentrate', 'residencesince', 'age',\n",
              "       'existingcredits', 'peopleliable', 'existingchecking_A11',\n",
              "       'existingchecking_A12', 'existingchecking_A13', 'existingchecking_A14',\n",
              "       'credithistory_A30', 'credithistory_A31', 'credithistory_A32',\n",
              "       'credithistory_A33', 'credithistory_A34', 'purpose_A40', 'purpose_A41',\n",
              "       'purpose_A410', 'purpose_A42', 'purpose_A43', 'purpose_A44',\n",
              "       'purpose_A45', 'purpose_A46', 'purpose_A48', 'purpose_A49',\n",
              "       'savings_A61', 'savings_A62', 'savings_A63', 'savings_A64',\n",
              "       'savings_A65', 'employmentsince_A71', 'employmentsince_A72',\n",
              "       'employmentsince_A73', 'employmentsince_A74', 'employmentsince_A75',\n",
              "       'statussex_A91', 'statussex_A92', 'statussex_A93', 'statussex_A94',\n",
              "       'otherdebtors_A101', 'otherdebtors_A102', 'otherdebtors_A103',\n",
              "       'property_A121', 'property_A122', 'property_A123', 'property_A124',\n",
              "       'otherinstallmentplans_A141', 'otherinstallmentplans_A142',\n",
              "       'otherinstallmentplans_A143', 'housing_A151', 'housing_A152',\n",
              "       'housing_A153', 'job_A171', 'job_A172', 'job_A173', 'job_A174',\n",
              "       'telephone_A191', 'telephone_A192', 'foreignworker_A201',\n",
              "       'foreignworker_A202'],\n",
              "      dtype='object')"
            ]
          },
          "metadata": {},
          "execution_count": 14
        }
      ]
    },
    {
      "cell_type": "markdown",
      "metadata": {
        "id": "3LRHY79JAlbF",
        "_uuid": "924ad3aaf8f771939fafab52352598b158d4d9bb"
      },
      "source": [
        "### XGBoost  1a: Unbalance Dataset (Base Model: ROC_AUC:0.74)"
      ]
    },
    {
      "cell_type": "code",
      "metadata": {
        "id": "trS6OdaaEoKL",
        "colab": {
          "base_uri": "https://localhost:8080/",
          "height": 743
        },
        "_uuid": "03740b4aa1ec34f7874001fe00f36496a607050b",
        "collapsed": true,
        "jupyter": {
          "outputs_hidden": true
        },
        "trusted": true,
        "outputId": "4be9cd9f-9244-4f47-e1d0-b9b5478ed85e"
      },
      "source": [
        "params={}\n",
        "xgbclf(params, X_pp_train, y_pp_train, X_test, y_test)"
      ],
      "execution_count": 15,
      "outputs": [
        {
          "output_type": "stream",
          "name": "stdout",
          "text": [
            "[0]\tvalidation_0-auc:0.808303\tvalidation_1-auc:0.675623\n",
            "Multiple eval metrics have been passed: 'validation_1-auc' will be used for early stopping.\n",
            "\n",
            "Will train until validation_1-auc hasn't improved in 100 rounds.\n",
            "[99]\tvalidation_0-auc:0.99067\tvalidation_1-auc:0.725573\n",
            "[[20 33]\n",
            " [16 96]]\n",
            "              precision    recall  f1-score   support\n",
            "\n",
            "           0       0.56      0.38      0.45        53\n",
            "           1       0.74      0.86      0.80       112\n",
            "\n",
            "    accuracy                           0.70       165\n",
            "   macro avg       0.65      0.62      0.62       165\n",
            "weighted avg       0.68      0.70      0.69       165\n",
            "\n",
            "\n",
            "\n",
            "Model Final Generalization Accuracy: 0.703030\n"
          ]
        },
        {
          "output_type": "display_data",
          "data": {
            "image/png": "[encoded data removed]",
            "text/plain": [
              "<Figure size 432x288 with 1 Axes>"
            ]
          },
          "metadata": {}
        },
        {
          "output_type": "execute_result",
          "data": {
            "text/plain": [
              "XGBClassifier(base_score=0.5, booster='gbtree', colsample_bylevel=1,\n",
              "              colsample_bynode=1, colsample_bytree=1, gamma=0,\n",
              "              learning_rate=0.1, max_delta_step=0, max_depth=3,\n",
              "              min_child_weight=1, missing=None, n_estimators=40, n_jobs=1,\n",
              "              nthread=None, objective='binary:logistic', random_state=0,\n",
              "              reg_alpha=0, reg_lambda=1, scale_pos_weight=1, seed=None,\n",
              "              silent=None, subsample=1, verbosity=1)"
            ]
          },
          "metadata": {},
          "execution_count": 15
        }
      ]
    },
    {
      "cell_type": "markdown",
      "metadata": {
        "_uuid": "10ebb57456ac4233b77b1ad284c15984aee73a1c",
        "id": "ylrlLjs8bX_k"
      },
      "source": [
        "### XGBoost  1b: Unbalance Dataset (ROC_AUC:0.79)"
      ]
    },
    {
      "cell_type": "code",
      "metadata": {
        "_uuid": "9b27e5641d57347d244ebc33a634c35a3a8e0947",
        "collapsed": true,
        "jupyter": {
          "outputs_hidden": true
        },
        "trusted": true,
        "colab": {
          "base_uri": "https://localhost:8080/",
          "height": 845
        },
        "id": "BSTCnez0bX_k",
        "outputId": "102e17d2-d0ca-49eb-945c-f9143b861b5b"
      },
      "source": [
        "params={}\n",
        "\n",
        "params1={\n",
        "    'n_estimators':3000,\n",
        "    'objective': 'binary:logistic',\n",
        "    'learning_rate': 0.05,\n",
        "    'gamma':0.1,\n",
        "    'subsample':0.8,\n",
        "    'colsample_bytree':0.3,\n",
        "    'min_child_weight':3,\n",
        "    'max_depth':3,\n",
        "    #'seed':1024,\n",
        "    'n_jobs' : -1\n",
        "}\n",
        "\n",
        "params2={\n",
        "    'n_estimators':3000,\n",
        "    'objective': 'binary:logistic',\n",
        "    'learning_rate': 0.005,\n",
        "    #'gamma':0.01,\n",
        "    'subsample':0.555,\n",
        "    'colsample_bytree':0.7,\n",
        "    'min_child_weight':3,\n",
        "    'max_depth':8,\n",
        "    #'seed':1024,\n",
        "    'n_jobs' : -1\n",
        "}\n",
        "\n",
        "xgbclf(params2, X_pp_train, y_pp_train, X_test, y_test)\n",
        "# xgbclf(params2, X_train_clean, y_train_clean, X_test_clean, y_test_clean)"
      ],
      "execution_count": 18,
      "outputs": [
        {
          "output_type": "stream",
          "name": "stdout",
          "text": [
            "[0]\tvalidation_0-auc:0.79661\tvalidation_1-auc:0.686237\n",
            "Multiple eval metrics have been passed: 'validation_1-auc' will be used for early stopping.\n",
            "\n",
            "Will train until validation_1-auc hasn't improved in 100 rounds.\n",
            "[100]\tvalidation_0-auc:0.893497\tvalidation_1-auc:0.724562\n",
            "[200]\tvalidation_0-auc:0.904335\tvalidation_1-auc:0.727763\n",
            "[300]\tvalidation_0-auc:0.917495\tvalidation_1-auc:0.730627\n",
            "[400]\tvalidation_0-auc:0.92654\tvalidation_1-auc:0.735007\n",
            "Stopping. Best iteration:\n",
            "[381]\tvalidation_0-auc:0.924666\tvalidation_1-auc:0.735175\n",
            "\n",
            "[[19 34]\n",
            " [17 95]]\n",
            "              precision    recall  f1-score   support\n",
            "\n",
            "           0       0.53      0.36      0.43        53\n",
            "           1       0.74      0.85      0.79       112\n",
            "\n",
            "    accuracy                           0.69       165\n",
            "   macro avg       0.63      0.60      0.61       165\n",
            "weighted avg       0.67      0.69      0.67       165\n",
            "\n",
            "\n",
            "\n",
            "Model Final Generalization Accuracy: 0.690909\n"
          ]
        },
        {
          "output_type": "display_data",
          "data": {
            "image/png": "[encoded data removed]",
            "text/plain": [
              "<Figure size 432x288 with 1 Axes>"
            ]
          },
          "metadata": {}
        },
        {
          "output_type": "execute_result",
          "data": {
            "text/plain": [
              "XGBClassifier(base_score=0.5, booster='gbtree', colsample_bylevel=1,\n",
              "              colsample_bynode=1, colsample_bytree=0.7, gamma=0,\n",
              "              learning_rate=0.005, max_delta_step=0, max_depth=8,\n",
              "              min_child_weight=3, missing=None, n_estimators=382, n_jobs=-1,\n",
              "              nthread=None, objective='binary:logistic', random_state=0,\n",
              "              reg_alpha=0, reg_lambda=1, scale_pos_weight=1, seed=None,\n",
              "              silent=None, subsample=0.555, verbosity=1)"
            ]
          },
          "metadata": {},
          "execution_count": 18
        }
      ]
    },
    {
      "cell_type": "code",
      "metadata": {
        "id": "FEtin3FKFgfv"
      },
      "source": [
        "# pip install macest"
      ],
      "execution_count": null,
      "outputs": []
    },
    {
      "cell_type": "code",
      "metadata": {
        "colab": {
          "base_uri": "https://localhost:8080/"
        },
        "id": "KrIHQdWFGPpT",
        "outputId": "fc3f9151-d74b-4c7d-c191-4eddde0e16b7"
      },
      "source": [
        "print(X_conf_train,y_conf_train )"
      ],
      "execution_count": 23,
      "outputs": [
        {
          "output_type": "stream",
          "name": "stdout",
          "text": [
            "     creditamount  duration  ...  foreignworker_A201  foreignworker_A202\n",
            "593          2718        24  ...                   1                   0\n",
            "781          1940        24  ...                   1                   0\n",
            "729          1275        24  ...                   1                   0\n",
            "284          3878        24  ...                   1                   0\n",
            "759           691        12  ...                   1                   0\n",
            "..            ...       ...  ...                 ...                 ...\n",
            "120          1835        21  ...                   1                   0\n",
            "302          1344        24  ...                   1                   0\n",
            "378         14318        36  ...                   1                   0\n",
            "999          4576        45  ...                   1                   0\n",
            "81           1213        15  ...                   1                   0\n",
            "\n",
            "[330 rows x 61 columns] 593    0\n",
            "781    1\n",
            "729    1\n",
            "284    1\n",
            "759    0\n",
            "      ..\n",
            "120    0\n",
            "302    0\n",
            "378    0\n",
            "999    1\n",
            "81     1\n",
            "Name: classification, Length: 330, dtype: int64\n"
          ]
        }
      ]
    },
    {
      "cell_type": "code",
      "metadata": {
        "colab": {
          "base_uri": "https://localhost:8080/",
          "height": 1000
        },
        "id": "nbMmXGpWFeSX",
        "outputId": "4d32c269-7adc-4323-e659-ac172aa7784f"
      },
      "source": [
        "from sklearn.calibration import CalibratedClassifierCV\n",
        "\n",
        "from macest.classification import models as clmod\n",
        "from macest.classification import plots as clplot\n",
        "\n",
        "macest_model = clmod.ModelWithConfidence(xgbclf, X_conf_train, y_conf_train)\n",
        "\n",
        "macest_model.fit(X_cal, y_cal)\n",
        "\n",
        "preds = xgbclf.predict(X_test, y_test)\n",
        "conf_preds = macest_model.predict_proba(X_test, y_test)\n",
        "rf_conf_preds = model.predict_proba(X_test, y_test)"
      ],
      "execution_count": 22,
      "outputs": [
        {
          "output_type": "error",
          "ename": "ImportError",
          "evalue": "ignored",
          "traceback": [
            "\u001b[0;31m---------------------------------------------------------------------------\u001b[0m",
            "\u001b[0;31mImportError\u001b[0m                               Traceback (most recent call last)",
            "\u001b[0;32m<ipython-input-22-9d61cda5381d>\u001b[0m in \u001b[0;36m<module>\u001b[0;34m()\u001b[0m\n\u001b[1;32m      4\u001b[0m \u001b[0;32mfrom\u001b[0m \u001b[0mmacest\u001b[0m\u001b[0;34m.\u001b[0m\u001b[0mclassification\u001b[0m \u001b[0;32mimport\u001b[0m \u001b[0mplots\u001b[0m \u001b[0;32mas\u001b[0m \u001b[0mclplot\u001b[0m\u001b[0;34m\u001b[0m\u001b[0;34m\u001b[0m\u001b[0m\n\u001b[1;32m      5\u001b[0m \u001b[0;34m\u001b[0m\u001b[0m\n\u001b[0;32m----> 6\u001b[0;31m \u001b[0mmacest_model\u001b[0m \u001b[0;34m=\u001b[0m \u001b[0mclmod\u001b[0m\u001b[0;34m.\u001b[0m\u001b[0mModelWithConfidence\u001b[0m\u001b[0;34m(\u001b[0m\u001b[0mxgbclf\u001b[0m\u001b[0;34m,\u001b[0m \u001b[0mX_conf_train\u001b[0m\u001b[0;34m,\u001b[0m \u001b[0my_conf_train\u001b[0m\u001b[0;34m)\u001b[0m\u001b[0;34m\u001b[0m\u001b[0;34m\u001b[0m\u001b[0m\n\u001b[0m\u001b[1;32m      7\u001b[0m \u001b[0;34m\u001b[0m\u001b[0m\n\u001b[1;32m      8\u001b[0m \u001b[0mmacest_model\u001b[0m\u001b[0;34m.\u001b[0m\u001b[0mfit\u001b[0m\u001b[0;34m(\u001b[0m\u001b[0mX_cal\u001b[0m\u001b[0;34m,\u001b[0m \u001b[0my_cal\u001b[0m\u001b[0;34m)\u001b[0m\u001b[0;34m\u001b[0m\u001b[0;34m\u001b[0m\u001b[0m\n",
            "\u001b[0;32m/usr/local/lib/python3.7/dist-packages/macest/classification/models.py\u001b[0m in \u001b[0;36m__init__\u001b[0;34m(self, point_pred_model, x_train, y_train, macest_model_params, precomputed_neighbour_info, graph, search_method_args, training_preds_by_class, verbose_training, empirical_conflict_constant)\u001b[0m\n\u001b[1;32m    128\u001b[0m             self.training_preds_by_class = {\n\u001b[1;32m    129\u001b[0m                 \u001b[0mkey\u001b[0m\u001b[0;34m:\u001b[0m \u001b[0mself\u001b[0m\u001b[0;34m.\u001b[0m\u001b[0mpredict\u001b[0m\u001b[0;34m(\u001b[0m\u001b[0mself\u001b[0m\u001b[0;34m.\u001b[0m\u001b[0mx_train\u001b[0m\u001b[0;34m[\u001b[0m\u001b[0my_train\u001b[0m \u001b[0;34m==\u001b[0m \u001b[0mkey\u001b[0m\u001b[0;34m]\u001b[0m\u001b[0;34m)\u001b[0m\u001b[0;34m\u001b[0m\u001b[0;34m\u001b[0m\u001b[0m\n\u001b[0;32m--> 130\u001b[0;31m                 \u001b[0;32mfor\u001b[0m \u001b[0mkey\u001b[0m \u001b[0;32min\u001b[0m \u001b[0mnp\u001b[0m\u001b[0;34m.\u001b[0m\u001b[0munique\u001b[0m\u001b[0;34m(\u001b[0m\u001b[0mself\u001b[0m\u001b[0;34m.\u001b[0m\u001b[0my_train\u001b[0m\u001b[0;34m)\u001b[0m\u001b[0;34m\u001b[0m\u001b[0;34m\u001b[0m\u001b[0m\n\u001b[0m\u001b[1;32m    131\u001b[0m             }\n\u001b[1;32m    132\u001b[0m \u001b[0;34m\u001b[0m\u001b[0m\n",
            "\u001b[0;32m/usr/local/lib/python3.7/dist-packages/macest/classification/models.py\u001b[0m in \u001b[0;36m<dictcomp>\u001b[0;34m(.0)\u001b[0m\n\u001b[1;32m    128\u001b[0m             self.training_preds_by_class = {\n\u001b[1;32m    129\u001b[0m                 \u001b[0mkey\u001b[0m\u001b[0;34m:\u001b[0m \u001b[0mself\u001b[0m\u001b[0;34m.\u001b[0m\u001b[0mpredict\u001b[0m\u001b[0;34m(\u001b[0m\u001b[0mself\u001b[0m\u001b[0;34m.\u001b[0m\u001b[0mx_train\u001b[0m\u001b[0;34m[\u001b[0m\u001b[0my_train\u001b[0m \u001b[0;34m==\u001b[0m \u001b[0mkey\u001b[0m\u001b[0;34m]\u001b[0m\u001b[0;34m)\u001b[0m\u001b[0;34m\u001b[0m\u001b[0;34m\u001b[0m\u001b[0m\n\u001b[0;32m--> 130\u001b[0;31m                 \u001b[0;32mfor\u001b[0m \u001b[0mkey\u001b[0m \u001b[0;32min\u001b[0m \u001b[0mnp\u001b[0m\u001b[0;34m.\u001b[0m\u001b[0munique\u001b[0m\u001b[0;34m(\u001b[0m\u001b[0mself\u001b[0m\u001b[0;34m.\u001b[0m\u001b[0my_train\u001b[0m\u001b[0;34m)\u001b[0m\u001b[0;34m\u001b[0m\u001b[0;34m\u001b[0m\u001b[0m\n\u001b[0m\u001b[1;32m    131\u001b[0m             }\n\u001b[1;32m    132\u001b[0m \u001b[0;34m\u001b[0m\u001b[0m\n",
            "\u001b[0;32m/usr/local/lib/python3.7/dist-packages/pandas/core/ops/common.py\u001b[0m in \u001b[0;36mnew_method\u001b[0;34m(self, other)\u001b[0m\n\u001b[1;32m     63\u001b[0m \u001b[0;34m\u001b[0m\u001b[0m\n\u001b[1;32m     64\u001b[0m         \u001b[0;32mreturn\u001b[0m \u001b[0mmethod\u001b[0m\u001b[0;34m(\u001b[0m\u001b[0mself\u001b[0m\u001b[0;34m,\u001b[0m \u001b[0mother\u001b[0m\u001b[0;34m)\u001b[0m\u001b[0;34m\u001b[0m\u001b[0;34m\u001b[0m\u001b[0m\n\u001b[0;32m---> 65\u001b[0;31m \u001b[0;34m\u001b[0m\u001b[0m\n\u001b[0m\u001b[1;32m     66\u001b[0m     \u001b[0;32mreturn\u001b[0m \u001b[0mnew_method\u001b[0m\u001b[0;34m\u001b[0m\u001b[0;34m\u001b[0m\u001b[0m\n",
            "\u001b[0;32m/usr/local/lib/python3.7/dist-packages/pandas/core/ops/__init__.py\u001b[0m in \u001b[0;36mwrapper\u001b[0;34m(self, other)\u001b[0m\n\u001b[1;32m    368\u001b[0m     \u001b[0mReturns\u001b[0m\u001b[0;34m\u001b[0m\u001b[0;34m\u001b[0m\u001b[0m\n\u001b[1;32m    369\u001b[0m     \u001b[0;34m-\u001b[0m\u001b[0;34m-\u001b[0m\u001b[0;34m-\u001b[0m\u001b[0;34m-\u001b[0m\u001b[0;34m-\u001b[0m\u001b[0;34m-\u001b[0m\u001b[0;34m-\u001b[0m\u001b[0;34m\u001b[0m\u001b[0;34m\u001b[0m\u001b[0m\n\u001b[0;32m--> 370\u001b[0;31m     \u001b[0mDataFrame\u001b[0m\u001b[0;34m\u001b[0m\u001b[0;34m\u001b[0m\u001b[0m\n\u001b[0m\u001b[1;32m    371\u001b[0m     \"\"\"\n\u001b[1;32m    372\u001b[0m     \u001b[0;31m# Note: we use iloc to access columns for compat with cases\u001b[0m\u001b[0;34m\u001b[0m\u001b[0;34m\u001b[0m\u001b[0;34m\u001b[0m\u001b[0m\n",
            "\u001b[0;32m/usr/local/lib/python3.7/dist-packages/pandas/core/ops/array_ops.py\u001b[0m in \u001b[0;36mcomparison_op\u001b[0;34m(left, right, op)\u001b[0m\n\u001b[1;32m    249\u001b[0m     \u001b[0;32melse\u001b[0m\u001b[0;34m:\u001b[0m\u001b[0;34m\u001b[0m\u001b[0;34m\u001b[0m\u001b[0m\n\u001b[1;32m    250\u001b[0m         \u001b[0mop_name\u001b[0m \u001b[0;34m=\u001b[0m \u001b[0;34mf\"__{op.__name__}__\"\u001b[0m\u001b[0;34m\u001b[0m\u001b[0;34m\u001b[0m\u001b[0m\n\u001b[0;32m--> 251\u001b[0;31m         \u001b[0mmethod\u001b[0m \u001b[0;34m=\u001b[0m \u001b[0mgetattr\u001b[0m\u001b[0;34m(\u001b[0m\u001b[0mlvalues\u001b[0m\u001b[0;34m,\u001b[0m \u001b[0mop_name\u001b[0m\u001b[0;34m)\u001b[0m\u001b[0;34m\u001b[0m\u001b[0;34m\u001b[0m\u001b[0m\n\u001b[0m\u001b[1;32m    252\u001b[0m         \u001b[0;32mwith\u001b[0m \u001b[0mnp\u001b[0m\u001b[0;34m.\u001b[0m\u001b[0merrstate\u001b[0m\u001b[0;34m(\u001b[0m\u001b[0mall\u001b[0m\u001b[0;34m=\u001b[0m\u001b[0;34m\"ignore\"\u001b[0m\u001b[0;34m)\u001b[0m\u001b[0;34m:\u001b[0m\u001b[0;34m\u001b[0m\u001b[0;34m\u001b[0m\u001b[0m\n\u001b[1;32m    253\u001b[0m             \u001b[0mres_values\u001b[0m \u001b[0;34m=\u001b[0m \u001b[0mmethod\u001b[0m\u001b[0;34m(\u001b[0m\u001b[0mrvalues\u001b[0m\u001b[0;34m)\u001b[0m\u001b[0;34m\u001b[0m\u001b[0;34m\u001b[0m\u001b[0m\n",
            "\u001b[0;32m/usr/local/lib/python3.7/dist-packages/pandas/core/ops/array_ops.py\u001b[0m in \u001b[0;36mna_arithmetic_op\u001b[0;34m(left, right, op, is_cmp)\u001b[0m\n\u001b[1;32m    138\u001b[0m     \u001b[0mReturns\u001b[0m\u001b[0;34m\u001b[0m\u001b[0;34m\u001b[0m\u001b[0m\n\u001b[1;32m    139\u001b[0m     \u001b[0;34m-\u001b[0m\u001b[0;34m-\u001b[0m\u001b[0;34m-\u001b[0m\u001b[0;34m-\u001b[0m\u001b[0;34m-\u001b[0m\u001b[0;34m-\u001b[0m\u001b[0;34m-\u001b[0m\u001b[0;34m\u001b[0m\u001b[0;34m\u001b[0m\u001b[0m\n\u001b[0;32m--> 140\u001b[0;31m     \u001b[0marray\u001b[0m\u001b[0;34m-\u001b[0m\u001b[0mlike\u001b[0m\u001b[0;34m\u001b[0m\u001b[0;34m\u001b[0m\u001b[0m\n\u001b[0m\u001b[1;32m    141\u001b[0m \u001b[0;34m\u001b[0m\u001b[0m\n\u001b[1;32m    142\u001b[0m     \u001b[0mRaises\u001b[0m\u001b[0;34m\u001b[0m\u001b[0;34m\u001b[0m\u001b[0m\n",
            "\u001b[0;32m/usr/local/lib/python3.7/dist-packages/pandas/core/computation/expressions.py\u001b[0m in \u001b[0;36m<module>\u001b[0;34m()\u001b[0m\n\u001b[1;32m     13\u001b[0m \u001b[0;32mfrom\u001b[0m \u001b[0mpandas\u001b[0m\u001b[0;34m.\u001b[0m\u001b[0m_config\u001b[0m \u001b[0;32mimport\u001b[0m \u001b[0mget_option\u001b[0m\u001b[0;34m\u001b[0m\u001b[0;34m\u001b[0m\u001b[0m\n\u001b[1;32m     14\u001b[0m \u001b[0;34m\u001b[0m\u001b[0m\n\u001b[0;32m---> 15\u001b[0;31m \u001b[0;32mfrom\u001b[0m \u001b[0mpandas\u001b[0m\u001b[0;34m.\u001b[0m\u001b[0m_libs\u001b[0m\u001b[0;34m.\u001b[0m\u001b[0mlib\u001b[0m \u001b[0;32mimport\u001b[0m \u001b[0mvalues_from_object\u001b[0m\u001b[0;34m\u001b[0m\u001b[0;34m\u001b[0m\u001b[0m\n\u001b[0m\u001b[1;32m     16\u001b[0m \u001b[0;34m\u001b[0m\u001b[0m\n\u001b[1;32m     17\u001b[0m \u001b[0;32mfrom\u001b[0m \u001b[0mpandas\u001b[0m\u001b[0;34m.\u001b[0m\u001b[0mcore\u001b[0m\u001b[0;34m.\u001b[0m\u001b[0mdtypes\u001b[0m\u001b[0;34m.\u001b[0m\u001b[0mgeneric\u001b[0m \u001b[0;32mimport\u001b[0m \u001b[0mABCDataFrame\u001b[0m\u001b[0;34m\u001b[0m\u001b[0;34m\u001b[0m\u001b[0m\n",
            "\u001b[0;31mImportError\u001b[0m: cannot import name 'values_from_object' from 'pandas._libs.lib' (/usr/local/lib/python3.7/dist-packages/pandas/_libs/lib.cpython-37m-x86_64-linux-gnu.so)",
            "",
            "\u001b[0;31m---------------------------------------------------------------------------\u001b[0;32m\nNOTE: If your import is failing due to a missing package, you can\nmanually install dependencies using either !pip or !apt.\n\nTo view examples of installing some common dependencies, click the\n\"Open Examples\" button below.\n\u001b[0;31m---------------------------------------------------------------------------\u001b[0m\n"
          ],
          "errorDetails": {
            "actions": [
              {
                "action": "open_url",
                "actionText": "Open Examples",
                "url": "/notebooks/snippets/importing_libraries.ipynb"
              }
            ]
          }
        }
      ]
    },
    {
      "cell_type": "markdown",
      "metadata": {
        "id": "bFxEnRYVD_Xe",
        "_uuid": "b14d322c24858a4b4ec4656bd96eb3a1843802e1"
      },
      "source": [
        "<a id=\"Balanced Dataset\"></a> <br>\n",
        "# **3. Balanced Dataset** \n",
        "- XGBoost 2a: Balanced (Base Model: ROC_AUC:0.77)\n",
        "- XGBoost 2b: Balanced (ROC_AUC:0.80)"
      ]
    },
    {
      "cell_type": "code",
      "metadata": {
        "id": "5NEgnXdM1U0J",
        "_uuid": "bfba5a9de83536e8ee9635d98339dfd33b7d657a",
        "collapsed": true,
        "jupyter": {
          "outputs_hidden": true
        },
        "trusted": true
      },
      "source": [
        "\n",
        "from imblearn.over_sampling import SMOTE\n",
        "\n",
        "# Oversampling\n",
        "# http://contrib.scikit-learn.org/imbalanced-learn/auto_examples/combine/plot_smote_enn.html#sphx-glr-auto-examples-combine-plot-smote-enn-py\n",
        "\n",
        "# Apply SMOTE\n",
        "sm = SMOTE(ratio='auto')\n",
        "X_train_clean_res, y_train_clean_res = sm.fit_sample(X_train_clean, y_train_clean)\n",
        "\n",
        "# Print number of 'good' credits and 'bad credits, should be fairly balanced now\n",
        "print(\"Before/After clean\")\n",
        "unique, counts = np.unique(y_train_clean, return_counts=True)\n",
        "print(dict(zip(unique, counts)))\n",
        "unique, counts = np.unique(y_train_clean_res, return_counts=True)\n",
        "print(dict(zip(unique, counts)))"
      ],
      "execution_count": null,
      "outputs": []
    },
    {
      "cell_type": "code",
      "metadata": {
        "id": "h2-muneU1U9H",
        "collapsed": true,
        "_uuid": "b8a7a3c79685af31aecb2ade360415f92a30460b",
        "jupyter": {
          "outputs_hidden": true
        },
        "trusted": true
      },
      "source": [
        "#Great, before we do anything else, let's split the data into train/test.\n",
        "X_train_clean_res = pd.DataFrame(X_train_clean_res, columns=X_train_clean.keys())\n",
        "#y_train_clean_res = pd.DataFrame(y_train_clean_res)"
      ],
      "execution_count": null,
      "outputs": []
    },
    {
      "cell_type": "code",
      "metadata": {
        "id": "C-yIxVQkUZyW",
        "_uuid": "3a8b147901159dc4ac09fa2efd4d5d9578f97b99",
        "collapsed": true,
        "jupyter": {
          "outputs_hidden": true
        },
        "trusted": true
      },
      "source": [
        "print(np.shape(X_train_clean_res))\n",
        "print(np.shape(y_train_clean_res))\n",
        "print(np.shape(X_test_clean)) \n",
        "print(np.shape(y_test_clean))"
      ],
      "execution_count": null,
      "outputs": []
    },
    {
      "cell_type": "markdown",
      "metadata": {
        "_uuid": "04626b0c29b5a77a013fedfee30b55b4d92b684b",
        "id": "mYKKkElxbX_l"
      },
      "source": [
        "### XGBoost 2a: Balanced (Base Model: ROC_AUC:0.77)"
      ]
    },
    {
      "cell_type": "code",
      "metadata": {
        "id": "NQ5P5oG0IwIS",
        "_uuid": "ca524e248c28f147289605a30f68b11ecabe4559",
        "collapsed": true,
        "jupyter": {
          "outputs_hidden": true
        },
        "trusted": true
      },
      "source": [
        "#BASE MODEL\n",
        "params={}\n",
        "xgbclf(params,X_train_clean_res, y_train_clean_res,X_test_clean, y_test_clean)"
      ],
      "execution_count": null,
      "outputs": []
    },
    {
      "cell_type": "markdown",
      "metadata": {
        "id": "RjlSw9En1P4p",
        "_uuid": "71a3040a7d73bfa3aba166e10d804f9257d8bde8"
      },
      "source": [
        "### XGBoost 2b: Balanced (ROC_AUC:0.80)"
      ]
    },
    {
      "cell_type": "code",
      "metadata": {
        "id": "x9PHpLlJoNFz",
        "_uuid": "11855f908fb13b97d120ea375c75ab13885d9e43",
        "collapsed": true,
        "jupyter": {
          "outputs_hidden": true
        },
        "trusted": true
      },
      "source": [
        "params = {}\n",
        "\n",
        "params1={\n",
        "    'n_estimators':3000,\n",
        "    'objective': 'binary:logistic',\n",
        "    'learning_rate': 0.05,\n",
        "    'gamma':0.1,\n",
        "    'subsample':0.8,\n",
        "    'colsample_bytree':0.3,\n",
        "    'min_child_weight':3,\n",
        "    'max_depth':3,\n",
        "    #'seed':1024,\n",
        "    'n_jobs' : -1\n",
        "}\n",
        "\n",
        "params2={\n",
        "    'n_estimators':3000,\n",
        "    'objective': 'binary:logistic',\n",
        "    'learning_rate': 0.005,\n",
        "    #'gamma':0.01,\n",
        "    'subsample':0.555,\n",
        "    'colsample_bytree':0.7,\n",
        "    'min_child_weight':3,\n",
        "    'max_depth':8,\n",
        "    #'seed':1024,\n",
        "    'n_jobs' : -1\n",
        "}\n",
        "\n",
        "#xgbclf(params, X_train, y_train,X_test,y_test)\n",
        "model = xgbclf(params2,X_train_clean_res, y_train_clean_res,X_test_clean, y_test_clean)\n",
        "model\n",
        "#plot_featureImportance(model, X_train_clean_res.keys())"
      ],
      "execution_count": null,
      "outputs": []
    },
    {
      "cell_type": "markdown",
      "metadata": {
        "id": "T0uGUXyUa4h_",
        "_uuid": "518227609cbeb12fa67390bd5a097ddc7bd2f71a"
      },
      "source": [
        "# 4.  Feature Selection\n",
        "- XGBoost3 (Base Model:ROC_AUC:0.73)\n",
        "- GridSearchCV (ROC_AUC:0.70)"
      ]
    },
    {
      "cell_type": "code",
      "metadata": {
        "id": "vOISYxySN4qJ",
        "collapsed": true,
        "_uuid": "c9da497ba8de093a285cf4ffbec4535219c74466",
        "jupyter": {
          "outputs_hidden": true
        },
        "trusted": true
      },
      "source": [
        "#model = xgbclf(params1,X_train_clean_res[importance_col], y_train_clean_res,X_test_clean[importance_col], y_test_clean)\n",
        "\n",
        "importances = model.feature_importances_\n",
        "importance_frame = pd.DataFrame({'Importance': list(importances), 'Feature': list(X_train_clean_res.keys())})\n",
        "importance_frame.sort_values(by = 'Importance', inplace = True, ascending=False)\n",
        "importance_col = importance_frame.Feature.head(10).values"
      ],
      "execution_count": null,
      "outputs": []
    },
    {
      "cell_type": "markdown",
      "metadata": {
        "_uuid": "a2ce51442a79c7a28776f90153e4107737183abd",
        "id": "CsdQlBshbX_m"
      },
      "source": [
        "### XGBoost3 (Base Model:ROC_AUC:0.73)"
      ]
    },
    {
      "cell_type": "code",
      "metadata": {
        "id": "LwqK7dpAX7nn",
        "_uuid": "17ef3ab68a22b1af2a31b58e0a452a72e0db19bd",
        "collapsed": true,
        "jupyter": {
          "outputs_hidden": true
        },
        "trusted": true
      },
      "source": [
        "params = {}\n",
        "\n",
        "params1={\n",
        "    'n_estimators':3000,\n",
        "    'objective': 'binary:logistic',\n",
        "    'learning_rate': 0.01,\n",
        "    #'gamma':0.1,\n",
        "    #'subsample':0.8,\n",
        "    #'colsample_bytree':0.3,\n",
        "    #'min_child_weight':3,\n",
        "    'max_depth':3,\n",
        "    #'seed':1024,\n",
        "    'n_jobs' : -1\n",
        "}\n",
        "\n",
        "xgbclf(params,X_train_clean_res[importance_col], y_train_clean_res,X_test_clean[importance_col], y_test_clean)"
      ],
      "execution_count": null,
      "outputs": []
    },
    {
      "cell_type": "markdown",
      "metadata": {
        "id": "Wxgbu6HbrstB",
        "_uuid": "f8037e33ee37292b23413304ceff57026c6b49e1"
      },
      "source": [
        "### GridSearchCV (ROC_AUC:0.70)"
      ]
    },
    {
      "cell_type": "code",
      "metadata": {
        "id": "m7lf_As9oUvh",
        "_uuid": "105346b26c0fe9e4cba1b68b6194be9d70b50701",
        "collapsed": true,
        "jupyter": {
          "outputs_hidden": true
        },
        "trusted": true
      },
      "source": [
        "from sklearn.model_selection import GridSearchCV\n",
        "\n",
        "print('XGBoost with grid search')\n",
        "# play with these params\n",
        "params={\n",
        "    'learning_rate': [0.01, 0.02],\n",
        "    'max_depth': [3], # 5 is good but takes too long in kaggle env\n",
        "    #'subsample': [0.6], #[0.4,0.5,0.6,0.7,0.8,0.9,1.0],\n",
        "    #'colsample_bytree': [0.5], #[0.5,0.6,0.7,0.8],\n",
        "    'n_estimators': [50, 100, 200, 300, 400, 500]\n",
        "    #'reg_alpha': [0.03] #[0.01, 0.02, 0.03, 0.04]\n",
        "}\n",
        "\n",
        "\n",
        "xgb_clf = xgb.XGBClassifier()\n",
        "\n",
        "rs = GridSearchCV(xgb_clf,\n",
        "                  params,\n",
        "                  cv=2,\n",
        "                  scoring=\"roc_auc\",\n",
        "                  n_jobs=1,\n",
        "                  verbose=False)\n",
        "rs.fit(X_train_clean_res[importance_col], y_train_clean_res)\n",
        "best_est = rs.best_estimator_\n",
        "print(best_est)\n",
        "print(rs.best_score_)\n",
        "\n",
        "# Roc AUC with test data\n",
        "print(rs.score(X_test_clean[importance_col],y_test_clean))\n",
        "\n",
        "# Roc AUC with all train data\n",
        "#y_pred_proba = best_est.predict_proba(X_test_clean[importance_col])[:,1]\n",
        "#print(\"Roc AUC: \", roc_auc_score(y_test_clean, y_pred_proba))\n",
        "\n",
        "#xgbclf(params1,X_train_clean_res[importance_col], y_train_clean_res,X_test_clean[importance_col], y_test_clean)"
      ],
      "execution_count": null,
      "outputs": []
    },
    {
      "cell_type": "markdown",
      "metadata": {
        "_uuid": "d2fe0b7ea9b605569bdfa60b39faf7d6965bfde0",
        "id": "kRSCJErjbX_n"
      },
      "source": [
        "<a id=\"Others\"></a> <br>\n",
        "# 5. Others\n",
        "- Lighgbm (ROC_AUC:0.73)\n",
        "- LogisticRegression (ROC_AUC:0.77)\n",
        "- RandomForestClassifier (ROC_AUC:0.69)\n",
        "- ExtraTreesClassifier (ROC_AUC:0.74)\n",
        "- DecisionTreeClassifier (ROC_AUC:0.64)\n",
        "- GradientBoostingClassifier (ROC_AUC:0.76)\n",
        "- AdaBoostClassifier (ROC_AUC:0.72)"
      ]
    },
    {
      "cell_type": "markdown",
      "metadata": {
        "id": "Pce2PcrQryuY",
        "_uuid": "360450a8797f752a9d9b09a4c4a16d72dbe0b071"
      },
      "source": [
        "### Lighgbm (ROC_AUC:0.73)"
      ]
    },
    {
      "cell_type": "code",
      "metadata": {
        "_uuid": "432aa50546f660ed1ae9b4ab064bbea7b6f54e03",
        "collapsed": true,
        "jupyter": {
          "outputs_hidden": true
        },
        "trusted": true,
        "id": "P_iQ41ifbX_n"
      },
      "source": [
        "import warnings\n",
        "warnings.filterwarnings(\"ignore\", category=DeprecationWarning) \n",
        "\n",
        "import lightgbm as lgb\n",
        "\n",
        "# fit, train and cross validate Decision Tree with training and test data \n",
        "def lgbclf(X_train, y_train,X_test, y_test):\n",
        "\n",
        "    model = lgb.LGBMClassifier().fit(X_train, y_train)\n",
        "    print(model,'\\n')\n",
        "\n",
        "    # Predict target variables y for test data\n",
        "    y_pred = model.predict_proba(X_test)[:,1]\n",
        "\n",
        "    # Get Cross Validation and Confusion matrix\n",
        "    #get_eval(model, X_train, y_train,y_test,y_pred)\n",
        "    #get_eval2(model, X_train, y_train,X_test, y_test,y_pred)\n",
        "    get_roc (y_test,y_pred)\n",
        "    return\n",
        "\n",
        "# Logistic Regression\n",
        "#lgbclf(X_train, y_train,X_test,y_test)\n",
        "lgbclf(X_train_clean_res, y_train_clean_res,X_test_clean, y_test_clean)"
      ],
      "execution_count": null,
      "outputs": []
    },
    {
      "cell_type": "markdown",
      "metadata": {
        "id": "tzhgWR1hry3s",
        "_uuid": "318b9364794e6f1e2da5550bf961885bdccc5825"
      },
      "source": [
        "### LogisticRegression (ROC_AUC:0.77)"
      ]
    },
    {
      "cell_type": "code",
      "metadata": {
        "_uuid": "e0b612a0bab5b2f06e038f37b35868716f97bd00",
        "collapsed": true,
        "jupyter": {
          "outputs_hidden": true
        },
        "trusted": true,
        "id": "xfkRB1YnbX_n"
      },
      "source": [
        "from sklearn.linear_model import LogisticRegression\n",
        "\n",
        "# fit, train and cross validate Decision Tree with training and test data \n",
        "def logregclf(X_train, y_train,X_test, y_test):\n",
        "    print(\"LogisticRegression\")\n",
        "    model = LogisticRegression().fit(X_train, y_train)\n",
        "    print(model,'\\n')\n",
        "\n",
        "    # Predict target variables y for test data\n",
        "    y_pred = model.predict_proba(X_test)[:,1]\n",
        "\n",
        "    # Get Cross Validation and Confusion matrix\n",
        "    #get_eval(model, X_train, y_train,y_test,y_pred)\n",
        "    #get_eval2(model, X_train, y_train,X_test, y_test,y_pred)\n",
        "    get_roc (y_test,y_pred)\n",
        "    return\n",
        "\n",
        "# Logistic Regression\n",
        "#logregclf(X_train, y_train,X_test,y_test)\n",
        "logregclf(X_train_clean_res, y_train_clean_res,X_test_clean, y_test_clean)"
      ],
      "execution_count": null,
      "outputs": []
    },
    {
      "cell_type": "markdown",
      "metadata": {
        "_uuid": "e95e51b587054a97daf75be89cd308b615feb8ca",
        "id": "XqCVY_AebX_n"
      },
      "source": [
        "### RandomForestClassifier (ROC_AUC:0.69)"
      ]
    },
    {
      "cell_type": "code",
      "metadata": {
        "_uuid": "4b9f601bd07ff3253da4d89352ebd785fc3eeac2",
        "collapsed": true,
        "jupyter": {
          "outputs_hidden": true
        },
        "trusted": true,
        "id": "GBakaPn0bX_o"
      },
      "source": [
        "from sklearn.ensemble import RandomForestClassifier \n",
        "\n",
        "# fit, train and cross validate Decision Tree with training and test data \n",
        "def randomforestclf(X_train, y_train,X_test, y_test):\n",
        "    print(\"RandomForestClassifier\")\n",
        "    randomforest = RandomForestClassifier().fit(X_train, y_train)\n",
        "    print(randomforest,'\\n')\n",
        "    \n",
        "    # Predict target variables y for test data\n",
        "    y_pred = randomforest.predict_proba(X_test)[:,1]\n",
        "\n",
        "    # Get Cross Validation and Confusion matrix\n",
        "    #get_eval(randomforest, X_train, y_train,y_test,y_pred)\n",
        "    get_roc (y_test,y_pred)\n",
        "    return\n",
        "\n",
        "# Random Forest\n",
        "# Choose clean data, as tree is robust\n",
        "randomforestclf(X_train_clean_res, y_train_clean_res,X_test_clean, y_test_clean)"
      ],
      "execution_count": null,
      "outputs": []
    },
    {
      "cell_type": "markdown",
      "metadata": {
        "_uuid": "75fb46bd9b0ac1493449c6451b2f8a85974d4f86",
        "id": "4MucJSfIbX_o"
      },
      "source": [
        "### ExtraTreesClassifier (ROC_AUC:0.74)"
      ]
    },
    {
      "cell_type": "code",
      "metadata": {
        "_uuid": "28df42b00dedfda6ffcfb8235ff0ad2ef42a4bec",
        "collapsed": true,
        "jupyter": {
          "outputs_hidden": true
        },
        "trusted": true,
        "id": "v7AIJZFfbX_o"
      },
      "source": [
        "from sklearn.ensemble import ExtraTreesClassifier\n",
        "\n",
        "# fit, train and cross validate Decision Tree with training and test data \n",
        "def extratreesclf(X_train, y_train,X_test, y_test):\n",
        "    print(\"ExtraTreesClassifier\")\n",
        "    extratrees = ExtraTreesClassifier().fit(X_train, y_train)\n",
        "    print(extratrees,'\\n')\n",
        "    \n",
        "    # Predict target variables y for test data\n",
        "    y_pred = extratrees.predict_proba(X_test)[:,1]\n",
        "\n",
        "    # Get Cross Validation and Confusion matrix\n",
        "    #get_eval(extratrees, X_train, y_train,y_test,y_pred)\n",
        "    \n",
        "    get_roc (y_test,y_pred)\n",
        "    return\n",
        " \n",
        "# Extra Trees\n",
        "# Choose clean data, as tree is robust\n",
        "extratreesclf(X_train_clean_res, y_train_clean_res,X_test_clean, y_test_clean)"
      ],
      "execution_count": null,
      "outputs": []
    },
    {
      "cell_type": "markdown",
      "metadata": {
        "_uuid": "d08be5c932aa326666c8865f5c1ce15f5f7984b4",
        "id": "ROfwd6MJbX_o"
      },
      "source": [
        "### DecisionTreeClassifier (ROC_AUC:0.64)"
      ]
    },
    {
      "cell_type": "code",
      "metadata": {
        "_uuid": "07c8334d26469b64ded21db507d7d246d0ba05f6",
        "collapsed": true,
        "jupyter": {
          "outputs_hidden": true
        },
        "trusted": true,
        "id": "jrlKztChbX_o"
      },
      "source": [
        "from sklearn.tree import DecisionTreeClassifier \n",
        "# fit, train and cross validate Decision Tree with training and test data \n",
        "def dectreeclf(X_train, y_train,X_test, y_test):\n",
        "    print(\"DecisionTreeClassifier\")\n",
        "    dec_tree = DecisionTreeClassifier(min_samples_split=10,min_samples_leaf=5).fit(X_train, y_train)\n",
        "    print(dec_tree,'\\n')\n",
        "    \n",
        "    # Predict target variables y for test data\n",
        "    y_pred = dec_tree.predict_proba(X_test)[:,1]\n",
        "\n",
        "    \n",
        "    # Get Cross Validation and Confusion matrix\n",
        "    #get_eval(dec_tree, X_train, y_train,y_test,y_pred)\n",
        "    get_roc (y_test,y_pred)\n",
        "    return\n",
        "\n",
        "# Decisiontree\n",
        "dectreeclf(X_train_clean_res, y_train_clean_res,X_test_clean, y_test_clean)"
      ],
      "execution_count": null,
      "outputs": []
    },
    {
      "cell_type": "markdown",
      "metadata": {
        "id": "nA3tHbQDry_f",
        "_uuid": "4ed9e0b8545196403507dde0a878ba1a5f7cc604"
      },
      "source": [
        "### GradientBoostingClassifier (ROC_AUC:0.76)"
      ]
    },
    {
      "cell_type": "code",
      "metadata": {
        "id": "JjxG_CYtekIA",
        "_uuid": "72b88670afd0ba8487d1a3a98bbecde61427aa4f",
        "collapsed": true,
        "jupyter": {
          "outputs_hidden": true
        },
        "trusted": true
      },
      "source": [
        "from sklearn.ensemble import GradientBoostingClassifier\n",
        "\n",
        "# fit, train and cross validate GradientBoostingClassifier with training and test data \n",
        "def gradientboostingclf(X_train, y_train, X_test, y_test):  \n",
        "    print(\"GradientBoostingClassifier\")\n",
        "    gbclf = GradientBoostingClassifier().fit(X_train, y_train)\n",
        "    print(gbclf,'\\n')\n",
        "    \n",
        "    # Predict target variables y for test data\n",
        "    y_pred = gbclf.predict_proba(X_test)[:,1]\n",
        "\n",
        "    # Get Cross Validation and Confusion matrix\n",
        "    #get_eval(gbclf, X_train, y_train,y_test,y_pred)\n",
        "    get_roc (y_test,y_pred)\n",
        "    return\n",
        "  \n",
        "# GradientBoostingClassifier\n",
        "# Choose clean data, as tree is robust\n",
        "gradientboostingclf(X_train_clean_res, y_train_clean_res,X_test_clean, y_test_clean)"
      ],
      "execution_count": null,
      "outputs": []
    },
    {
      "cell_type": "markdown",
      "metadata": {
        "_uuid": "e2d254a8b7a76f3fcd3f98277a52989c5df7d0c2",
        "id": "C3_erpusbX_p"
      },
      "source": [
        "### AdaBoostClassifier (ROC_AUC:0.75)"
      ]
    },
    {
      "cell_type": "code",
      "metadata": {
        "id": "wdN9GgUUetH1",
        "_uuid": "c8caa356aa7993faa1bd77afafd858b7f95e18b8",
        "collapsed": true,
        "jupyter": {
          "outputs_hidden": true
        },
        "trusted": true
      },
      "source": [
        "from sklearn.ensemble import AdaBoostClassifier\n",
        "\n",
        "# fit, train and cross validate GradientBoostingClassifier with training and test data \n",
        "def adaboostclf(X_train, y_train, X_test, y_test):  \n",
        "    print(\"AdaBoostClassifier\")\n",
        "    abclf = AdaBoostClassifier().fit(X_train, y_train)\n",
        "    print(abclf,'\\n')\n",
        "    \n",
        "    # Predict target variables y for test data\n",
        "    y_pred = abclf.predict_proba(X_test)[:,1]\n",
        "\n",
        "    # Get Cross Validation and Confusion matrix\n",
        "    #get_eval(abclf, X_train, y_train,y_test,y_pred)\n",
        "    get_roc (y_test,y_pred)\n",
        "    return\n",
        "\n",
        "# AdaBoostClassifier\n",
        "# Choose clean data, as tree is robust\n",
        "adaboostclf(X_train_clean_res, y_train_clean_res,X_test_clean, y_test_clean)"
      ],
      "execution_count": null,
      "outputs": []
    }
  ]
}