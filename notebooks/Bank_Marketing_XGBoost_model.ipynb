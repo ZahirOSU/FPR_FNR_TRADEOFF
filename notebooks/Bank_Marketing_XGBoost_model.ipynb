{
 "cells": [
  {
   "cell_type": "markdown",
   "metadata": {
    "_kg_hide-output": false,
    "id": "8O92HM6QiZP4"
   },
   "source": [
    "# Predictive analysis of Bank Marketing\n",
    "\n",
    "#### Problem Statement\n",
    "The data is related with direct marketing campaigns of a Portuguese banking institution. The marketing campaigns were based on phone calls. Often, more than one contact to the same client was required, in order to access if the product (bank term deposit) would be ('yes') or not ('no') subscribed. \n",
    "\n",
    "#### What to achieve?\n",
    "The classification goal is to predict if the client will subscribe a term deposit (variable y).\n",
    "\n",
    "#### Data Contains information in following format:\n",
    "\n",
    "### Categorical Variable :\n",
    "\n",
    "* Marital - (Married , Single , Divorced)\",\n",
    "* Job - (Management,BlueCollar,Technician,entrepreneur,retired,admin.,services,selfemployed,housemaid,student,unemployed,unknown)\n",
    "* Contact - (Telephone,Cellular,Unknown)\n",
    "* Education - (Primary,Secondary,Tertiary,Unknown)\n",
    "* Month - (Jan,Feb,Mar,Apr,May,Jun,Jul,Aug,Sep,Oct,Nov,Dec)\n",
    "* Poutcome - (Success,Failure,Other,Unknown)\n",
    "* Housing - (Yes/No)\n",
    "* Loan - (Yes/No)\n",
    "* Default - (Yes/No)\n",
    "\n",
    "### Numerical Variable:\n",
    "\n",
    "* Age\n",
    "* Balance\n",
    "* Day\n",
    "* Duration\n",
    "* Campaign\n",
    "* Pdays\n",
    "* Previous\n",
    "\n",
    "#### Class\n",
    "* deposit - (Yes/No)"
   ]
  },
  {
   "cell_type": "code",
   "execution_count": 2,
   "metadata": {
    "_cell_guid": "e07b0e5d-63ee-4636-be79-3767d8b7d5d8",
    "_uuid": "7748fe49780a9fc1e17197e410fc624e9c465a1f",
    "colab": {
     "base_uri": "https://localhost:8080/"
    },
    "id": "gvSBCobNiZP9",
    "jupyter": {
     "outputs_hidden": true
    },
    "outputId": "b1565c99-30ff-4dac-9a8a-c0991faed426"
   },
   "outputs": [],
   "source": [
    "#Importing required libraries\n",
    "import pandas as pd\n",
    "import numpy as np\n",
    "\n",
    "from sklearn.model_selection import train_test_split\n",
    "# from sklearn.cross_validation import train_test_split\n",
    "from sklearn import metrics\n",
    "import statsmodels.formula.api as smf\n",
    "from sklearn import preprocessing\n",
    "from sklearn.preprocessing import LabelEncoder\n",
    "\n",
    "# visualization\n",
    "import seaborn as sns\n",
    "import matplotlib.pyplot as plt\n",
    "%matplotlib inline"
   ]
  },
  {
   "cell_type": "code",
   "execution_count": 1,
   "metadata": {
    "_cell_guid": "0eced814-95e3-4354-99c4-507f2ef52e33",
    "_uuid": "8f5bea0b6e74bcb66846a5db827324e97e42f768",
    "colab": {
     "base_uri": "https://localhost:8080/",
     "height": 204
    },
    "id": "yv-JGofEiZP-",
    "jupyter": {
     "outputs_hidden": true
    },
    "outputId": "b2f7fc38-097d-4003-f183-c1590b132963"
   },
   "outputs": [
    {
     "ename": "NameError",
     "evalue": "name 'pd' is not defined",
     "output_type": "error",
     "traceback": [
      "\u001B[0;31m---------------------------------------------------------------------------\u001B[0m",
      "\u001B[0;31mNameError\u001B[0m                                 Traceback (most recent call last)",
      "\u001B[0;32m/var/folders/8k/kjcv8fg107n9xl077vfg2_8m0000gn/T/ipykernel_4082/23164310.py\u001B[0m in \u001B[0;36m<module>\u001B[0;34m\u001B[0m\n\u001B[1;32m      1\u001B[0m \u001B[0;31m#Importing and displaying data\u001B[0m\u001B[0;34m\u001B[0m\u001B[0;34m\u001B[0m\u001B[0;34m\u001B[0m\u001B[0m\n\u001B[0;32m----> 2\u001B[0;31m \u001B[0mdata\u001B[0m \u001B[0;34m=\u001B[0m \u001B[0mpd\u001B[0m\u001B[0;34m.\u001B[0m\u001B[0mread_csv\u001B[0m\u001B[0;34m(\u001B[0m\u001B[0;34m\"bank_marketing/bank.csv\"\u001B[0m\u001B[0;34m,\u001B[0m \u001B[0mdelimiter\u001B[0m\u001B[0;34m=\u001B[0m\u001B[0;34m\";\"\u001B[0m\u001B[0;34m,\u001B[0m\u001B[0mheader\u001B[0m\u001B[0;34m=\u001B[0m\u001B[0;34m'infer'\u001B[0m\u001B[0;34m)\u001B[0m\u001B[0;34m\u001B[0m\u001B[0;34m\u001B[0m\u001B[0m\n\u001B[0m\u001B[1;32m      3\u001B[0m \u001B[0mdata\u001B[0m\u001B[0;34m.\u001B[0m\u001B[0mhead\u001B[0m\u001B[0;34m(\u001B[0m\u001B[0;34m)\u001B[0m\u001B[0;34m\u001B[0m\u001B[0;34m\u001B[0m\u001B[0m\n\u001B[1;32m      4\u001B[0m \u001B[0;34m\u001B[0m\u001B[0m\n",
      "\u001B[0;31mNameError\u001B[0m: name 'pd' is not defined"
     ]
    }
   ],
   "source": [
    "#Importing and displaying data\n",
    "data = pd.read_csv(\"bank_marketing/bank.csv\", delimiter=\";\",header='infer')\n",
    "data.head()"
   ]
  },
  {
   "cell_type": "code",
   "execution_count": 5,
   "metadata": {
    "_cell_guid": "f5e5d486-131d-48fa-9892-6ec2f7c0de57",
    "_uuid": "1b4b93ee4ed64ae30c7f9ba5b3c830860ade7e28",
    "colab": {
     "base_uri": "https://localhost:8080/"
    },
    "id": "jgVHBookiZP_",
    "jupyter": {
     "outputs_hidden": true
    },
    "outputId": "9c29210e-27d6-463d-fb71-a63953d9b2bf"
   },
   "outputs": [
    {
     "data": {
      "text/plain": [
       "(4521, 17)"
      ]
     },
     "execution_count": 5,
     "metadata": {},
     "output_type": "execute_result"
    }
   ],
   "source": [
    "#4521 rows and 17 features\n",
    "data.shape"
   ]
  },
  {
   "cell_type": "code",
   "execution_count": 6,
   "metadata": {
    "_cell_guid": "7b278803-36f3-4d24-aa5c-1d23909d60bb",
    "_uuid": "4abd9624232834f8922d505a55205f4eb163ae55",
    "colab": {
     "base_uri": "https://localhost:8080/"
    },
    "id": "4uwtJ644iZP_",
    "jupyter": {
     "outputs_hidden": true
    },
    "outputId": "199f9f9b-6567-4c09-ee71-f919f76fdece"
   },
   "outputs": [
    {
     "data": {
      "text/plain": [
       "age           int64\n",
       "job          object\n",
       "marital      object\n",
       "education    object\n",
       "default      object\n",
       "balance       int64\n",
       "housing      object\n",
       "loan         object\n",
       "contact      object\n",
       "day           int64\n",
       "month        object\n",
       "duration      int64\n",
       "campaign      int64\n",
       "pdays         int64\n",
       "previous      int64\n",
       "poutcome     object\n",
       "y            object\n",
       "dtype: object"
      ]
     },
     "execution_count": 6,
     "metadata": {},
     "output_type": "execute_result"
    }
   ],
   "source": [
    "#datatypes of the columns\n",
    "data.dtypes"
   ]
  },
  {
   "cell_type": "markdown",
   "metadata": {
    "_cell_guid": "9a9917e0-8ff4-45d7-a5b7-426964c9ccc8",
    "_uuid": "902709dfbfc1a27bf26d46f6f96dc6f75d36ef51",
    "id": "mq6M50k0iZQA"
   },
   "source": [
    "Since the dtype contains types other than int, floot; we need to convert those column values into proper format in order to fit the data in model."
   ]
  },
  {
   "cell_type": "code",
   "execution_count": 7,
   "metadata": {
    "_cell_guid": "227355cc-b93c-4a8c-8e27-2c43d9ae88f2",
    "_uuid": "899975d140ce2dc06842ae0b5067e79e1120e533",
    "id": "B4JkvqociZQA",
    "jupyter": {
     "outputs_hidden": true
    }
   },
   "outputs": [],
   "source": [
    "#Converting object type data into numeric type using One-Hot encoding method which is\n",
    "#majorly used for XGBoost (for better accuracy) [Applicable only for non numeric categorical features]\n",
    "data_new = pd.get_dummies(data, columns=['job','marital',\n",
    "                                         'education','default',\n",
    "                                         'housing','loan',\n",
    "                                         'contact','month',\n",
    "                                         'poutcome'])\n",
    "#pd is instance of pandas. Using get_dummies method we can directly convert any type of data into One-Hot encoded format."
   ]
  },
  {
   "cell_type": "code",
   "execution_count": 8,
   "metadata": {
    "_cell_guid": "d1db9d1e-0f02-45df-8ccf-1777088a498e",
    "_uuid": "dcec32461edf58b91ebe5fa3eb868b2e398f9512",
    "id": "rCje_4myiZQB",
    "jupyter": {
     "outputs_hidden": true
    }
   },
   "outputs": [],
   "source": [
    "#Since y is a class variable we will have to convert it into binary format. (Since 2 unique class values)\n",
    "data_new.y.replace(('yes', 'no'), (1, 0), inplace=True)"
   ]
  },
  {
   "cell_type": "code",
   "execution_count": 9,
   "metadata": {
    "_cell_guid": "ed9363d8-1cb5-422a-9dc2-01f1422b3e52",
    "_uuid": "9cb4350ffa3689dc9e47c6bd1dcdb82afd666e31",
    "colab": {
     "base_uri": "https://localhost:8080/"
    },
    "id": "l5qTyF33iZQC",
    "jupyter": {
     "outputs_hidden": true
    },
    "outputId": "66a91019-7c3a-45b8-f16e-fe11a2e8902a"
   },
   "outputs": [
    {
     "data": {
      "text/plain": [
       "age                    int64\n",
       "balance                int64\n",
       "day                    int64\n",
       "duration               int64\n",
       "campaign               int64\n",
       "pdays                  int64\n",
       "previous               int64\n",
       "y                      int64\n",
       "job_admin.             uint8\n",
       "job_blue-collar        uint8\n",
       "job_entrepreneur       uint8\n",
       "job_housemaid          uint8\n",
       "job_management         uint8\n",
       "job_retired            uint8\n",
       "job_self-employed      uint8\n",
       "job_services           uint8\n",
       "job_student            uint8\n",
       "job_technician         uint8\n",
       "job_unemployed         uint8\n",
       "job_unknown            uint8\n",
       "marital_divorced       uint8\n",
       "marital_married        uint8\n",
       "marital_single         uint8\n",
       "education_primary      uint8\n",
       "education_secondary    uint8\n",
       "education_tertiary     uint8\n",
       "education_unknown      uint8\n",
       "default_no             uint8\n",
       "default_yes            uint8\n",
       "housing_no             uint8\n",
       "housing_yes            uint8\n",
       "loan_no                uint8\n",
       "loan_yes               uint8\n",
       "contact_cellular       uint8\n",
       "contact_telephone      uint8\n",
       "contact_unknown        uint8\n",
       "month_apr              uint8\n",
       "month_aug              uint8\n",
       "month_dec              uint8\n",
       "month_feb              uint8\n",
       "month_jan              uint8\n",
       "month_jul              uint8\n",
       "month_jun              uint8\n",
       "month_mar              uint8\n",
       "month_may              uint8\n",
       "month_nov              uint8\n",
       "month_oct              uint8\n",
       "month_sep              uint8\n",
       "poutcome_failure       uint8\n",
       "poutcome_other         uint8\n",
       "poutcome_success       uint8\n",
       "poutcome_unknown       uint8\n",
       "dtype: object"
      ]
     },
     "execution_count": 9,
     "metadata": {},
     "output_type": "execute_result"
    }
   ],
   "source": [
    "#Checking types of all the columns converted\n",
    "data_new.dtypes"
   ]
  },
  {
   "cell_type": "code",
   "execution_count": 10,
   "metadata": {
    "_cell_guid": "5770e9a7-2bda-4992-9659-89af4796c384",
    "_uuid": "15f82e3d8f24aadf8dc977999ff12b84d44a8ce2",
    "colab": {
     "base_uri": "https://localhost:8080/",
     "height": 241
    },
    "id": "FXAAYoJziZQD",
    "jupyter": {
     "outputs_hidden": true
    },
    "outputId": "36bc1e50-f2e0-42bb-f51d-75826870863c"
   },
   "outputs": [
    {
     "data": {
      "text/html": [
       "<div>\n",
       "<style scoped>\n",
       "    .dataframe tbody tr th:only-of-type {\n",
       "        vertical-align: middle;\n",
       "    }\n",
       "\n",
       "    .dataframe tbody tr th {\n",
       "        vertical-align: top;\n",
       "    }\n",
       "\n",
       "    .dataframe thead th {\n",
       "        text-align: right;\n",
       "    }\n",
       "</style>\n",
       "<table border=\"1\" class=\"dataframe\">\n",
       "  <thead>\n",
       "    <tr style=\"text-align: right;\">\n",
       "      <th></th>\n",
       "      <th>age</th>\n",
       "      <th>balance</th>\n",
       "      <th>day</th>\n",
       "      <th>duration</th>\n",
       "      <th>campaign</th>\n",
       "      <th>pdays</th>\n",
       "      <th>previous</th>\n",
       "      <th>y</th>\n",
       "      <th>job_admin.</th>\n",
       "      <th>job_blue-collar</th>\n",
       "      <th>...</th>\n",
       "      <th>month_jun</th>\n",
       "      <th>month_mar</th>\n",
       "      <th>month_may</th>\n",
       "      <th>month_nov</th>\n",
       "      <th>month_oct</th>\n",
       "      <th>month_sep</th>\n",
       "      <th>poutcome_failure</th>\n",
       "      <th>poutcome_other</th>\n",
       "      <th>poutcome_success</th>\n",
       "      <th>poutcome_unknown</th>\n",
       "    </tr>\n",
       "  </thead>\n",
       "  <tbody>\n",
       "    <tr>\n",
       "      <th>0</th>\n",
       "      <td>30</td>\n",
       "      <td>1787</td>\n",
       "      <td>19</td>\n",
       "      <td>79</td>\n",
       "      <td>1</td>\n",
       "      <td>-1</td>\n",
       "      <td>0</td>\n",
       "      <td>0</td>\n",
       "      <td>0</td>\n",
       "      <td>0</td>\n",
       "      <td>...</td>\n",
       "      <td>0</td>\n",
       "      <td>0</td>\n",
       "      <td>0</td>\n",
       "      <td>0</td>\n",
       "      <td>1</td>\n",
       "      <td>0</td>\n",
       "      <td>0</td>\n",
       "      <td>0</td>\n",
       "      <td>0</td>\n",
       "      <td>1</td>\n",
       "    </tr>\n",
       "    <tr>\n",
       "      <th>1</th>\n",
       "      <td>33</td>\n",
       "      <td>4789</td>\n",
       "      <td>11</td>\n",
       "      <td>220</td>\n",
       "      <td>1</td>\n",
       "      <td>339</td>\n",
       "      <td>4</td>\n",
       "      <td>0</td>\n",
       "      <td>0</td>\n",
       "      <td>0</td>\n",
       "      <td>...</td>\n",
       "      <td>0</td>\n",
       "      <td>0</td>\n",
       "      <td>1</td>\n",
       "      <td>0</td>\n",
       "      <td>0</td>\n",
       "      <td>0</td>\n",
       "      <td>1</td>\n",
       "      <td>0</td>\n",
       "      <td>0</td>\n",
       "      <td>0</td>\n",
       "    </tr>\n",
       "    <tr>\n",
       "      <th>2</th>\n",
       "      <td>35</td>\n",
       "      <td>1350</td>\n",
       "      <td>16</td>\n",
       "      <td>185</td>\n",
       "      <td>1</td>\n",
       "      <td>330</td>\n",
       "      <td>1</td>\n",
       "      <td>0</td>\n",
       "      <td>0</td>\n",
       "      <td>0</td>\n",
       "      <td>...</td>\n",
       "      <td>0</td>\n",
       "      <td>0</td>\n",
       "      <td>0</td>\n",
       "      <td>0</td>\n",
       "      <td>0</td>\n",
       "      <td>0</td>\n",
       "      <td>1</td>\n",
       "      <td>0</td>\n",
       "      <td>0</td>\n",
       "      <td>0</td>\n",
       "    </tr>\n",
       "    <tr>\n",
       "      <th>3</th>\n",
       "      <td>30</td>\n",
       "      <td>1476</td>\n",
       "      <td>3</td>\n",
       "      <td>199</td>\n",
       "      <td>4</td>\n",
       "      <td>-1</td>\n",
       "      <td>0</td>\n",
       "      <td>0</td>\n",
       "      <td>0</td>\n",
       "      <td>0</td>\n",
       "      <td>...</td>\n",
       "      <td>1</td>\n",
       "      <td>0</td>\n",
       "      <td>0</td>\n",
       "      <td>0</td>\n",
       "      <td>0</td>\n",
       "      <td>0</td>\n",
       "      <td>0</td>\n",
       "      <td>0</td>\n",
       "      <td>0</td>\n",
       "      <td>1</td>\n",
       "    </tr>\n",
       "    <tr>\n",
       "      <th>4</th>\n",
       "      <td>59</td>\n",
       "      <td>0</td>\n",
       "      <td>5</td>\n",
       "      <td>226</td>\n",
       "      <td>1</td>\n",
       "      <td>-1</td>\n",
       "      <td>0</td>\n",
       "      <td>0</td>\n",
       "      <td>0</td>\n",
       "      <td>1</td>\n",
       "      <td>...</td>\n",
       "      <td>0</td>\n",
       "      <td>0</td>\n",
       "      <td>1</td>\n",
       "      <td>0</td>\n",
       "      <td>0</td>\n",
       "      <td>0</td>\n",
       "      <td>0</td>\n",
       "      <td>0</td>\n",
       "      <td>0</td>\n",
       "      <td>1</td>\n",
       "    </tr>\n",
       "  </tbody>\n",
       "</table>\n",
       "<p>5 rows × 52 columns</p>\n",
       "</div>"
      ],
      "text/plain": [
       "   age  balance  day  duration  campaign  pdays  previous  y  job_admin.  \\\n",
       "0   30     1787   19        79         1     -1         0  0           0   \n",
       "1   33     4789   11       220         1    339         4  0           0   \n",
       "2   35     1350   16       185         1    330         1  0           0   \n",
       "3   30     1476    3       199         4     -1         0  0           0   \n",
       "4   59        0    5       226         1     -1         0  0           0   \n",
       "\n",
       "   job_blue-collar  ...  month_jun  month_mar  month_may  month_nov  \\\n",
       "0                0  ...          0          0          0          0   \n",
       "1                0  ...          0          0          1          0   \n",
       "2                0  ...          0          0          0          0   \n",
       "3                0  ...          1          0          0          0   \n",
       "4                1  ...          0          0          1          0   \n",
       "\n",
       "   month_oct  month_sep  poutcome_failure  poutcome_other  poutcome_success  \\\n",
       "0          1          0                 0               0                 0   \n",
       "1          0          0                 1               0                 0   \n",
       "2          0          0                 1               0                 0   \n",
       "3          0          0                 0               0                 0   \n",
       "4          0          0                 0               0                 0   \n",
       "\n",
       "   poutcome_unknown  \n",
       "0                 1  \n",
       "1                 0  \n",
       "2                 0  \n",
       "3                 1  \n",
       "4                 1  \n",
       "\n",
       "[5 rows x 52 columns]"
      ]
     },
     "execution_count": 10,
     "metadata": {},
     "output_type": "execute_result"
    }
   ],
   "source": [
    "#Our New dataframe ready for XGBoost\n",
    "data_new.head()"
   ]
  },
  {
   "cell_type": "code",
   "execution_count": 11,
   "metadata": {
    "_cell_guid": "66e6900b-da6c-4d55-ae82-07bbd1dfc6a2",
    "_uuid": "b93c7aeb139100cd042321bb5b19f8dc22e2e3eb",
    "colab": {
     "base_uri": "https://localhost:8080/"
    },
    "id": "k3LfjMdWiZQD",
    "jupyter": {
     "outputs_hidden": true
    },
    "outputId": "2f70f6af-d091-40f3-fc75-c5435cdb9ee6"
   },
   "outputs": [
    {
     "name": "stdout",
     "output_type": "stream",
     "text": [
      "Index(['age', 'balance', 'day', 'duration', 'campaign', 'pdays', 'previous',\n",
      "       'job_admin.', 'job_blue-collar', 'job_entrepreneur', 'job_housemaid',\n",
      "       'job_management', 'job_retired', 'job_self-employed', 'job_services',\n",
      "       'job_student', 'job_technician', 'job_unemployed', 'job_unknown',\n",
      "       'marital_divorced', 'marital_married', 'marital_single',\n",
      "       'education_primary', 'education_secondary', 'education_tertiary',\n",
      "       'education_unknown', 'default_no', 'default_yes', 'housing_no',\n",
      "       'housing_yes', 'loan_no', 'loan_yes', 'contact_cellular',\n",
      "       'contact_telephone', 'contact_unknown', 'month_apr', 'month_aug',\n",
      "       'month_dec', 'month_feb', 'month_jan', 'month_jul', 'month_jun',\n",
      "       'month_mar', 'month_may', 'month_nov', 'month_oct', 'month_sep',\n",
      "       'poutcome_failure', 'poutcome_other', 'poutcome_success',\n",
      "       'poutcome_unknown'],\n",
      "      dtype='object')\n",
      "Index(['y'], dtype='object')\n"
     ]
    }
   ],
   "source": [
    "#Spliting data as X -> features and y -> class variable\n",
    "data_y = pd.DataFrame(data_new['y'])\n",
    "data_X = data_new.drop(['y'], axis=1)\n",
    "print(data_X.columns)\n",
    "print(data_y.columns)"
   ]
  },
  {
   "cell_type": "code",
   "execution_count": 12,
   "metadata": {
    "_cell_guid": "9357bf56-b060-4bc5-b6c4-9621c5e67aa9",
    "_uuid": "8b89744428ffe07a3476a65245bbadf8b8ca1dc4",
    "colab": {
     "base_uri": "https://localhost:8080/"
    },
    "id": "Q6V0KTwyiZQD",
    "jupyter": {
     "outputs_hidden": true
    },
    "outputId": "ff7107df-c6d4-4e5e-a10c-8298acb419d8"
   },
   "outputs": [
    {
     "name": "stdout",
     "output_type": "stream",
     "text": [
      "(3164, 51)\n",
      "(1357, 51)\n",
      "(3164, 1)\n",
      "(1357, 1)\n"
     ]
    }
   ],
   "source": [
    "#Dividing records in training and testing sets along with its shape (rows, cols)\n",
    "X_train, X_test, y_train, y_test = train_test_split(data_X, data_y, test_size=0.3, random_state=2, stratify=data_y)\n",
    "print (X_train.shape)\n",
    "print (X_test.shape)\n",
    "print (y_train.shape)\n",
    "print (y_test.shape)"
   ]
  },
  {
   "cell_type": "code",
   "execution_count": 14,
   "metadata": {},
   "outputs": [
    {
     "name": "stdout",
     "output_type": "stream",
     "text": [
      "Collecting xgboost\n",
      "  Downloading xgboost-1.5.1-py3-none-macosx_10_15_x86_64.macosx_11_0_x86_64.macosx_12_0_x86_64.whl (1.3 MB)\n",
      "\u001B[K     |████████████████████████████████| 1.3 MB 1.3 MB/s eta 0:00:01\n",
      "\u001B[?25hRequirement already satisfied: numpy in /Users/avivisrael/.virtualenvs/FPR_FNR_TRADEOFF/lib/python3.7/site-packages (from xgboost) (1.19.0)\n",
      "Requirement already satisfied: scipy in /Users/avivisrael/.virtualenvs/FPR_FNR_TRADEOFF/lib/python3.7/site-packages (from xgboost) (1.4.1)\n",
      "Installing collected packages: xgboost\n",
      "Successfully installed xgboost-1.5.1\n",
      "\u001B[33mWARNING: You are using pip version 21.1.2; however, version 21.3.1 is available.\n",
      "You should consider upgrading via the '/Users/avivisrael/.virtualenvs/FPR_FNR_TRADEOFF/bin/python -m pip install --upgrade pip' command.\u001B[0m\n"
     ]
    }
   ],
   "source": [
    "!pip install xgboost"
   ]
  },
  {
   "cell_type": "code",
   "execution_count": 16,
   "metadata": {},
   "outputs": [
    {
     "name": "stdout",
     "output_type": "stream",
     "text": [
      "\u001B[34m==>\u001B[0m \u001B[1mDownloading https://homebrew.bintray.com/bottles/libomp-11.0.1.big_sur.bottl\u001B[0m\n",
      "Warning: Transient problem: HTTP error Will retry in 1 seconds. 3 retries     \n",
      "Warning: left.\n",
      "Warning: Transient problem: HTTP error Will retry in 2 seconds. 2 retries     \n",
      "Warning: left.\n",
      "Warning: Transient problem: HTTP error Will retry in 4 seconds. 1 retries     \n",
      "Warning: left.\n",
      "-=O=-           #     #    #     #                                            \n",
      "curl: (22) The requested URL returned error: 502 Bad Gateway\n",
      "\u001B[31mError:\u001B[0m Failed to download resource \"libomp\"\n",
      "Download failed: https://homebrew.bintray.com/bottles/libomp-11.0.1.big_sur.bottle.tar.gz\n",
      "\u001B[33mWarning:\u001B[0m Bottle installation failed: building from source.\n",
      "\u001B[34m==>\u001B[0m \u001B[1mDownloading https://raw.githubusercontent.com/Homebrew/formula-patches/7e2ee\u001B[0m\n",
      "######################################################################## 100.0%\n",
      "\u001B[34m==>\u001B[0m \u001B[1mDownloading https://github.com/llvm/llvm-project/releases/download/llvmorg-1\u001B[0m\n",
      "\u001B[34m==>\u001B[0m \u001B[1mDownloading from https://objects.githubusercontent.com/github-production-rel\u001B[0m\n",
      "######################################################################## 100.0%\n",
      "\u001B[34m==>\u001B[0m \u001B[1mPatching\u001B[0m\n",
      "\u001B[34m==>\u001B[0m \u001B[1mApplying arm.patch\u001B[0m\n",
      "patching file runtime/src/z_Linux_asm.S\n",
      "\u001B[34m==>\u001B[0m \u001B[1mcmake . -DLIBOMP_INSTALL_ALIASES=OFF\u001B[0m\n",
      "\u001B[34m==>\u001B[0m \u001B[1mmake install\u001B[0m\n",
      "\u001B[34m==>\u001B[0m \u001B[1mcmake . -DLIBOMP_ENABLE_SHARED=OFF -DLIBOMP_INSTALL_ALIASES=OFF\u001B[0m\n",
      "\u001B[34m==>\u001B[0m \u001B[1mmake install\u001B[0m\n",
      "🍺  /usr/local/Cellar/libomp/11.0.1: 9 files, 1.4MB, built in 1 minute 14 seconds\n"
     ]
    }
   ],
   "source": [
    "# XGBoost Library (libxgboost.dylib) could not be loaded.\n",
    "# Likely causes:\n",
    "#   * OpenMP runtime is not installed\n",
    "#     - vcomp140.dll or libgomp-1.dll for Windows\n",
    "#     - libomp.dylib for Mac OSX\n",
    "#     - libgomp.so for Linux and other UNIX-like OSes\n",
    "#     Mac OSX users: Run `brew install libomp` to install OpenMP runtime.\n",
    "\n",
    "#   * You are running 32-bit Python on a 64-bit OS\n",
    "!brew install libomp"
   ]
  },
  {
   "cell_type": "code",
   "execution_count": 17,
   "metadata": {
    "_cell_guid": "ffe03d50-e066-4b9b-ac42-5c13ec864c05",
    "_uuid": "662f0acfaf2119b82cfbfcfae6ca9938a6b36bd5",
    "colab": {
     "base_uri": "https://localhost:8080/"
    },
    "id": "cSuw8DJpiZQE",
    "jupyter": {
     "outputs_hidden": true
    },
    "outputId": "92302044-110e-44ff-f29a-dbb37c2b25e0"
   },
   "outputs": [
    {
     "data": {
      "text/plain": [
       "XGBClassifier(base_score=None, booster=None, colsample_bylevel=None,\n",
       "              colsample_bynode=None, colsample_bytree=None,\n",
       "              enable_categorical=False, gamma=None, gpu_id=None,\n",
       "              importance_type=None, interaction_constraints=None,\n",
       "              learning_rate=None, max_delta_step=None, max_depth=None,\n",
       "              min_child_weight=None, missing=nan, monotone_constraints=None,\n",
       "              n_estimators=100, n_jobs=None, num_parallel_tree=None,\n",
       "              objective='binary:logistic', predictor=None, random_state=None,\n",
       "              reg_alpha=None, reg_lambda=None, scale_pos_weight=None,\n",
       "              subsample=None, tree_method=None, use_label_encoder=True,\n",
       "              validate_parameters=None, verbosity=None)"
      ]
     },
     "execution_count": 17,
     "metadata": {},
     "output_type": "execute_result"
    }
   ],
   "source": [
    "#Create an XGB classifier and train it on 70% of the data set.\n",
    "from sklearn import svm\n",
    "from xgboost import XGBClassifier\n",
    "clf = XGBClassifier()\n",
    "clf"
   ]
  },
  {
   "cell_type": "code",
   "execution_count": 18,
   "metadata": {
    "_cell_guid": "7439792a-141f-44e9-b7d1-25b6b965d0ce",
    "_kg_hide-output": true,
    "_uuid": "929529f5b109739fb3445e2321c65ecab972f63d",
    "colab": {
     "base_uri": "https://localhost:8080/"
    },
    "id": "Ru5YRVa6iZQE",
    "jupyter": {
     "outputs_hidden": true
    },
    "outputId": "96013a52-f6a9-4b24-bb9a-3f18b55ce4a5"
   },
   "outputs": [
    {
     "name": "stderr",
     "output_type": "stream",
     "text": [
      "/Users/avivisrael/.virtualenvs/FPR_FNR_TRADEOFF/lib/python3.7/site-packages/xgboost/sklearn.py:1224: UserWarning: The use of label encoder in XGBClassifier is deprecated and will be removed in a future release. To remove this warning, do the following: 1) Pass option use_label_encoder=False when constructing XGBClassifier object; and 2) Encode your labels (y) as integers starting with 0, i.e. 0, 1, 2, ..., [num_class - 1].\n",
      "  warnings.warn(label_encoder_deprecation_msg, UserWarning)\n",
      "/Users/avivisrael/.virtualenvs/FPR_FNR_TRADEOFF/lib/python3.7/site-packages/sklearn/preprocessing/_label.py:235: DataConversionWarning: A column-vector y was passed when a 1d array was expected. Please change the shape of y to (n_samples, ), for example using ravel().\n",
      "  y = column_or_1d(y, warn=True)\n",
      "/Users/avivisrael/.virtualenvs/FPR_FNR_TRADEOFF/lib/python3.7/site-packages/sklearn/preprocessing/_label.py:268: DataConversionWarning: A column-vector y was passed when a 1d array was expected. Please change the shape of y to (n_samples, ), for example using ravel().\n",
      "  y = column_or_1d(y, warn=True)\n"
     ]
    },
    {
     "name": "stdout",
     "output_type": "stream",
     "text": [
      "[20:05:38] WARNING: /Users/runner/work/xgboost/xgboost/src/learner.cc:1115: Starting in XGBoost 1.3.0, the default evaluation metric used with the objective 'binary:logistic' was changed from 'error' to 'logloss'. Explicitly set eval_metric if you'd like to restore the old behavior.\n"
     ]
    },
    {
     "data": {
      "text/plain": [
       "XGBClassifier(base_score=0.5, booster='gbtree', colsample_bylevel=1,\n",
       "              colsample_bynode=1, colsample_bytree=1, enable_categorical=False,\n",
       "              gamma=0, gpu_id=-1, importance_type=None,\n",
       "              interaction_constraints='', learning_rate=0.300000012,\n",
       "              max_delta_step=0, max_depth=6, min_child_weight=1, missing=nan,\n",
       "              monotone_constraints='()', n_estimators=100, n_jobs=16,\n",
       "              num_parallel_tree=1, objective='binary:logistic',\n",
       "              predictor='auto', random_state=0, reg_alpha=0, reg_lambda=1,\n",
       "              scale_pos_weight=1, subsample=1, tree_method='exact',\n",
       "              use_label_encoder=True, validate_parameters=1, verbosity=None)"
      ]
     },
     "execution_count": 18,
     "metadata": {},
     "output_type": "execute_result"
    }
   ],
   "source": [
    "clf.fit(X_train, y_train)"
   ]
  },
  {
   "cell_type": "code",
   "execution_count": 19,
   "metadata": {
    "_cell_guid": "379f1d28-d06a-4d10-aa97-3515439c37a6",
    "_uuid": "abdafa50b5432322e54deef81296b7297f2d7b4d",
    "id": "g0XWazcgiZQE",
    "jupyter": {
     "outputs_hidden": true
    }
   },
   "outputs": [],
   "source": [
    "y_pred = clf.predict(X_test)"
   ]
  },
  {
   "cell_type": "code",
   "execution_count": 20,
   "metadata": {
    "_cell_guid": "c9ba165b-84b3-4874-8c74-710bf87f9d56",
    "_uuid": "f2a45a8dfc5b797cc07a27d2b436b4d75dc78028",
    "colab": {
     "base_uri": "https://localhost:8080/"
    },
    "id": "FohwMbcPiZQF",
    "jupyter": {
     "outputs_hidden": true
    },
    "outputId": "e7e51f98-d5eb-4bd6-8412-22ad2ba873e4"
   },
   "outputs": [
    {
     "name": "stdout",
     "output_type": "stream",
     "text": [
      "0.8975681650700074\n"
     ]
    }
   ],
   "source": [
    "#classification accuracy\n",
    "from sklearn import metrics\n",
    "print(metrics.accuracy_score(y_test, y_pred))"
   ]
  },
  {
   "cell_type": "markdown",
   "metadata": {
    "_cell_guid": "5c81ed75-ca66-4bd8-ba28-60dc201de8f4",
    "_uuid": "550192047e1958f2806776f2b912101919e551ec",
    "id": "moUg4ddKiZQF"
   },
   "source": [
    "**Using xgb Library**"
   ]
  },
  {
   "cell_type": "code",
   "execution_count": 21,
   "metadata": {
    "_cell_guid": "c817cc96-33e1-433a-94ee-cbdc919868d2",
    "_uuid": "e5f4774380291c9c00f016e953b48be80d4d6031",
    "id": "LM0U4G9OiZQF",
    "jupyter": {
     "outputs_hidden": true
    }
   },
   "outputs": [],
   "source": [
    "import xgboost as xgb\n",
    "# X_train, X_test, y_train, y_test = train_test_split(data_X, data_y, test_size=0.3, random_state=2, stratify=data_y)\n"
   ]
  },
  {
   "cell_type": "code",
   "execution_count": 22,
   "metadata": {
    "id": "qCS_3i45-UVw"
   },
   "outputs": [],
   "source": [
    "X_pp_train, X_conf_train, y_pp_train, y_conf_train  = train_test_split(data_X, data_y, test_size=0.66, random_state=10)\n",
    "X_conf_train, X_cal, y_conf_train, y_cal =  train_test_split(X_conf_train, y_conf_train, test_size=0.5, random_state=0)\n",
    "X_cal, X_test, y_cal,  y_test, =                      train_test_split(X_cal, y_cal, test_size=0.5, random_state=0)\n",
    "\n",
    "# model = RandomForestClassifier(random_state =0,\n",
    "#                                n_estimators =800,\n",
    "#                                n_jobs =-1)\n",
    "\n",
    "# model.fit(X_pp_train, y_pp_train)\n",
    "\n"
   ]
  },
  {
   "cell_type": "code",
   "execution_count": 23,
   "metadata": {
    "id": "dZbleCxe_Nu0"
   },
   "outputs": [],
   "source": [
    "dtrain = xgb.DMatrix(X_pp_train, label=y_pp_train)\n",
    "dtest = xgb.DMatrix(X_test)"
   ]
  },
  {
   "cell_type": "code",
   "execution_count": 24,
   "metadata": {
    "_cell_guid": "c78c5600-5a38-4ce2-9cf2-e621d5d15e2c",
    "_kg_hide-output": true,
    "_uuid": "64b3c3cc31748850b29828224cae61cb91dfe315",
    "colab": {
     "base_uri": "https://localhost:8080/"
    },
    "id": "A4UlFAG3iZQF",
    "jupyter": {
     "outputs_hidden": true
    },
    "outputId": "2dd3dfa9-8484-4330-9baa-0efdc32ae0a2"
   },
   "outputs": [
    {
     "name": "stdout",
     "output_type": "stream",
     "text": [
      "[(<xgboost.core.DMatrix object at 0x13f5452d0>, 'train'), (<xgboost.core.DMatrix object at 0x13f545450>, 'val')]\n"
     ]
    }
   ],
   "source": [
    "watchlist = [(dtrain, 'train'),(dtest, 'val')]\n",
    "print(watchlist)"
   ]
  },
  {
   "cell_type": "code",
   "execution_count": 25,
   "metadata": {
    "_cell_guid": "ef442c5f-7883-4f27-ad89-0a7c7b52fc44",
    "_uuid": "7c915a4faef7135694a8058edeb3705f12619825",
    "id": "Gm1FDviHiZQG",
    "jupyter": {
     "outputs_hidden": true
    }
   },
   "outputs": [],
   "source": [
    "#Train the model\n",
    "params = {\n",
    "    'objective':'multi:softprob',\n",
    "    'max_dept':4,\n",
    "    'silent':1,\n",
    "    'eta':0.3,\n",
    "    'gamma': 0,\n",
    "    'num_class': 2\n",
    "}\n",
    "num_rounds=20"
   ]
  },
  {
   "cell_type": "code",
   "execution_count": 26,
   "metadata": {
    "_cell_guid": "23e6bcdb-d45b-47e0-8479-e39b88f672a7",
    "_uuid": "08f9bf94b7f4873e2f7aa3831c2aa7772804cc7b",
    "id": "5T_T75SsiZQG",
    "jupyter": {
     "outputs_hidden": true
    }
   },
   "outputs": [
    {
     "name": "stdout",
     "output_type": "stream",
     "text": [
      "[20:06:11] WARNING: /Users/runner/work/xgboost/xgboost/src/learner.cc:576: \n",
      "Parameters: { \"max_dept\", \"silent\" } might not be used.\n",
      "\n",
      "  This could be a false alarm, with some parameters getting used by language bindings but\n",
      "  then being mistakenly passed down to XGBoost core, or some parameter actually being used\n",
      "  but getting flagged wrongly here. Please open an issue if you find any such cases.\n",
      "\n",
      "\n",
      "[20:06:11] WARNING: /Users/runner/work/xgboost/xgboost/src/learner.cc:1115: Starting in XGBoost 1.3.0, the default evaluation metric used with the objective 'multi:softprob' was changed from 'merror' to 'mlogloss'. Explicitly set eval_metric if you'd like to restore the old behavior.\n"
     ]
    }
   ],
   "source": [
    "XGB_Model = xgb.train(params,dtrain,num_rounds)"
   ]
  },
  {
   "cell_type": "code",
   "execution_count": 27,
   "metadata": {
    "_cell_guid": "b21e243a-b3b8-48e0-b33d-d62d931123df",
    "_uuid": "91ac4f37875cd2c91dbfef6a39eb703dd3744798",
    "id": "pYAPG1pgiZQG",
    "jupyter": {
     "outputs_hidden": true
    }
   },
   "outputs": [],
   "source": [
    "XGB_Model.dump_model('dump.rawBank.txt')"
   ]
  },
  {
   "cell_type": "code",
   "execution_count": 28,
   "metadata": {
    "_cell_guid": "f5ff8e0e-1d50-45d3-afe6-bf47a8bbfb98",
    "_uuid": "8acab998e69778821489a4679652a0436da5566c",
    "colab": {
     "base_uri": "https://localhost:8080/"
    },
    "id": "VQ8RZBY7iZQG",
    "jupyter": {
     "outputs_hidden": true
    },
    "outputId": "3a47cba4-2143-4e18-cd45-21b05f6aafb9"
   },
   "outputs": [
    {
     "name": "stdout",
     "output_type": "stream",
     "text": [
      "[[0.9710537  0.0289463 ]\n",
      " [0.9604785  0.0395215 ]\n",
      " [0.34876823 0.6512318 ]\n",
      " ...\n",
      " [0.9744134  0.02558665]\n",
      " [0.9895655  0.01043455]\n",
      " [0.99727637 0.00272364]]\n"
     ]
    }
   ],
   "source": [
    "y_predict = XGB_Model.predict(dtest)\n",
    "print(y_predict)"
   ]
  },
  {
   "cell_type": "code",
   "execution_count": 29,
   "metadata": {
    "_cell_guid": "5e12b7bb-d953-4582-89b6-64653a1bb350",
    "_uuid": "1e95ab24e7fb43442963eaaaf0acb03f4b8e02a9",
    "colab": {
     "base_uri": "https://localhost:8080/",
     "height": 295
    },
    "id": "U2IXSNV2iZQG",
    "jupyter": {
     "outputs_hidden": true
    },
    "outputId": "ce0c76a0-619d-47ce-ad8e-5663e4551bac"
   },
   "outputs": [
    {
     "data": {
      "image/png": "[encoded data removed]",
      "text/plain": [
       "<Figure size 432x288 with 1 Axes>"
      ]
     },
     "metadata": {
      "needs_background": "light"
     },
     "output_type": "display_data"
    }
   ],
   "source": [
    "from xgboost import plot_importance\n",
    "from matplotlib import pyplot\n",
    "plot_importance(XGB_Model)\n",
    "pyplot.show()"
   ]
  },
  {
   "cell_type": "code",
   "execution_count": 36,
   "metadata": {
    "_cell_guid": "84244a68-b6fd-4085-9ff5-130c93d47e30",
    "_uuid": "9e5ed7350fbbf816dd5139d328cd80ad0e7caa71",
    "colab": {
     "base_uri": "https://localhost:8080/",
     "height": 1000
    },
    "id": "Nbc7dstDiZQH",
    "jupyter": {
     "outputs_hidden": true
    },
    "outputId": "e04715d2-c8b1-4891-ac14-348c734ed0a0"
   },
   "outputs": [
    {
     "ename": "ExecutableNotFound",
     "evalue": "failed to execute PosixPath('dot'), make sure the Graphviz executables are on your systems' PATH",
     "output_type": "error",
     "traceback": [
      "\u001B[0;31m---------------------------------------------------------------------------\u001B[0m",
      "\u001B[0;31mFileNotFoundError\u001B[0m                         Traceback (most recent call last)",
      "\u001B[0;32m~/.virtualenvs/FPR_FNR_TRADEOFF/lib/python3.7/site-packages/graphviz/backend/execute.py\u001B[0m in \u001B[0;36mrun_check\u001B[0;34m(cmd, input_lines, encoding, capture_output, quiet, **kwargs)\u001B[0m\n\u001B[1;32m     82\u001B[0m             \u001B[0;32massert\u001B[0m \u001B[0miter\u001B[0m\u001B[0;34m(\u001B[0m\u001B[0minput_lines\u001B[0m\u001B[0;34m)\u001B[0m \u001B[0;32mis\u001B[0m \u001B[0minput_lines\u001B[0m\u001B[0;34m\u001B[0m\u001B[0;34m\u001B[0m\u001B[0m\n\u001B[0;32m---> 83\u001B[0;31m             \u001B[0mproc\u001B[0m \u001B[0;34m=\u001B[0m \u001B[0m_run_input_lines\u001B[0m\u001B[0;34m(\u001B[0m\u001B[0mcmd\u001B[0m\u001B[0;34m,\u001B[0m \u001B[0minput_lines\u001B[0m\u001B[0;34m,\u001B[0m \u001B[0mkwargs\u001B[0m\u001B[0;34m=\u001B[0m\u001B[0mkwargs\u001B[0m\u001B[0;34m)\u001B[0m\u001B[0;34m\u001B[0m\u001B[0;34m\u001B[0m\u001B[0m\n\u001B[0m\u001B[1;32m     84\u001B[0m         \u001B[0;32melse\u001B[0m\u001B[0;34m:\u001B[0m\u001B[0;34m\u001B[0m\u001B[0;34m\u001B[0m\u001B[0m\n",
      "\u001B[0;32m~/.virtualenvs/FPR_FNR_TRADEOFF/lib/python3.7/site-packages/graphviz/backend/execute.py\u001B[0m in \u001B[0;36m_run_input_lines\u001B[0;34m(cmd, input_lines, kwargs)\u001B[0m\n\u001B[1;32m    102\u001B[0m \u001B[0;32mdef\u001B[0m \u001B[0m_run_input_lines\u001B[0m\u001B[0;34m(\u001B[0m\u001B[0mcmd\u001B[0m\u001B[0;34m,\u001B[0m \u001B[0minput_lines\u001B[0m\u001B[0;34m,\u001B[0m \u001B[0;34m*\u001B[0m\u001B[0;34m,\u001B[0m \u001B[0mkwargs\u001B[0m\u001B[0;34m)\u001B[0m\u001B[0;34m:\u001B[0m\u001B[0;34m\u001B[0m\u001B[0;34m\u001B[0m\u001B[0m\n\u001B[0;32m--> 103\u001B[0;31m     \u001B[0mpopen\u001B[0m \u001B[0;34m=\u001B[0m \u001B[0msubprocess\u001B[0m\u001B[0;34m.\u001B[0m\u001B[0mPopen\u001B[0m\u001B[0;34m(\u001B[0m\u001B[0mcmd\u001B[0m\u001B[0;34m,\u001B[0m \u001B[0mstdin\u001B[0m\u001B[0;34m=\u001B[0m\u001B[0msubprocess\u001B[0m\u001B[0;34m.\u001B[0m\u001B[0mPIPE\u001B[0m\u001B[0;34m,\u001B[0m \u001B[0;34m**\u001B[0m\u001B[0mkwargs\u001B[0m\u001B[0;34m)\u001B[0m\u001B[0;34m\u001B[0m\u001B[0;34m\u001B[0m\u001B[0m\n\u001B[0m\u001B[1;32m    104\u001B[0m \u001B[0;34m\u001B[0m\u001B[0m\n",
      "\u001B[0;32m~/.pyenv/versions/3.7.9/lib/python3.7/subprocess.py\u001B[0m in \u001B[0;36m__init__\u001B[0;34m(self, args, bufsize, executable, stdin, stdout, stderr, preexec_fn, close_fds, shell, cwd, env, universal_newlines, startupinfo, creationflags, restore_signals, start_new_session, pass_fds, encoding, errors, text)\u001B[0m\n\u001B[1;32m    799\u001B[0m                                 \u001B[0merrread\u001B[0m\u001B[0;34m,\u001B[0m \u001B[0merrwrite\u001B[0m\u001B[0;34m,\u001B[0m\u001B[0;34m\u001B[0m\u001B[0;34m\u001B[0m\u001B[0m\n\u001B[0;32m--> 800\u001B[0;31m                                 restore_signals, start_new_session)\n\u001B[0m\u001B[1;32m    801\u001B[0m         \u001B[0;32mexcept\u001B[0m\u001B[0;34m:\u001B[0m\u001B[0;34m\u001B[0m\u001B[0;34m\u001B[0m\u001B[0m\n",
      "\u001B[0;32m~/.pyenv/versions/3.7.9/lib/python3.7/subprocess.py\u001B[0m in \u001B[0;36m_execute_child\u001B[0;34m(self, args, executable, preexec_fn, close_fds, pass_fds, cwd, env, startupinfo, creationflags, shell, p2cread, p2cwrite, c2pread, c2pwrite, errread, errwrite, restore_signals, start_new_session)\u001B[0m\n\u001B[1;32m   1550\u001B[0m                             \u001B[0merr_msg\u001B[0m \u001B[0;34m+=\u001B[0m \u001B[0;34m': '\u001B[0m \u001B[0;34m+\u001B[0m \u001B[0mrepr\u001B[0m\u001B[0;34m(\u001B[0m\u001B[0merr_filename\u001B[0m\u001B[0;34m)\u001B[0m\u001B[0;34m\u001B[0m\u001B[0;34m\u001B[0m\u001B[0m\n\u001B[0;32m-> 1551\u001B[0;31m                     \u001B[0;32mraise\u001B[0m \u001B[0mchild_exception_type\u001B[0m\u001B[0;34m(\u001B[0m\u001B[0merrno_num\u001B[0m\u001B[0;34m,\u001B[0m \u001B[0merr_msg\u001B[0m\u001B[0;34m,\u001B[0m \u001B[0merr_filename\u001B[0m\u001B[0;34m)\u001B[0m\u001B[0;34m\u001B[0m\u001B[0;34m\u001B[0m\u001B[0m\n\u001B[0m\u001B[1;32m   1552\u001B[0m                 \u001B[0;32mraise\u001B[0m \u001B[0mchild_exception_type\u001B[0m\u001B[0;34m(\u001B[0m\u001B[0merr_msg\u001B[0m\u001B[0;34m)\u001B[0m\u001B[0;34m\u001B[0m\u001B[0;34m\u001B[0m\u001B[0m\n",
      "\u001B[0;31mFileNotFoundError\u001B[0m: [Errno 2] No such file or directory: PosixPath('dot'): PosixPath('dot')",
      "\nThe above exception was the direct cause of the following exception:\n",
      "\u001B[0;31mExecutableNotFound\u001B[0m                        Traceback (most recent call last)",
      "\u001B[0;32m/var/folders/8k/kjcv8fg107n9xl077vfg2_8m0000gn/T/ipykernel_11350/1005229149.py\u001B[0m in \u001B[0;36m<module>\u001B[0;34m\u001B[0m\n\u001B[1;32m      1\u001B[0m \u001B[0;31m#Tree visualisation (Double tap to zoo)\u001B[0m\u001B[0;34m\u001B[0m\u001B[0;34m\u001B[0m\u001B[0;34m\u001B[0m\u001B[0m\n\u001B[0;32m----> 2\u001B[0;31m \u001B[0mxgb\u001B[0m\u001B[0;34m.\u001B[0m\u001B[0mplot_tree\u001B[0m\u001B[0;34m(\u001B[0m\u001B[0mXGB_Model\u001B[0m\u001B[0;34m,\u001B[0m \u001B[0mnum_trees\u001B[0m\u001B[0;34m=\u001B[0m\u001B[0;36m2\u001B[0m\u001B[0;34m)\u001B[0m\u001B[0;34m\u001B[0m\u001B[0;34m\u001B[0m\u001B[0m\n\u001B[0m\u001B[1;32m      3\u001B[0m \u001B[0mfig\u001B[0m \u001B[0;34m=\u001B[0m \u001B[0mplt\u001B[0m\u001B[0;34m.\u001B[0m\u001B[0mgcf\u001B[0m\u001B[0;34m(\u001B[0m\u001B[0;34m)\u001B[0m\u001B[0;34m\u001B[0m\u001B[0;34m\u001B[0m\u001B[0m\n\u001B[1;32m      4\u001B[0m \u001B[0mfig\u001B[0m\u001B[0;34m.\u001B[0m\u001B[0mset_size_inches\u001B[0m\u001B[0;34m(\u001B[0m\u001B[0;36m150\u001B[0m\u001B[0;34m,\u001B[0m \u001B[0;36m300\u001B[0m\u001B[0;34m)\u001B[0m\u001B[0;34m\u001B[0m\u001B[0;34m\u001B[0m\u001B[0m\n\u001B[1;32m      5\u001B[0m \u001B[0mfig\u001B[0m\u001B[0;34m.\u001B[0m\u001B[0msavefig\u001B[0m\u001B[0;34m(\u001B[0m\u001B[0;34m'tree.png'\u001B[0m\u001B[0;34m)\u001B[0m\u001B[0;34m\u001B[0m\u001B[0;34m\u001B[0m\u001B[0m\n",
      "\u001B[0;32m~/.virtualenvs/FPR_FNR_TRADEOFF/lib/python3.7/site-packages/xgboost/plotting.py\u001B[0m in \u001B[0;36mplot_tree\u001B[0;34m(booster, fmap, num_trees, rankdir, ax, **kwargs)\u001B[0m\n\u001B[1;32m    249\u001B[0m \u001B[0;34m\u001B[0m\u001B[0m\n\u001B[1;32m    250\u001B[0m     \u001B[0ms\u001B[0m \u001B[0;34m=\u001B[0m \u001B[0mBytesIO\u001B[0m\u001B[0;34m(\u001B[0m\u001B[0;34m)\u001B[0m\u001B[0;34m\u001B[0m\u001B[0;34m\u001B[0m\u001B[0m\n\u001B[0;32m--> 251\u001B[0;31m     \u001B[0ms\u001B[0m\u001B[0;34m.\u001B[0m\u001B[0mwrite\u001B[0m\u001B[0;34m(\u001B[0m\u001B[0mg\u001B[0m\u001B[0;34m.\u001B[0m\u001B[0mpipe\u001B[0m\u001B[0;34m(\u001B[0m\u001B[0mformat\u001B[0m\u001B[0;34m=\u001B[0m\u001B[0;34m'png'\u001B[0m\u001B[0;34m)\u001B[0m\u001B[0;34m)\u001B[0m\u001B[0;34m\u001B[0m\u001B[0;34m\u001B[0m\u001B[0m\n\u001B[0m\u001B[1;32m    252\u001B[0m     \u001B[0ms\u001B[0m\u001B[0;34m.\u001B[0m\u001B[0mseek\u001B[0m\u001B[0;34m(\u001B[0m\u001B[0;36m0\u001B[0m\u001B[0;34m)\u001B[0m\u001B[0;34m\u001B[0m\u001B[0;34m\u001B[0m\u001B[0m\n\u001B[1;32m    253\u001B[0m     \u001B[0mimg\u001B[0m \u001B[0;34m=\u001B[0m \u001B[0mimage\u001B[0m\u001B[0;34m.\u001B[0m\u001B[0mimread\u001B[0m\u001B[0;34m(\u001B[0m\u001B[0ms\u001B[0m\u001B[0;34m)\u001B[0m\u001B[0;34m\u001B[0m\u001B[0;34m\u001B[0m\u001B[0m\n",
      "\u001B[0;32m~/.virtualenvs/FPR_FNR_TRADEOFF/lib/python3.7/site-packages/graphviz/piping.py\u001B[0m in \u001B[0;36mpipe\u001B[0;34m(self, format, renderer, formatter, quiet, engine, encoding)\u001B[0m\n\u001B[1;32m    102\u001B[0m                                  \u001B[0mquiet\u001B[0m\u001B[0;34m=\u001B[0m\u001B[0mquiet\u001B[0m\u001B[0;34m,\u001B[0m\u001B[0;34m\u001B[0m\u001B[0;34m\u001B[0m\u001B[0m\n\u001B[1;32m    103\u001B[0m                                  \u001B[0mengine\u001B[0m\u001B[0;34m=\u001B[0m\u001B[0mengine\u001B[0m\u001B[0;34m,\u001B[0m\u001B[0;34m\u001B[0m\u001B[0;34m\u001B[0m\u001B[0m\n\u001B[0;32m--> 104\u001B[0;31m                                  encoding=encoding)\n\u001B[0m\u001B[1;32m    105\u001B[0m \u001B[0;34m\u001B[0m\u001B[0m\n\u001B[1;32m    106\u001B[0m     \u001B[0;34m@\u001B[0m\u001B[0m_tools\u001B[0m\u001B[0;34m.\u001B[0m\u001B[0mdeprecate_positional_args\u001B[0m\u001B[0;34m(\u001B[0m\u001B[0msupported_number\u001B[0m\u001B[0;34m=\u001B[0m\u001B[0;36m2\u001B[0m\u001B[0;34m)\u001B[0m\u001B[0;34m\u001B[0m\u001B[0;34m\u001B[0m\u001B[0m\n",
      "\u001B[0;32m~/.virtualenvs/FPR_FNR_TRADEOFF/lib/python3.7/site-packages/graphviz/_tools.py\u001B[0m in \u001B[0;36mwrapper\u001B[0;34m(*args, **kwargs)\u001B[0m\n\u001B[1;32m    170\u001B[0m                               category=category)\n\u001B[1;32m    171\u001B[0m \u001B[0;34m\u001B[0m\u001B[0m\n\u001B[0;32m--> 172\u001B[0;31m             \u001B[0;32mreturn\u001B[0m \u001B[0mfunc\u001B[0m\u001B[0;34m(\u001B[0m\u001B[0;34m*\u001B[0m\u001B[0margs\u001B[0m\u001B[0;34m,\u001B[0m \u001B[0;34m**\u001B[0m\u001B[0mkwargs\u001B[0m\u001B[0;34m)\u001B[0m\u001B[0;34m\u001B[0m\u001B[0;34m\u001B[0m\u001B[0m\n\u001B[0m\u001B[1;32m    173\u001B[0m \u001B[0;34m\u001B[0m\u001B[0m\n\u001B[1;32m    174\u001B[0m         \u001B[0;32mreturn\u001B[0m \u001B[0mwrapper\u001B[0m\u001B[0;34m\u001B[0m\u001B[0;34m\u001B[0m\u001B[0m\n",
      "\u001B[0;32m~/.virtualenvs/FPR_FNR_TRADEOFF/lib/python3.7/site-packages/graphviz/piping.py\u001B[0m in \u001B[0;36m_pipe_legacy\u001B[0;34m(self, format, renderer, formatter, quiet, engine, encoding)\u001B[0m\n\u001B[1;32m    117\u001B[0m                                  \u001B[0mquiet\u001B[0m\u001B[0;34m=\u001B[0m\u001B[0mquiet\u001B[0m\u001B[0;34m,\u001B[0m\u001B[0;34m\u001B[0m\u001B[0;34m\u001B[0m\u001B[0m\n\u001B[1;32m    118\u001B[0m                                  \u001B[0mengine\u001B[0m\u001B[0;34m=\u001B[0m\u001B[0mengine\u001B[0m\u001B[0;34m,\u001B[0m\u001B[0;34m\u001B[0m\u001B[0;34m\u001B[0m\u001B[0m\n\u001B[0;32m--> 119\u001B[0;31m                                  encoding=encoding)\n\u001B[0m\u001B[1;32m    120\u001B[0m \u001B[0;34m\u001B[0m\u001B[0m\n\u001B[1;32m    121\u001B[0m     def _pipe_future(self, format: typing.Optional[str] = None, *,\n",
      "\u001B[0;32m~/.virtualenvs/FPR_FNR_TRADEOFF/lib/python3.7/site-packages/graphviz/piping.py\u001B[0m in \u001B[0;36m_pipe_future\u001B[0;34m(self, format, renderer, formatter, quiet, engine, encoding)\u001B[0m\n\u001B[1;32m    149\u001B[0m             \u001B[0;32melse\u001B[0m\u001B[0;34m:\u001B[0m\u001B[0;34m\u001B[0m\u001B[0;34m\u001B[0m\u001B[0m\n\u001B[1;32m    150\u001B[0m                 \u001B[0;32mreturn\u001B[0m \u001B[0mraw\u001B[0m\u001B[0;34m.\u001B[0m\u001B[0mdecode\u001B[0m\u001B[0;34m(\u001B[0m\u001B[0mencoding\u001B[0m\u001B[0;34m)\u001B[0m\u001B[0;34m\u001B[0m\u001B[0;34m\u001B[0m\u001B[0m\n\u001B[0;32m--> 151\u001B[0;31m         \u001B[0;32mreturn\u001B[0m \u001B[0mself\u001B[0m\u001B[0;34m.\u001B[0m\u001B[0m_pipe_lines\u001B[0m\u001B[0;34m(\u001B[0m\u001B[0;34m*\u001B[0m\u001B[0margs\u001B[0m\u001B[0;34m,\u001B[0m \u001B[0minput_encoding\u001B[0m\u001B[0;34m=\u001B[0m\u001B[0mself\u001B[0m\u001B[0;34m.\u001B[0m\u001B[0mencoding\u001B[0m\u001B[0;34m,\u001B[0m \u001B[0;34m**\u001B[0m\u001B[0mkwargs\u001B[0m\u001B[0;34m)\u001B[0m\u001B[0;34m\u001B[0m\u001B[0;34m\u001B[0m\u001B[0m\n\u001B[0m",
      "\u001B[0;32m~/.virtualenvs/FPR_FNR_TRADEOFF/lib/python3.7/site-packages/graphviz/backend/piping.py\u001B[0m in \u001B[0;36mpipe_lines\u001B[0;34m(engine, format, input_lines, input_encoding, renderer, formatter, quiet)\u001B[0m\n\u001B[1;32m    147\u001B[0m     \u001B[0mkwargs\u001B[0m \u001B[0;34m=\u001B[0m \u001B[0;34m{\u001B[0m\u001B[0;34m'input_lines'\u001B[0m\u001B[0;34m:\u001B[0m \u001B[0;34m(\u001B[0m\u001B[0mline\u001B[0m\u001B[0;34m.\u001B[0m\u001B[0mencode\u001B[0m\u001B[0;34m(\u001B[0m\u001B[0minput_encoding\u001B[0m\u001B[0;34m)\u001B[0m \u001B[0;32mfor\u001B[0m \u001B[0mline\u001B[0m \u001B[0;32min\u001B[0m \u001B[0minput_lines\u001B[0m\u001B[0;34m)\u001B[0m\u001B[0;34m}\u001B[0m\u001B[0;34m\u001B[0m\u001B[0;34m\u001B[0m\u001B[0m\n\u001B[1;32m    148\u001B[0m \u001B[0;34m\u001B[0m\u001B[0m\n\u001B[0;32m--> 149\u001B[0;31m     \u001B[0mproc\u001B[0m \u001B[0;34m=\u001B[0m \u001B[0mexecute\u001B[0m\u001B[0;34m.\u001B[0m\u001B[0mrun_check\u001B[0m\u001B[0;34m(\u001B[0m\u001B[0mcmd\u001B[0m\u001B[0;34m,\u001B[0m \u001B[0mcapture_output\u001B[0m\u001B[0;34m=\u001B[0m\u001B[0;32mTrue\u001B[0m\u001B[0;34m,\u001B[0m \u001B[0mquiet\u001B[0m\u001B[0;34m=\u001B[0m\u001B[0mquiet\u001B[0m\u001B[0;34m,\u001B[0m \u001B[0;34m**\u001B[0m\u001B[0mkwargs\u001B[0m\u001B[0;34m)\u001B[0m\u001B[0;34m\u001B[0m\u001B[0;34m\u001B[0m\u001B[0m\n\u001B[0m\u001B[1;32m    150\u001B[0m     \u001B[0;32mreturn\u001B[0m \u001B[0mproc\u001B[0m\u001B[0;34m.\u001B[0m\u001B[0mstdout\u001B[0m\u001B[0;34m\u001B[0m\u001B[0;34m\u001B[0m\u001B[0m\n\u001B[1;32m    151\u001B[0m \u001B[0;34m\u001B[0m\u001B[0m\n",
      "\u001B[0;32m~/.virtualenvs/FPR_FNR_TRADEOFF/lib/python3.7/site-packages/graphviz/backend/execute.py\u001B[0m in \u001B[0;36mrun_check\u001B[0;34m(cmd, input_lines, encoding, capture_output, quiet, **kwargs)\u001B[0m\n\u001B[1;32m     86\u001B[0m     \u001B[0;32mexcept\u001B[0m \u001B[0mOSError\u001B[0m \u001B[0;32mas\u001B[0m \u001B[0me\u001B[0m\u001B[0;34m:\u001B[0m\u001B[0;34m\u001B[0m\u001B[0;34m\u001B[0m\u001B[0m\n\u001B[1;32m     87\u001B[0m         \u001B[0;32mif\u001B[0m \u001B[0me\u001B[0m\u001B[0;34m.\u001B[0m\u001B[0merrno\u001B[0m \u001B[0;34m==\u001B[0m \u001B[0merrno\u001B[0m\u001B[0;34m.\u001B[0m\u001B[0mENOENT\u001B[0m\u001B[0;34m:\u001B[0m\u001B[0;34m\u001B[0m\u001B[0;34m\u001B[0m\u001B[0m\n\u001B[0;32m---> 88\u001B[0;31m             \u001B[0;32mraise\u001B[0m \u001B[0mExecutableNotFound\u001B[0m\u001B[0;34m(\u001B[0m\u001B[0mcmd\u001B[0m\u001B[0;34m)\u001B[0m \u001B[0;32mfrom\u001B[0m \u001B[0me\u001B[0m\u001B[0;34m\u001B[0m\u001B[0;34m\u001B[0m\u001B[0m\n\u001B[0m\u001B[1;32m     89\u001B[0m         \u001B[0;32mraise\u001B[0m\u001B[0;34m\u001B[0m\u001B[0;34m\u001B[0m\u001B[0m\n\u001B[1;32m     90\u001B[0m \u001B[0;34m\u001B[0m\u001B[0m\n",
      "\u001B[0;31mExecutableNotFound\u001B[0m: failed to execute PosixPath('dot'), make sure the Graphviz executables are on your systems' PATH"
     ]
    },
    {
     "data": {
      "image/png": "[encoded data removed]",
      "text/plain": [
       "<Figure size 432x288 with 1 Axes>"
      ]
     },
     "metadata": {
      "needs_background": "light"
     },
     "output_type": "display_data"
    }
   ],
   "source": [
    "#Tree visualisation (Double tap to zoo)\n",
    "xgb.plot_tree(XGB_Model, num_trees=2)\n",
    "fig = plt.gcf()\n",
    "fig.set_size_inches(150, 300)\n",
    "fig.savefig('tree.png')"
   ]
  },
  {
   "cell_type": "markdown",
   "metadata": {
    "id": "EzyhMRZvz_gU",
    "pycharm": {
     "name": "#%% md\n"
    }
   },
   "source": [
    "### Let's have a look at the performance of the model on unseen data, we will compare to the random forest confidence predictions"
   ]
  },
  {
   "cell_type": "code",
   "execution_count": 31,
   "metadata": {
    "colab": {
     "base_uri": "https://localhost:8080/",
     "height": 317
    },
    "id": "HW60f-2d2e3r",
    "outputId": "49e88aed-ec69-45fe-ca7b-c8240a812be5"
   },
   "outputs": [
    {
     "name": "stderr",
     "output_type": "stream",
     "text": [
      "Your CPU supports instructions that this binary was not compiled to use: AVX2\n",
      "For maximum performance, you can install NMSLIB from sources \n",
      "pip install --no-binary :all: nmslib\n"
     ]
    }
   ],
   "source": [
    "# pip install plot_utils\n",
    "from plotting_utils import plot_prediction_conf_surface, plot_macest_sklearn_comparison_surface"
   ]
  },
  {
   "cell_type": "code",
   "execution_count": 32,
   "metadata": {
    "colab": {
     "base_uri": "https://localhost:8080/",
     "height": 1000
    },
    "id": "zkG104TAz_gU",
    "outputId": "8dc9438e-1111-4c78-f568-c85a8e53b68a"
   },
   "outputs": [
    {
     "ename": "TypeError",
     "evalue": "('Expecting data to be a DMatrix object, got: ', <class 'pandas.core.frame.DataFrame'>)",
     "output_type": "error",
     "traceback": [
      "\u001B[0;31m---------------------------------------------------------------------------\u001B[0m",
      "\u001B[0;31mTypeError\u001B[0m                                 Traceback (most recent call last)",
      "\u001B[0;32m/var/folders/8k/kjcv8fg107n9xl077vfg2_8m0000gn/T/ipykernel_11350/3195443501.py\u001B[0m in \u001B[0;36m<module>\u001B[0;34m\u001B[0m\n\u001B[1;32m      4\u001B[0m \u001B[0;32mfrom\u001B[0m \u001B[0mmacest\u001B[0m\u001B[0;34m.\u001B[0m\u001B[0mclassification\u001B[0m \u001B[0;32mimport\u001B[0m \u001B[0mplots\u001B[0m \u001B[0;32mas\u001B[0m \u001B[0mclplot\u001B[0m\u001B[0;34m\u001B[0m\u001B[0;34m\u001B[0m\u001B[0m\n\u001B[1;32m      5\u001B[0m \u001B[0;34m\u001B[0m\u001B[0m\n\u001B[0;32m----> 6\u001B[0;31m \u001B[0mmacest_model\u001B[0m \u001B[0;34m=\u001B[0m \u001B[0mclmod\u001B[0m\u001B[0;34m.\u001B[0m\u001B[0mModelWithConfidence\u001B[0m\u001B[0;34m(\u001B[0m\u001B[0mXGB_Model\u001B[0m\u001B[0;34m,\u001B[0m \u001B[0mX_conf_train\u001B[0m\u001B[0;34m,\u001B[0m \u001B[0my_conf_train\u001B[0m\u001B[0;34m)\u001B[0m\u001B[0;34m\u001B[0m\u001B[0;34m\u001B[0m\u001B[0m\n\u001B[0m\u001B[1;32m      7\u001B[0m \u001B[0;34m\u001B[0m\u001B[0m\n\u001B[1;32m      8\u001B[0m \u001B[0mmacest_model\u001B[0m\u001B[0;34m.\u001B[0m\u001B[0mfit\u001B[0m\u001B[0;34m(\u001B[0m\u001B[0mX_cal\u001B[0m\u001B[0;34m,\u001B[0m \u001B[0my_cal\u001B[0m\u001B[0;34m)\u001B[0m\u001B[0;34m\u001B[0m\u001B[0;34m\u001B[0m\u001B[0m\n",
      "\u001B[0;32m~/.virtualenvs/FPR_FNR_TRADEOFF/lib/python3.7/site-packages/macest/classification/models.py\u001B[0m in \u001B[0;36m__init__\u001B[0;34m(self, point_pred_model, x_train, y_train, macest_model_params, precomputed_neighbour_info, graph, search_method_args, training_preds_by_class, verbose_training, empirical_conflict_constant)\u001B[0m\n\u001B[1;32m    128\u001B[0m             self.training_preds_by_class = {\n\u001B[1;32m    129\u001B[0m                 \u001B[0mkey\u001B[0m\u001B[0;34m:\u001B[0m \u001B[0mself\u001B[0m\u001B[0;34m.\u001B[0m\u001B[0mpredict\u001B[0m\u001B[0;34m(\u001B[0m\u001B[0mself\u001B[0m\u001B[0;34m.\u001B[0m\u001B[0mx_train\u001B[0m\u001B[0;34m[\u001B[0m\u001B[0my_train\u001B[0m \u001B[0;34m==\u001B[0m \u001B[0mkey\u001B[0m\u001B[0;34m]\u001B[0m\u001B[0;34m)\u001B[0m\u001B[0;34m\u001B[0m\u001B[0;34m\u001B[0m\u001B[0m\n\u001B[0;32m--> 130\u001B[0;31m                 \u001B[0;32mfor\u001B[0m \u001B[0mkey\u001B[0m \u001B[0;32min\u001B[0m \u001B[0mnp\u001B[0m\u001B[0;34m.\u001B[0m\u001B[0munique\u001B[0m\u001B[0;34m(\u001B[0m\u001B[0mself\u001B[0m\u001B[0;34m.\u001B[0m\u001B[0my_train\u001B[0m\u001B[0;34m)\u001B[0m\u001B[0;34m\u001B[0m\u001B[0;34m\u001B[0m\u001B[0m\n\u001B[0m\u001B[1;32m    131\u001B[0m             }\n\u001B[1;32m    132\u001B[0m \u001B[0;34m\u001B[0m\u001B[0m\n",
      "\u001B[0;32m~/.virtualenvs/FPR_FNR_TRADEOFF/lib/python3.7/site-packages/macest/classification/models.py\u001B[0m in \u001B[0;36m<dictcomp>\u001B[0;34m(.0)\u001B[0m\n\u001B[1;32m    128\u001B[0m             self.training_preds_by_class = {\n\u001B[1;32m    129\u001B[0m                 \u001B[0mkey\u001B[0m\u001B[0;34m:\u001B[0m \u001B[0mself\u001B[0m\u001B[0;34m.\u001B[0m\u001B[0mpredict\u001B[0m\u001B[0;34m(\u001B[0m\u001B[0mself\u001B[0m\u001B[0;34m.\u001B[0m\u001B[0mx_train\u001B[0m\u001B[0;34m[\u001B[0m\u001B[0my_train\u001B[0m \u001B[0;34m==\u001B[0m \u001B[0mkey\u001B[0m\u001B[0;34m]\u001B[0m\u001B[0;34m)\u001B[0m\u001B[0;34m\u001B[0m\u001B[0;34m\u001B[0m\u001B[0m\n\u001B[0;32m--> 130\u001B[0;31m                 \u001B[0;32mfor\u001B[0m \u001B[0mkey\u001B[0m \u001B[0;32min\u001B[0m \u001B[0mnp\u001B[0m\u001B[0;34m.\u001B[0m\u001B[0munique\u001B[0m\u001B[0;34m(\u001B[0m\u001B[0mself\u001B[0m\u001B[0;34m.\u001B[0m\u001B[0my_train\u001B[0m\u001B[0;34m)\u001B[0m\u001B[0;34m\u001B[0m\u001B[0;34m\u001B[0m\u001B[0m\n\u001B[0m\u001B[1;32m    131\u001B[0m             }\n\u001B[1;32m    132\u001B[0m \u001B[0;34m\u001B[0m\u001B[0m\n",
      "\u001B[0;32m~/.virtualenvs/FPR_FNR_TRADEOFF/lib/python3.7/site-packages/macest/classification/models.py\u001B[0m in \u001B[0;36mpredict\u001B[0;34m(self, x_star)\u001B[0m\n\u001B[1;32m    162\u001B[0m         \u001B[0;34m:\u001B[0m\u001B[0;32mreturn\u001B[0m\u001B[0;34m:\u001B[0m \u001B[0mA\u001B[0m \u001B[0mpoint\u001B[0m \u001B[0mprediction\u001B[0m \u001B[0;32mfor\u001B[0m \u001B[0mthe\u001B[0m \u001B[0mgiven\u001B[0m \u001B[0mx_star\u001B[0m\u001B[0;34m\u001B[0m\u001B[0;34m\u001B[0m\u001B[0m\n\u001B[1;32m    163\u001B[0m         \"\"\"\n\u001B[0;32m--> 164\u001B[0;31m         \u001B[0;32mreturn\u001B[0m \u001B[0mself\u001B[0m\u001B[0;34m.\u001B[0m\u001B[0mpoint_pred_model\u001B[0m\u001B[0;34m.\u001B[0m\u001B[0mpredict\u001B[0m\u001B[0;34m(\u001B[0m\u001B[0mx_star\u001B[0m\u001B[0;34m)\u001B[0m\u001B[0;34m\u001B[0m\u001B[0;34m\u001B[0m\u001B[0m\n\u001B[0m\u001B[1;32m    165\u001B[0m \u001B[0;34m\u001B[0m\u001B[0m\n\u001B[1;32m    166\u001B[0m     \u001B[0;32mdef\u001B[0m \u001B[0mbuild_class_graphs\u001B[0m\u001B[0;34m(\u001B[0m\u001B[0mself\u001B[0m\u001B[0;34m)\u001B[0m \u001B[0;34m->\u001B[0m \u001B[0mDict\u001B[0m\u001B[0;34m[\u001B[0m\u001B[0mint\u001B[0m\u001B[0;34m,\u001B[0m \u001B[0mnmslib\u001B[0m\u001B[0;34m.\u001B[0m\u001B[0mdist\u001B[0m\u001B[0;34m.\u001B[0m\u001B[0mFloatIndex\u001B[0m\u001B[0;34m]\u001B[0m\u001B[0;34m:\u001B[0m\u001B[0;34m\u001B[0m\u001B[0;34m\u001B[0m\u001B[0m\n",
      "\u001B[0;32m~/.virtualenvs/FPR_FNR_TRADEOFF/lib/python3.7/site-packages/xgboost/core.py\u001B[0m in \u001B[0;36mpredict\u001B[0;34m(self, data, output_margin, ntree_limit, pred_leaf, pred_contribs, approx_contribs, pred_interactions, validate_features, training, iteration_range, strict_shape)\u001B[0m\n\u001B[1;32m   1883\u001B[0m         \"\"\"\n\u001B[1;32m   1884\u001B[0m         \u001B[0;32mif\u001B[0m \u001B[0;32mnot\u001B[0m \u001B[0misinstance\u001B[0m\u001B[0;34m(\u001B[0m\u001B[0mdata\u001B[0m\u001B[0;34m,\u001B[0m \u001B[0mDMatrix\u001B[0m\u001B[0;34m)\u001B[0m\u001B[0;34m:\u001B[0m\u001B[0;34m\u001B[0m\u001B[0;34m\u001B[0m\u001B[0m\n\u001B[0;32m-> 1885\u001B[0;31m             \u001B[0;32mraise\u001B[0m \u001B[0mTypeError\u001B[0m\u001B[0;34m(\u001B[0m\u001B[0;34m'Expecting data to be a DMatrix object, got: '\u001B[0m\u001B[0;34m,\u001B[0m \u001B[0mtype\u001B[0m\u001B[0;34m(\u001B[0m\u001B[0mdata\u001B[0m\u001B[0;34m)\u001B[0m\u001B[0;34m)\u001B[0m\u001B[0;34m\u001B[0m\u001B[0;34m\u001B[0m\u001B[0m\n\u001B[0m\u001B[1;32m   1886\u001B[0m         \u001B[0;32mif\u001B[0m \u001B[0mvalidate_features\u001B[0m\u001B[0;34m:\u001B[0m\u001B[0;34m\u001B[0m\u001B[0;34m\u001B[0m\u001B[0m\n\u001B[1;32m   1887\u001B[0m             \u001B[0mself\u001B[0m\u001B[0;34m.\u001B[0m\u001B[0m_validate_features\u001B[0m\u001B[0;34m(\u001B[0m\u001B[0mdata\u001B[0m\u001B[0;34m)\u001B[0m\u001B[0;34m\u001B[0m\u001B[0;34m\u001B[0m\u001B[0m\n",
      "\u001B[0;31mTypeError\u001B[0m: ('Expecting data to be a DMatrix object, got: ', <class 'pandas.core.frame.DataFrame'>)"
     ]
    }
   ],
   "source": [
    "from sklearn.calibration import CalibratedClassifierCV\n",
    "\n",
    "from macest.classification import models as clmod\n",
    "from macest.classification import plots as clplot\n",
    "\n",
    "macest_model = clmod.ModelWithConfidence(XGB_Model, X_conf_train, y_conf_train)\n",
    "\n",
    "macest_model.fit(X_cal, y_cal)\n",
    "\n",
    "preds = XGB_Model.predict(dtest)\n",
    "conf_preds = macest_model.predict_proba(dtest)\n",
    "rf_conf_preds = model.predict_proba(dtest)"
   ]
  },
  {
   "cell_type": "code",
   "execution_count": 33,
   "metadata": {
    "id": "QeNj2CKpz_gU",
    "pycharm": {
     "name": "#%%\n"
    }
   },
   "outputs": [
    {
     "ename": "NameError",
     "evalue": "name 'macest_model' is not defined",
     "output_type": "error",
     "traceback": [
      "\u001B[0;31m---------------------------------------------------------------------------\u001B[0m",
      "\u001B[0;31mNameError\u001B[0m                                 Traceback (most recent call last)",
      "\u001B[0;32m/var/folders/8k/kjcv8fg107n9xl077vfg2_8m0000gn/T/ipykernel_11350/3247930024.py\u001B[0m in \u001B[0;36m<module>\u001B[0;34m\u001B[0m\n\u001B[0;32m----> 1\u001B[0;31m \u001B[0mmacest_point_prediction_conf\u001B[0m \u001B[0;34m=\u001B[0m \u001B[0mmacest_model\u001B[0m\u001B[0;34m.\u001B[0m\u001B[0mpredict_confidence_of_point_prediction\u001B[0m\u001B[0;34m(\u001B[0m\u001B[0mX_test\u001B[0m\u001B[0;34m)\u001B[0m\u001B[0;34m\u001B[0m\u001B[0;34m\u001B[0m\u001B[0m\n\u001B[0m\u001B[1;32m      2\u001B[0m \u001B[0;34m\u001B[0m\u001B[0m\n\u001B[1;32m      3\u001B[0m \u001B[0mrf_point_prediction_conf\u001B[0m \u001B[0;34m=\u001B[0m \u001B[0mnp\u001B[0m\u001B[0;34m.\u001B[0m\u001B[0mamax\u001B[0m\u001B[0;34m(\u001B[0m\u001B[0mrf_conf_preds\u001B[0m\u001B[0;34m,\u001B[0m \u001B[0maxis\u001B[0m\u001B[0;34m=\u001B[0m\u001B[0;36m1\u001B[0m\u001B[0;34m)\u001B[0m\u001B[0;34m\u001B[0m\u001B[0;34m\u001B[0m\u001B[0m\n",
      "\u001B[0;31mNameError\u001B[0m: name 'macest_model' is not defined"
     ]
    }
   ],
   "source": [
    "macest_point_prediction_conf = macest_model.predict_confidence_of_point_prediction(X_test) \n",
    "                              \n",
    "rf_point_prediction_conf = np.amax(rf_conf_preds, axis=1)"
   ]
  },
  {
   "cell_type": "code",
   "execution_count": 34,
   "metadata": {
    "id": "8PzfX61xz_gU",
    "pycharm": {
     "name": "#%%\n"
    }
   },
   "outputs": [
    {
     "ename": "NameError",
     "evalue": "name 'rf_point_prediction_conf' is not defined",
     "output_type": "error",
     "traceback": [
      "\u001B[0;31m---------------------------------------------------------------------------\u001B[0m",
      "\u001B[0;31mNameError\u001B[0m                                 Traceback (most recent call last)",
      "\u001B[0;32m/var/folders/8k/kjcv8fg107n9xl077vfg2_8m0000gn/T/ipykernel_11350/3216481041.py\u001B[0m in \u001B[0;36m<module>\u001B[0;34m\u001B[0m\n\u001B[0;32m----> 1\u001B[0;31m clplot.plot_calibration_curve([rf_point_prediction_conf,\n\u001B[0m\u001B[1;32m      2\u001B[0m                                macest_point_prediction_conf], \n\u001B[1;32m      3\u001B[0m                               \u001B[0;34m[\u001B[0m\u001B[0;34m'Random Forest'\u001B[0m\u001B[0;34m,\u001B[0m \u001B[0;34m'MACE'\u001B[0m\u001B[0;34m]\u001B[0m\u001B[0;34m,\u001B[0m\u001B[0;34m\u001B[0m\u001B[0;34m\u001B[0m\u001B[0m\n\u001B[1;32m      4\u001B[0m                               \u001B[0mpreds\u001B[0m\u001B[0;34m,\u001B[0m\u001B[0;34m\u001B[0m\u001B[0;34m\u001B[0m\u001B[0m\n\u001B[1;32m      5\u001B[0m                               y_test)\n",
      "\u001B[0;31mNameError\u001B[0m: name 'rf_point_prediction_conf' is not defined"
     ]
    }
   ],
   "source": [
    "clplot.plot_calibration_curve([rf_point_prediction_conf,\n",
    "                               macest_point_prediction_conf], \n",
    "                              ['Random Forest', 'MACE'],\n",
    "                              preds,\n",
    "                              y_test)"
   ]
  },
  {
   "cell_type": "markdown",
   "metadata": {
    "id": "PsDqr40lz_gV",
    "pycharm": {
     "name": "#%% md\n"
    }
   },
   "source": [
    "### Let's compare calibration and forecast metrics"
   ]
  },
  {
   "cell_type": "code",
   "execution_count": null,
   "metadata": {
    "id": "l3xtXJUuz_gV"
   },
   "outputs": [],
   "source": [
    "clplot.plot_calibration_metrics([rf_point_prediction_conf, \n",
    "                                macest_point_prediction_conf], \n",
    "                              [ 'RF','MACE'], preds, y_test)"
   ]
  },
  {
   "cell_type": "code",
   "execution_count": null,
   "metadata": {
    "id": "OgARQbP0z_gV",
    "pycharm": {
     "name": "#%%\n"
    }
   },
   "outputs": [],
   "source": [
    "clplot.plot_forecast_metrics([rf_point_prediction_conf, \n",
    "                                macest_point_prediction_conf], \n",
    "                              [ 'RF','MACE'], preds, y_test)"
   ]
  },
  {
   "cell_type": "markdown",
   "metadata": {
    "id": "RVQ5qRcWz_gV",
    "pycharm": {
     "name": "#%% md\n"
    }
   },
   "source": [
    "## What does the surface learnt by the random forest  look like ?"
   ]
  },
  {
   "cell_type": "markdown",
   "metadata": {
    "id": "UOxH7boPz_gW",
    "pycharm": {
     "name": "#%% md\n"
    }
   },
   "source": [
    "#### As expected it is able to partition the space around the circles, it then extrapolates this surface and predicts anything outside of the inner circle as blue no matter how far we are from the data, this is probably what we want to happen.\n",
    "\n",
    "#### If we now look at the confidence plot we see that apart from the boundary, between the two circles the random forest is >90% confident. This high confident  is also extrapolated very far from the data, this is probably bad as we have no relevant data 20 standard deviations away from the data"
   ]
  },
  {
   "cell_type": "code",
   "execution_count": null,
   "metadata": {
    "id": "nrS_BIPwz_gW",
    "pycharm": {
     "name": "#%%\n"
    }
   },
   "outputs": [],
   "source": [
    "plot_prediction_conf_surface(3, 25, model, X_pp_train=X_pp_train, plot_training_data=False)"
   ]
  },
  {
   "cell_type": "code",
   "execution_count": null,
   "metadata": {
    "id": "OczOy_HO0vEk"
   },
   "outputs": [],
   "source": []
  },
  {
   "cell_type": "markdown",
   "metadata": {
    "id": "wuSwWSDfz_gW",
    "pycharm": {
     "name": "#%% md\n"
    }
   },
   "source": [
    "## Let's now compare those confidence estimates with MACEst"
   ]
  },
  {
   "cell_type": "markdown",
   "metadata": {
    "id": "JK5JdvGwz_gW"
   },
   "source": [
    "#### MACEst also learns to be very confident close to the data, however as we move further away from the data we see that the confidence drops off. At a certain point MACEst will return close an approximately uniform distribution, this suggests that we do not have the relevant data to be confident about the prediction"
   ]
  },
  {
   "cell_type": "code",
   "execution_count": null,
   "metadata": {
    "id": "YN3_4uUfz_gW",
    "pycharm": {
     "name": "#%%\n"
    }
   },
   "outputs": [],
   "source": [
    "plot_macest_sklearn_comparison_surface(3, 25, macest_model, model, X_pp_train=X_pp_train, plot_training_data=True)"
   ]
  },
  {
   "cell_type": "code",
   "execution_count": null,
   "metadata": {
    "id": "GfDTq_fdz_gW",
    "pycharm": {
     "name": "#%%\n"
    }
   },
   "outputs": [],
   "source": [
    "plot_macest_sklearn_comparison_surface(3, 25, macest_model, model, X_pp_train=X_pp_train, plot_training_data=True)"
   ]
  }
 ],
 "metadata": {
  "colab": {
   "name": "Bank Marketing XGBoost model.ipynb",
   "provenance": []
  },
  "kernelspec": {
   "display_name": "Python 3 (ipykernel)",
   "language": "python",
   "name": "python3"
  },
  "language_info": {
   "codemirror_mode": {
    "name": "ipython",
    "version": 3
   },
   "file_extension": ".py",
   "mimetype": "text/x-python",
   "name": "python",
   "nbconvert_exporter": "python",
   "pygments_lexer": "ipython3",
   "version": "3.7.9"
  }
 },
 "nbformat": 4,
 "nbformat_minor": 1
}